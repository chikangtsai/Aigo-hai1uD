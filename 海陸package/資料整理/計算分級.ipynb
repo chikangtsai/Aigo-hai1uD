{
 "cells": [
  {
   "cell_type": "code",
   "execution_count": null,
   "metadata": {},
   "outputs": [],
   "source": [
    "import pandas as pd\n",
    "df = pd.read_excel(\"C:\\\\Users\\\\GK\\\\Downloads\\\\機會單據P1.xlsx\")\n",
    "dg = pd.read_excel(\"C:\\\\Users\\\\GK\\\\Downloads\\\\機會單據P2.xlsx\")\n",
    "df = df.append(dg,ignore_index=True) \n",
    "df.isnull().sum()"
   ]
  },
  {
   "cell_type": "code",
   "execution_count": null,
   "metadata": {},
   "outputs": [],
   "source": [
    "df"
   ]
  },
  {
   "cell_type": "code",
   "execution_count": null,
   "metadata": {},
   "outputs": [],
   "source": [
    "columns_to_delete = ['類型','行業','機器數量','公司型態','商機行銷來源','客戶自主下單','機會擁有者']\n",
    "df.drop(columns_to_delete, inplace=True, axis=1)"
   ]
  },
  {
   "cell_type": "code",
   "execution_count": null,
   "metadata": {},
   "outputs": [],
   "source": [
    "df.info()"
   ]
  },
  {
   "cell_type": "code",
   "execution_count": null,
   "metadata": {},
   "outputs": [],
   "source": [
    "df = df.sort_values(by= ['帳戶名稱','結帳日期']).reset_index(drop=True)\n",
    "#沒談成的項大可以drop"
   ]
  },
  {
   "cell_type": "code",
   "execution_count": null,
   "metadata": {},
   "outputs": [],
   "source": [
    "df.loc[df['總價 貨幣'] == 'USD', '總價'] = 29.5* df.loc[df['總價 貨幣'] == 'USD', '總價']\n",
    "df.loc[df['總價 貨幣'] == 'USD', '總價 貨幣'] = 'TWD'"
   ]
  },
  {
   "cell_type": "code",
   "execution_count": null,
   "metadata": {},
   "outputs": [],
   "source": [
    "df['auto_index'] = df['分級'].str.slice(stop=1)"
   ]
  },
  {
   "cell_type": "code",
   "execution_count": null,
   "metadata": {},
   "outputs": [],
   "source": [
    "import math\n",
    "df['diff'] = df.groupby('帳戶名稱')['結帳日期'].transform(lambda x: math.ceil( ((x.max()-x.min()).days+1)/365 ))"
   ]
  },
  {
   "cell_type": "code",
   "execution_count": null,
   "metadata": {},
   "outputs": [],
   "source": [
    "df.groupby(by=['帳戶名稱']).sum().groupby(level=[0]).cumsum()['總價'] # check"
   ]
  },
  {
   "cell_type": "code",
   "execution_count": null,
   "metadata": {},
   "outputs": [],
   "source": [
    "df['acc_money'] = df.groupby(by=['帳戶名稱'])['總價'].transform(lambda x: sum(x))"
   ]
  },
  {
   "cell_type": "code",
   "execution_count": null,
   "metadata": {},
   "outputs": [],
   "source": [
    "df['avg_money'] = round(df['acc_money'] / df['diff'],2)"
   ]
  },
  {
   "cell_type": "code",
   "execution_count": null,
   "metadata": {},
   "outputs": [],
   "source": [
    "bins = [-1,100000,400000,700000,20000000]\n",
    "group_names = ['D', 'C', 'B', 'A']\n",
    "df['self_index'] = pd.cut(df['avg_money'], bins, labels=group_names)"
   ]
  },
  {
   "cell_type": "code",
   "execution_count": null,
   "metadata": {},
   "outputs": [],
   "source": [
    "df.head(3)"
   ]
  },
  {
   "cell_type": "code",
   "execution_count": null,
   "metadata": {},
   "outputs": [],
   "source": [
    "df['self_index'].isnull().sum()"
   ]
  },
  {
   "cell_type": "code",
   "execution_count": null,
   "metadata": {},
   "outputs": [],
   "source": [
    "df [ df['auto_index'] != df['self_index'] ]['auto_index'].isnull().sum() - df['auto_index'].isnull().sum()"
   ]
  },
  {
   "cell_type": "code",
   "execution_count": null,
   "metadata": {},
   "outputs": [],
   "source": [
    "df['分級'] = df['self_index']\n",
    "# df.drop(['auto_index','diff','self_index','acc_money'], inplace=True, axis=1)"
   ]
  },
  {
   "cell_type": "code",
   "execution_count": null,
   "metadata": {},
   "outputs": [],
   "source": [
    "df1 = df[df['總價'] != 0]\n",
    "df1[df1['acc_money'].isnull() ]['帳戶名稱'].unique()"
   ]
  },
  {
   "cell_type": "code",
   "execution_count": null,
   "metadata": {},
   "outputs": [],
   "source": [
    "ee = df1[df1['帳戶名稱']=='協正金屬實業有限公司']\n",
    "df1.loc[df1['帳戶名稱']=='協正金屬實業有限公司', 'acc_money'] = ee['總價'].sum()\n",
    "df1.loc[df1['帳戶名稱']=='協正金屬實業有限公司', 'avg_money'] = ee['總價'].sum()/int(df1[df1['帳戶名稱']=='協正金屬實業有限公司']['diff'].head(1))"
   ]
  },
  {
   "cell_type": "code",
   "execution_count": null,
   "metadata": {},
   "outputs": [],
   "source": [
    "cc = df1[df1['帳戶名稱']=='億鈞有限公司'] \n",
    "df1.loc[df1['帳戶名稱']=='億鈞有限公司', 'acc_money'] = cc['總價'].sum()\n",
    "df1.loc[df1['帳戶名稱']=='億鈞有限公司', 'avg_money'] = cc['總價'].sum()/int(df1[df1['帳戶名稱']=='億鈞有限公司']['diff'].head(1))"
   ]
  },
  {
   "cell_type": "code",
   "execution_count": null,
   "metadata": {},
   "outputs": [],
   "source": [
    "bins = [-1,100000,400000,700000,20000000]\n",
    "group_names = ['D', 'C', 'B', 'A']\n",
    "df1['self_index'] = pd.cut(df1['avg_money'], bins, labels=group_names)"
   ]
  },
  {
   "cell_type": "code",
   "execution_count": null,
   "metadata": {},
   "outputs": [],
   "source": [
    "df1['分級'] = df1['self_index']"
   ]
  },
  {
   "cell_type": "code",
   "execution_count": null,
   "metadata": {},
   "outputs": [],
   "source": [
    "df1['self_index'].isnull().sum()"
   ]
  },
  {
   "cell_type": "code",
   "execution_count": null,
   "metadata": {},
   "outputs": [],
   "source": [
    "df1 [ df1['auto_index'] != df1['self_index'] ]['auto_index'].isnull().sum() - df1['auto_index'].isnull().sum()"
   ]
  },
  {
   "cell_type": "code",
   "execution_count": null,
   "metadata": {},
   "outputs": [],
   "source": [
    "df2 = df1[df1['數量'] <0]\n",
    "df1 = df1[df1['數量'] >0]\n",
    "\n",
    "df1 = df1.sort_values(by= ['帳戶名稱','結帳日期','機會名稱']).reset_index(drop=True)\n",
    "df1.to_csv(\"Part1.csv\")\n",
    "df2 = df2.sort_values(by= ['帳戶名稱','結帳日期','機會名稱']).reset_index(drop=True)\n",
    "df2.to_csv(\"Part2.csv\")\n"
   ]
  },
  {
   "cell_type": "code",
   "execution_count": null,
   "metadata": {},
   "outputs": [],
   "source": [
    "df1['comb'] = df1['帳戶名稱']+df1['產品代碼']\n",
    "df1=df1[df1.comb.duplicated(keep=False)]\n",
    "df1.drop('comb', inplace=True, axis=1)\n",
    "df1 = df1.sort_values(by= ['帳戶名稱','結帳日期','機會名稱']).reset_index(drop=True)\n",
    "df1.to_csv(\"Part3D.csv\")"
   ]
  },
  {
   "cell_type": "code",
   "execution_count": null,
   "metadata": {},
   "outputs": [],
   "source": []
  },
  {
   "cell_type": "code",
   "execution_count": null,
   "metadata": {},
   "outputs": [],
   "source": [
    "df1[df1['分級'].isnull()]"
   ]
  },
  {
   "cell_type": "code",
   "execution_count": null,
   "metadata": {},
   "outputs": [],
   "source": [
    "df1.head()"
   ]
  },
  {
   "cell_type": "code",
   "execution_count": null,
   "metadata": {},
   "outputs": [],
   "source": [
    "#和原本不同的項"
   ]
  },
  {
   "cell_type": "code",
   "execution_count": null,
   "metadata": {},
   "outputs": [],
   "source": [
    "df1 [ (df1['auto_index'] != df1['self_index'] ) & ~( df1['auto_index'].isnull() ) ]"
   ]
  },
  {
   "cell_type": "code",
   "execution_count": null,
   "metadata": {},
   "outputs": [],
   "source": []
  }
 ],
 "metadata": {
  "kernelspec": {
   "display_name": "Python 3",
   "language": "python",
   "name": "python3"
  },
  "language_info": {
   "codemirror_mode": {
    "name": "ipython",
    "version": 3
   },
   "file_extension": ".py",
   "mimetype": "text/x-python",
   "name": "python",
   "nbconvert_exporter": "python",
   "pygments_lexer": "ipython3",
   "version": "3.7.4"
  }
 },
 "nbformat": 4,
 "nbformat_minor": 2
}
