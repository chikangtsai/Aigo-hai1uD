{
 "cells": [
  {
   "cell_type": "raw",
   "metadata": {},
   "source": [
    "import pandas as pd"
   ]
  },
  {
   "cell_type": "code",
   "execution_count": null,
   "metadata": {},
   "outputs": [],
   "source": [
    "df = pd.read_csv(\"Part3D.csv\", index_col= False)\n",
    "del_list = [\"行業\",\"機器數量\",\"公司型態\",\"商機行銷來源\",\"機會擁有者\"]\n",
    "for i in del_list:\n",
    "    del df[i]"
   ]
  },
  {
   "cell_type": "code",
   "execution_count": null,
   "metadata": {},
   "outputs": [],
   "source": [
    "df.head()"
   ]
  },
  {
   "cell_type": "code",
   "execution_count": null,
   "metadata": {},
   "outputs": [],
   "source": [
    "df.info()"
   ]
  },
  {
   "cell_type": "code",
   "execution_count": null,
   "metadata": {},
   "outputs": [],
   "source": [
    "df[  (df[\"產品描述\"].isnull()) &( df[\"產品名稱\"].isnull() == False ) ]"
   ]
  },
  {
   "cell_type": "code",
   "execution_count": null,
   "metadata": {},
   "outputs": [],
   "source": [
    "ggyy = df[  (df[\"產品描述\"].isnull()) &( df[\"產品名稱\"].isnull() == False ) ]\n",
    "from IPython.core.display import HTML\n",
    "display(HTML((ggyy).to_html()))"
   ]
  },
  {
   "cell_type": "code",
   "execution_count": null,
   "metadata": {},
   "outputs": [],
   "source": [
    "idx = df[(df[\"產品名稱\"] == \"WORLD NO2 滑道油\")&(df[\"規格\"] == \"18L\")].index\n",
    "for i in idx:\n",
    "    df.loc[i,\"產品描述\"] = \"滑道油類\""
   ]
  },
  {
   "cell_type": "code",
   "execution_count": null,
   "metadata": {},
   "outputs": [],
   "source": [
    "for i in idx:\n",
    "    df.loc[i,\"產品描述\"] = \"滑道油類\""
   ]
  },
  {
   "cell_type": "code",
   "execution_count": null,
   "metadata": {},
   "outputs": [],
   "source": [
    "idx = df[    ( df[\"產品名稱\"].isnull() ) ].index\n",
    "for i in idx:\n",
    "    df.loc[i,\"產品名稱\"] = \"服務\""
   ]
  },
  {
   "cell_type": "code",
   "execution_count": null,
   "metadata": {},
   "outputs": [],
   "source": [
    "df.info()"
   ]
  },
  {
   "cell_type": "code",
   "execution_count": null,
   "metadata": {},
   "outputs": [],
   "source": [
    "len( df[df[\"帳戶名稱\"] == '利威精機廠-HL'].index)"
   ]
  },
  {
   "cell_type": "code",
   "execution_count": null,
   "metadata": {},
   "outputs": [],
   "source": [
    "for i in df[\"帳戶名稱\"].unique():\n",
    "    if len( df[df[\"帳戶名稱\"] == i].index) >1:\n",
    "        for j in df[df[\"帳戶名稱\"] == i].index:\n",
    "            df.loc[j,'二元類型'] = '舊客戶'\n",
    "    else:\n",
    "        df.loc[df[df[\"帳戶名稱\"] == i].index[0],'二元類型'] = '新客戶'"
   ]
  },
  {
   "cell_type": "code",
   "execution_count": null,
   "metadata": {},
   "outputs": [],
   "source": [
    "df[df[\"產品名稱\"].isnull() ]"
   ]
  },
  {
   "cell_type": "code",
   "execution_count": null,
   "metadata": {},
   "outputs": [],
   "source": [
    "for i in df[\"帳戶名稱\"].unique():\n",
    "    if len( df[df[\"帳戶名稱\"] == i].index) >1:\n",
    "        for j in df[df[\"帳戶名稱\"] == i].index:\n",
    "            if pd.isna(df.loc[j,'類型'] ):\n",
    "                df.loc[j,'類型'] = '舊客戶'\n",
    "    else:\n",
    "        if pd.isna(df.loc[j,'類型'] ):\n",
    "            df.loc[df[df[\"帳戶名稱\"] == i].index[0],'類型'] = '新客戶'"
   ]
  },
  {
   "cell_type": "code",
   "execution_count": null,
   "metadata": {},
   "outputs": [],
   "source": [
    "for i in df[df['類型'].isnull()].index:\n",
    "    df.loc[i,\"類型\"] = \"新客戶\""
   ]
  },
  {
   "cell_type": "code",
   "execution_count": null,
   "metadata": {},
   "outputs": [],
   "source": [
    "df.to_csv(\"Part4.csv\",index=False)"
   ]
  },
  {
   "cell_type": "code",
   "execution_count": null,
   "metadata": {},
   "outputs": [],
   "source": [
    "df = pd.read_csv(\"Part4.csv\")"
   ]
  },
  {
   "cell_type": "code",
   "execution_count": null,
   "metadata": {},
   "outputs": [],
   "source": [
    "import re"
   ]
  },
  {
   "cell_type": "code",
   "execution_count": null,
   "metadata": {},
   "outputs": [],
   "source": [
    "df.loc[df['總價 貨幣'] == 'USD', '總價'] = 29.5* df.loc[df['總價 貨幣'] == 'USD', '總價']\n",
    "df.loc[df['總價 貨幣'] == 'USD', '總價 貨幣'] = 'TWD'"
   ]
  },
  {
   "cell_type": "code",
   "execution_count": null,
   "metadata": {},
   "outputs": [],
   "source": [
    "df['auto_index'] = df['分級'].str.slice(stop=1)\n",
    "df['分級'] = df['auto_index']"
   ]
  },
  {
   "cell_type": "code",
   "execution_count": null,
   "metadata": {},
   "outputs": [],
   "source": [
    "df.info()"
   ]
  },
  {
   "cell_type": "code",
   "execution_count": null,
   "metadata": {},
   "outputs": [],
   "source": [
    "import datetime\n",
    "df['結帳日期'] = pd.to_datetime(df['結帳日期'])"
   ]
  },
  {
   "cell_type": "code",
   "execution_count": null,
   "metadata": {},
   "outputs": [],
   "source": [
    "import math\n",
    "df['diff'] = df.groupby('帳戶名稱')['結帳日期'].transform(lambda x: math.ceil( ((x.max()-x.min()).days+1)/365 ))\n",
    "df['acc_money'] = df.groupby(by=['帳戶名稱'])['總價'].transform(lambda x: sum(x))\n",
    "df['avg_money'] = round(df['acc_money'] / df['diff'],2)\n",
    "bins = [-1,100000,400000,700000,20000000]\n",
    "group_names = ['D', 'C', 'B', 'A']\n",
    "df['self_index'] = pd.cut(df['avg_money'], bins, labels=group_names)"
   ]
  },
  {
   "cell_type": "code",
   "execution_count": null,
   "metadata": {},
   "outputs": [],
   "source": [
    "df1 = df[df['總價'] != 0]\n",
    "df1[df1['acc_money'].isnull() ]['帳戶名稱'].unique()"
   ]
  },
  {
   "cell_type": "code",
   "execution_count": null,
   "metadata": {},
   "outputs": [],
   "source": [
    "cc = df[df['帳戶名稱']=='億鈞有限公司'] \n",
    "df.loc[df['帳戶名稱']=='億鈞有限公司', 'acc_money'] = cc['總價'].sum()\n",
    "df.loc[df['帳戶名稱']=='億鈞有限公司', 'avg_money'] = cc['總價'].sum()/int(df[df['帳戶名稱']=='億鈞有限公司']['diff'].head(1))"
   ]
  },
  {
   "cell_type": "code",
   "execution_count": null,
   "metadata": {},
   "outputs": [],
   "source": [
    "ee = df[df['帳戶名稱']=='協正金屬實業有限公司']\n",
    "df.loc[df['帳戶名稱']=='協正金屬實業有限公司', 'acc_money'] = ee['總價'].sum()\n",
    "df.loc[df['帳戶名稱']=='協正金屬實業有限公司', 'avg_money'] = ee['總價'].sum()/int(df[df['帳戶名稱']=='協正金屬實業有限公司']['diff'].head(1))"
   ]
  },
  {
   "cell_type": "code",
   "execution_count": null,
   "metadata": {},
   "outputs": [],
   "source": [
    "bins = [-1,100000,400000,700000,20000000]\n",
    "group_names = ['D', 'C', 'B', 'A']\n",
    "df['self_index'] = pd.cut(df['avg_money'], bins, labels=group_names)"
   ]
  },
  {
   "cell_type": "code",
   "execution_count": null,
   "metadata": {},
   "outputs": [],
   "source": [
    "df[df['avg_money']<0].index"
   ]
  },
  {
   "cell_type": "code",
   "execution_count": null,
   "metadata": {},
   "outputs": [],
   "source": [
    "for i in df[df['avg_money']<0].index:\n",
    "    df = df.drop(i)"
   ]
  },
  {
   "cell_type": "code",
   "execution_count": null,
   "metadata": {},
   "outputs": [],
   "source": [
    "for i in df[df['分級'].isnull()].index:\n",
    "    df.loc[i,'分級'] = df.loc[i,'self_index']"
   ]
  },
  {
   "cell_type": "code",
   "execution_count": null,
   "metadata": {},
   "outputs": [],
   "source": [
    "df.info()"
   ]
  },
  {
   "cell_type": "code",
   "execution_count": null,
   "metadata": {},
   "outputs": [],
   "source": [
    "for i in df[(df['avg_money']==0) &(df['auto_index'].isnull())].index:\n",
    "    df.loc[i,'auto_index']  = df.loc[i,'self_index']"
   ]
  },
  {
   "cell_type": "code",
   "execution_count": null,
   "metadata": {},
   "outputs": [],
   "source": [
    "for i in df[ (df[\"總價 貨幣\"].isnull()==False) & (df[\"總價\"].isnull()) ].index:\n",
    "    df = df.drop(i)"
   ]
  },
  {
   "cell_type": "code",
   "execution_count": null,
   "metadata": {},
   "outputs": [],
   "source": [
    "for i in df[df[\"產品代碼\"].isnull()].index:\n",
    "    df.loc[i,'產品代碼'] = 'serv'"
   ]
  },
  {
   "cell_type": "code",
   "execution_count": null,
   "metadata": {},
   "outputs": [],
   "source": [
    "del df[\"總價 貨幣\"]"
   ]
  },
  {
   "cell_type": "code",
   "execution_count": null,
   "metadata": {},
   "outputs": [],
   "source": [
    "df.info()"
   ]
  },
  {
   "cell_type": "code",
   "execution_count": null,
   "metadata": {},
   "outputs": [],
   "source": [
    "df.to_csv(\"Part4.csv\",index=False)"
   ]
  },
  {
   "cell_type": "code",
   "execution_count": null,
   "metadata": {},
   "outputs": [],
   "source": [
    "df = pd.read_csv(\"Part4.csv\")"
   ]
  },
  {
   "cell_type": "code",
   "execution_count": null,
   "metadata": {},
   "outputs": [],
   "source": [
    "values = {'數量': \"1\", '規格': \"1\"}\n",
    "df = df.fillna(value=values)"
   ]
  },
  {
   "cell_type": "code",
   "execution_count": null,
   "metadata": {},
   "outputs": [],
   "source": [
    "def huanD(str_text):\n",
    "    try:\n",
    "        return re.findall('\\d+',str_text)[0]\n",
    "    except IndexError:\n",
    "        return \"1\"\n",
    "\n",
    "for i in range(48616):\n",
    "    df.loc[i,\"規格\"] = huanD(df[\"規格\"][i])\n",
    "    df.loc[i,\"總量\"] = int(df.loc[i,\"規格\"])*int(df.loc[i,\"數量\"])"
   ]
  },
  {
   "cell_type": "code",
   "execution_count": null,
   "metadata": {},
   "outputs": [],
   "source": [
    "df.info()"
   ]
  },
  {
   "cell_type": "code",
   "execution_count": null,
   "metadata": {},
   "outputs": [],
   "source": [
    "df = df.sort_values(by= ['帳戶名稱','結帳日期','機會名稱']).reset_index(drop=True)"
   ]
  },
  {
   "cell_type": "code",
   "execution_count": null,
   "metadata": {},
   "outputs": [],
   "source": [
    "df.to_csv(\"Part4.csv\",index=False)\n",
    "df = pd.read_csv(\"Part4.csv\")"
   ]
  },
  {
   "cell_type": "code",
   "execution_count": null,
   "metadata": {},
   "outputs": [],
   "source": [
    "freq_list=[]\n",
    "for i in range(dfa2.shape[0]):\n",
    "    if i==dfa2.shape[0]-1:\n",
    "        freq=np.nan\n",
    "    else:\n",
    "        if dfa_firm_date.iloc[i,0]!=dfa_firm_date.iloc[i+1,0]:\n",
    "            freq=np.nan\n",
    "        else:\n",
    "            interval=dfa_firm_date.iloc[i+1,1]-dfa_firm_date.iloc[i,1]\n",
    "            freq=interval.days\n",
    "    freq_list.append(freq)\n",
    "dfa_firm_date['freq']=freq_list"
   ]
  },
  {
   "cell_type": "markdown",
   "metadata": {},
   "source": [
    "# 分三個： 1.公司sum     2.產品sum    3.公司產品sum"
   ]
  },
  {
   "cell_type": "code",
   "execution_count": null,
   "metadata": {},
   "outputs": [],
   "source": [
    "#彌補新客戶被打兩次單變舊客戶的情況\n",
    "df['comb'] = df['帳戶名稱']+\"&\"+df['結帳日期']"
   ]
  },
  {
   "cell_type": "code",
   "execution_count": null,
   "metadata": {},
   "outputs": [],
   "source": [
    "len(df[df[\"帳戶名稱\"] == \"龍馬精密科技股份有限公司\"][\"comb\"].unique())"
   ]
  },
  {
   "cell_type": "code",
   "execution_count": null,
   "metadata": {},
   "outputs": [],
   "source": [
    "df[\"二元類型\"] = '新客戶'\n",
    "for i in df[\"帳戶名稱\"].unique():\n",
    "    if len( df[df[\"帳戶名稱\"] == i][\"comb\"].unique()) >1:\n",
    "        for j in df[df[\"帳戶名稱\"] == i].index:\n",
    "            df.loc[j,'二元類型'] = '舊客戶'"
   ]
  },
  {
   "cell_type": "code",
   "execution_count": null,
   "metadata": {},
   "outputs": [],
   "source": [
    "df = pd.read_csv(\"Part4.csv\")"
   ]
  },
  {
   "cell_type": "code",
   "execution_count": null,
   "metadata": {},
   "outputs": [],
   "source": [
    "for i in df[df[\"二元類型\"] == '新客戶'].index:\n",
    "    df.loc[i,\"帳戶名稱\"] ='1COMPANY'"
   ]
  },
  {
   "cell_type": "code",
   "execution_count": null,
   "metadata": {},
   "outputs": [],
   "source": [
    "del df['comb']"
   ]
  },
  {
   "cell_type": "code",
   "execution_count": null,
   "metadata": {},
   "outputs": [],
   "source": [
    "df = df.sort_values(by= ['帳戶名稱','結帳日期','產品名稱']).reset_index(drop=True)"
   ]
  },
  {
   "cell_type": "code",
   "execution_count": null,
   "metadata": {},
   "outputs": [],
   "source": [
    "df.head(1)"
   ]
  },
  {
   "cell_type": "code",
   "execution_count": null,
   "metadata": {},
   "outputs": [],
   "source": [
    "df = df.sort_values(by= ['帳戶名稱','結帳日期','產品名稱']).reset_index(drop=True)"
   ]
  },
  {
   "cell_type": "code",
   "execution_count": null,
   "metadata": {},
   "outputs": [],
   "source": [
    "df['comb'] = df['帳戶名稱']+\"&\"+df['產品名稱']"
   ]
  },
  {
   "cell_type": "code",
   "execution_count": null,
   "metadata": {},
   "outputs": [],
   "source": [
    "df.head(1)"
   ]
  },
  {
   "cell_type": "markdown",
   "metadata": {},
   "source": [
    "# 各種公式開始"
   ]
  },
  {
   "cell_type": "code",
   "execution_count": null,
   "metadata": {},
   "outputs": [],
   "source": [
    "#REC (答案)\n",
    "import numpy as np\n",
    "df['結帳日期'] = pd.to_datetime(df['結帳日期'])\n",
    "df = df.sort_values(by= ['comb','結帳日期']).reset_index(drop=True)\n",
    "freq_list=[]\n",
    "for i in range(df.shape[0]):\n",
    "    if i == df.shape[0]-1:\n",
    "        freq = np.nan\n",
    "    else:\n",
    "        if df.iloc[i,20] != df.iloc[i+1,20]:\n",
    "            freq = np.nan\n",
    "        else:\n",
    "            interval=df.iloc[i+1,5]-df.iloc[i,5]\n",
    "            freq = interval.days \n",
    "    freq_list.append(freq)\n",
    "df['rec']=freq_list"
   ]
  },
  {
   "cell_type": "code",
   "execution_count": null,
   "metadata": {},
   "outputs": [],
   "source": [
    "#AVERAGE\n",
    "def Average(lst): \n",
    "    return sum(lst) / len(lst)\n",
    "\n",
    "freq_list=[]\n",
    "record = []\n",
    "for i in range(df.shape[0]):\n",
    "    if i == 0:\n",
    "        freq = np.nan\n",
    "        record = []\n",
    "    else:\n",
    "        if df.iloc[i,20] != df.iloc[i-1,20]:\n",
    "            freq = np.nan\n",
    "            record = []\n",
    "        else:\n",
    "            interval=df.iloc[i,5]-df.iloc[i-1,5]\n",
    "            record = record + [interval.days]\n",
    "            freq = int(Average(record)) \n",
    "    freq_list.append(freq)\n",
    "df['avg']=freq_list"
   ]
  },
  {
   "cell_type": "code",
   "execution_count": null,
   "metadata": {},
   "outputs": [],
   "source": [
    "#MAX\n",
    "freq_list=[]\n",
    "record = []\n",
    "for i in range(df.shape[0]):\n",
    "    if i == 0:\n",
    "        freq = np.nan\n",
    "        record = []\n",
    "    else:\n",
    "        if df.iloc[i,20] != df.iloc[i-1,20]:\n",
    "            freq = np.nan\n",
    "            record = []\n",
    "        else:\n",
    "            interval=df.iloc[i,5]-df.iloc[i-1,5]\n",
    "            record = record + [interval.days]\n",
    "            freq = int(max(record)) \n",
    "    freq_list.append(freq)\n",
    "df['max']=freq_list"
   ]
  },
  {
   "cell_type": "code",
   "execution_count": null,
   "metadata": {},
   "outputs": [],
   "source": [
    "#MEDIAN\n",
    "import statistics\n",
    "freq_list=[]\n",
    "record = []\n",
    "for i in range(df.shape[0]):\n",
    "    if i == 0:\n",
    "        freq = np.nan\n",
    "        record = []\n",
    "    else:\n",
    "        if df.iloc[i,20] != df.iloc[i-1,20]:\n",
    "            freq = np.nan\n",
    "            record = []\n",
    "        else:\n",
    "            interval=df.iloc[i,5]-df.iloc[i-1,5]\n",
    "            record = record + [interval.days]\n",
    "            freq = int(statistics.median(record))\n",
    "    freq_list.append(freq)\n",
    "df['med']=freq_list"
   ]
  },
  {
   "cell_type": "code",
   "execution_count": null,
   "metadata": {},
   "outputs": [],
   "source": [
    "#FREQUENCY\n",
    "freq_list=[]\n",
    "record = 0\n",
    "for i in range(df.shape[0]):\n",
    "    if i == 0:\n",
    "        freq = 1\n",
    "        record = 1\n",
    "    else:\n",
    "        if df.iloc[i,20] != df.iloc[i-1,20]:\n",
    "            freq = 1\n",
    "            record = 1\n",
    "        else:\n",
    "            record = record + 1\n",
    "            freq = int(record)\n",
    "    freq_list.append(freq)\n",
    "df['freq']=freq_list"
   ]
  },
  {
   "cell_type": "code",
   "execution_count": null,
   "metadata": {},
   "outputs": [],
   "source": [
    "df.to_csv(\"idx_all.csv\",index=False)\n",
    "df = pd.read_csv(\"idx_all.csv\")"
   ]
  },
  {
   "cell_type": "code",
   "execution_count": null,
   "metadata": {},
   "outputs": [],
   "source": [
    "df.columns"
   ]
  },
  {
   "cell_type": "code",
   "execution_count": null,
   "metadata": {},
   "outputs": [],
   "source": [
    "#MOVING AVERAGE 1\n",
    "freq_list=[]\n",
    "record = []\n",
    "for i in range(df.shape[0]):\n",
    "    if i == 0 :\n",
    "        freq = np.nan\n",
    "    else:\n",
    "        if df.iloc[i,20] != df.iloc[i-1,20]:\n",
    "            freq = np.nan\n",
    "        else:\n",
    "            freq = df.iloc[i-1,21]\n",
    "    freq_list.append(freq)\n",
    "df['MA1']=freq_list"
   ]
  },
  {
   "cell_type": "code",
   "execution_count": null,
   "metadata": {},
   "outputs": [],
   "source": [
    "#MOVING AVERAGE 2\n",
    "freq_list=[]\n",
    "record = []\n",
    "for i in range(df.shape[0]):\n",
    "    if df.iloc[i,25] == 1 :\n",
    "        freq = np.nan\n",
    "        record = [df.iloc[i,21]]\n",
    "        \n",
    "    elif df.iloc[i,25] == 2 :\n",
    "        freq = np.nan\n",
    "        record = record+[df.iloc[i,21]] \n",
    "    else:\n",
    "\n",
    "        freq = int((record[-2]+record[-1])/2)\n",
    "        record = record + [df.iloc[i,21]] \n",
    "    freq_list.append(freq)\n",
    "df['MA2']=freq_list"
   ]
  },
  {
   "cell_type": "code",
   "execution_count": null,
   "metadata": {},
   "outputs": [],
   "source": [
    "#MOVING AVERAGE 3\n",
    "freq_list=[]\n",
    "record = []\n",
    "for i in range(df.shape[0]):\n",
    "    if df.iloc[i,25] == 1 :\n",
    "        freq = np.nan\n",
    "        record = [df.iloc[i,21]]\n",
    "        \n",
    "    elif df.iloc[i,25] == 2 or df.iloc[i,25] == 3 :\n",
    "        freq = np.nan\n",
    "        record = record+[df.iloc[i,21]] \n",
    "\n",
    "    else:\n",
    "        freq = int((record[-3]+record[-2]+record[-1])/3)\n",
    "        record = record + [df.iloc[i,21]] \n",
    "\n",
    "    freq_list.append(freq)\n",
    "df['MA3']=freq_list"
   ]
  },
  {
   "cell_type": "code",
   "execution_count": null,
   "metadata": {},
   "outputs": [],
   "source": [
    "#MOVING AVERAGE 4\n",
    "freq_list=[]\n",
    "record = []\n",
    "for i in range(df.shape[0]):\n",
    "    if df.iloc[i,25] == 1 :\n",
    "        freq = np.nan\n",
    "        record = [df.iloc[i,21]]\n",
    "        \n",
    "    elif df.iloc[i,25] == 2 or df.iloc[i,25] == 3 or df.iloc[i,25] == 4:\n",
    "        freq = np.nan\n",
    "        record = record+[df.iloc[i,21]] \n",
    "\n",
    "    else:\n",
    "        freq = int((record[-4]+record[-3]+record[-2]+record[-1])/4)\n",
    "        record = record + [df.iloc[i,21]] \n",
    "\n",
    "    freq_list.append(freq)\n",
    "df['MA4']=freq_list"
   ]
  },
  {
   "cell_type": "code",
   "execution_count": null,
   "metadata": {},
   "outputs": [],
   "source": [
    "#MOVING AVERAGE 5\n",
    "freq_list=[]\n",
    "record = []\n",
    "for i in range(df.shape[0]):\n",
    "    if df.iloc[i,25] == 1 :\n",
    "        freq = np.nan\n",
    "        record = [df.iloc[i,21]]\n",
    "        \n",
    "    elif df.iloc[i,25] == 2 or df.iloc[i,25] == 3 or df.iloc[i,25] == 4 or df.iloc[i,25] == 5:\n",
    "        freq = np.nan\n",
    "        record = record+[df.iloc[i,21]] \n",
    "\n",
    "    else:\n",
    "        freq = int((record[-5]+record[-4]+record[-3]+record[-2]+record[-1])/5)\n",
    "        record = record + [df.iloc[i,21]] \n",
    "\n",
    "    freq_list.append(freq)\n",
    "df['MA5']=freq_list"
   ]
  },
  {
   "cell_type": "code",
   "execution_count": null,
   "metadata": {},
   "outputs": [],
   "source": [
    "df.to_csv(\"idx_all.csv\",index=False)\n",
    "df = pd.read_csv(\"idx_all.csv\")"
   ]
  },
  {
   "cell_type": "markdown",
   "metadata": {},
   "source": [
    "# 下面一位"
   ]
  },
  {
   "cell_type": "code",
   "execution_count": null,
   "metadata": {},
   "outputs": [],
   "source": [
    "df.head(5)"
   ]
  },
  {
   "cell_type": "code",
   "execution_count": null,
   "metadata": {},
   "outputs": [],
   "source": [
    "df2=df.groupby(['帳戶名稱','結帳日期']).sum()\n",
    "for i in ['循環天數','diff','acc_money','avg_money']:\n",
    "    del df2[i]"
   ]
  },
  {
   "cell_type": "code",
   "execution_count": null,
   "metadata": {},
   "outputs": [],
   "source": [
    "for i in df2[df2['客戶自主下單']>0].index:\n",
    "    df2.loc[i,'客戶自主下單' ] =1"
   ]
  },
  {
   "cell_type": "code",
   "execution_count": null,
   "metadata": {},
   "outputs": [],
   "source": [
    "df2 = df2.reset_index(level=['帳戶名稱','結帳日期'])"
   ]
  },
  {
   "cell_type": "code",
   "execution_count": null,
   "metadata": {},
   "outputs": [],
   "source": [
    "df2.columns"
   ]
  },
  {
   "cell_type": "code",
   "execution_count": null,
   "metadata": {},
   "outputs": [],
   "source": [
    "#REC (答案)\n",
    "import numpy as np\n",
    "df2['結帳日期'] = pd.to_datetime(df2['結帳日期'])\n",
    "freq_list=[]\n",
    "for i in range(df2.shape[0]):\n",
    "    if i == df2.shape[0]-1:\n",
    "        freq = np.nan\n",
    "    else:\n",
    "        if df2.iloc[i,0] != df2.iloc[i+1,0]:\n",
    "            freq = np.nan\n",
    "        else:\n",
    "            interval=df2.iloc[i+1,1]-df2.iloc[i,1]\n",
    "            freq = interval.days \n",
    "    freq_list.append(freq)\n",
    "df2['rec']=freq_list"
   ]
  },
  {
   "cell_type": "code",
   "execution_count": null,
   "metadata": {},
   "outputs": [],
   "source": [
    "#AVERAGE\n",
    "def Average(lst): \n",
    "    return sum(lst) / len(lst)\n",
    "\n",
    "freq_list=[]\n",
    "record = []\n",
    "for i in range(df2.shape[0]):\n",
    "    if i == 0:\n",
    "        freq = np.nan\n",
    "        record = []\n",
    "    else:\n",
    "        if df2.iloc[i,0] != df2.iloc[i-1,0]:\n",
    "            freq = np.nan\n",
    "            record = []\n",
    "        else:\n",
    "            interval=df2.iloc[i,1]-df2.iloc[i-1,1]\n",
    "            record = record + [interval.days]\n",
    "            freq = int(Average(record)) \n",
    "    freq_list.append(freq)\n",
    "df2['avg']=freq_list"
   ]
  },
  {
   "cell_type": "code",
   "execution_count": null,
   "metadata": {},
   "outputs": [],
   "source": [
    "#MAX\n",
    "freq_list=[]\n",
    "record = []\n",
    "for i in range(df2.shape[0]):\n",
    "    if i == 0:\n",
    "        freq = np.nan\n",
    "        record = []\n",
    "    else:\n",
    "        if df2.iloc[i,0] != df2.iloc[i-1,0]:\n",
    "            freq = np.nan\n",
    "            record = []\n",
    "        else:\n",
    "            interval=df2.iloc[i,1]-df2.iloc[i-1,1]\n",
    "            record = record + [interval.days]\n",
    "            freq = int(max(record)) \n",
    "    freq_list.append(freq)\n",
    "df2['max']=freq_list"
   ]
  },
  {
   "cell_type": "code",
   "execution_count": null,
   "metadata": {},
   "outputs": [],
   "source": [
    "#MEDIAN\n",
    "import statistics\n",
    "freq_list=[]\n",
    "record = []\n",
    "for i in range(df2.shape[0]):\n",
    "    if i == 0:\n",
    "        freq = np.nan\n",
    "        record = []\n",
    "    else:\n",
    "        if df2.iloc[i,0] != df2.iloc[i-1,0]:\n",
    "            freq = np.nan\n",
    "            record = []\n",
    "        else:\n",
    "            interval=df2.iloc[i,1]-df2.iloc[i-1,1]\n",
    "            record = record + [interval.days]\n",
    "            freq = int(statistics.median(record))\n",
    "    freq_list.append(freq)\n",
    "df2['med']=freq_list"
   ]
  },
  {
   "cell_type": "code",
   "execution_count": null,
   "metadata": {},
   "outputs": [],
   "source": [
    "#FREQUENCY\n",
    "freq_list=[]\n",
    "record = 0\n",
    "for i in range(df2.shape[0]):\n",
    "    if i == 0:\n",
    "        freq = 1\n",
    "        record = 1\n",
    "    else:\n",
    "        if df2.iloc[i,0] != df2.iloc[i-1,0]:\n",
    "            freq = 1\n",
    "            record = 1\n",
    "        else:\n",
    "            record = record + 1\n",
    "            freq = int(record)\n",
    "    freq_list.append(freq)\n",
    "df2['freq']=freq_list"
   ]
  },
  {
   "cell_type": "code",
   "execution_count": null,
   "metadata": {},
   "outputs": [],
   "source": [
    "#MOVING AVERAGE 1\n",
    "freq_list=[]\n",
    "record = []\n",
    "for i in range(df2.shape[0]):\n",
    "    if i == 0 :\n",
    "        freq = np.nan\n",
    "    else:\n",
    "        if df2.iloc[i,0] != df2.iloc[i-1,0]:\n",
    "            freq = np.nan\n",
    "        else:\n",
    "            freq = df2.iloc[i-1,7]\n",
    "    freq_list.append(freq)\n",
    "df2['MA1']=freq_list"
   ]
  },
  {
   "cell_type": "code",
   "execution_count": null,
   "metadata": {},
   "outputs": [],
   "source": [
    "#MOVING AVERAGE 2\n",
    "freq_list=[]\n",
    "record = []\n",
    "for i in range(df2.shape[0]):\n",
    "    if df2.iloc[i,11] == 1 :\n",
    "        freq = np.nan\n",
    "        record = [df2.iloc[i,7]]\n",
    "        \n",
    "    elif df2.iloc[i,11] == 2 :\n",
    "        freq = np.nan\n",
    "        record = record+[df2.iloc[i,7]] \n",
    "    else:\n",
    "\n",
    "        freq = int((record[-2]+record[-1])/2)\n",
    "        record = record + [df2.iloc[i,7]] \n",
    "    freq_list.append(freq)\n",
    "df2['MA2']=freq_list"
   ]
  },
  {
   "cell_type": "code",
   "execution_count": null,
   "metadata": {},
   "outputs": [],
   "source": [
    "df2"
   ]
  },
  {
   "cell_type": "code",
   "execution_count": null,
   "metadata": {},
   "outputs": [],
   "source": [
    "#MOVING AVERAGE 3\n",
    "freq_list=[]\n",
    "record = []\n",
    "for i in range(df2.shape[0]):\n",
    "    if df2.iloc[i,11] == 1 :\n",
    "        freq = np.nan\n",
    "        record = [df2.iloc[i,7]]\n",
    "        \n",
    "    elif df2.iloc[i,11] == 2 or df2.iloc[i,11] == 3 :\n",
    "        freq = np.nan\n",
    "        record = record+[df2.iloc[i,7]] \n",
    "\n",
    "    else:\n",
    "        freq = int((record[-3]+record[-2]+record[-1])/3)\n",
    "        record = record + [df2.iloc[i,7]] \n",
    "\n",
    "    freq_list.append(freq)\n",
    "df2['MA3']=freq_list"
   ]
  },
  {
   "cell_type": "code",
   "execution_count": null,
   "metadata": {},
   "outputs": [],
   "source": [
    "#MOVING AVERAGE 4\n",
    "freq_list=[]\n",
    "record = []\n",
    "for i in range(df2.shape[0]):\n",
    "    if df2.iloc[i,11] == 1 :\n",
    "        freq = np.nan\n",
    "        record = [df2.iloc[i,7]]\n",
    "        \n",
    "    elif df2.iloc[i,11] == 2 or df2.iloc[i,11] == 3 or df2.iloc[i,11] == 4:\n",
    "        freq = np.nan\n",
    "        record = record+[df2.iloc[i,7]] \n",
    "\n",
    "    else:\n",
    "        freq = int((record[-4]+record[-3]+record[-2]+record[-1])/4)\n",
    "        record = record + [df2.iloc[i,7]] \n",
    "\n",
    "    freq_list.append(freq)\n",
    "df2['MA4']=freq_list"
   ]
  },
  {
   "cell_type": "code",
   "execution_count": null,
   "metadata": {},
   "outputs": [],
   "source": [
    "#MOVING AVERAGE 5\n",
    "freq_list=[]\n",
    "record = []\n",
    "for i in range(df2.shape[0]):\n",
    "    if df2.iloc[i,11] == 1 :\n",
    "        freq = np.nan\n",
    "        record = [df2.iloc[i,7]]\n",
    "        \n",
    "    elif df2.iloc[i,11] == 2 or df2.iloc[i,11] == 3 or df2.iloc[i,11] == 4 or df2.iloc[i,11] == 5:\n",
    "        freq = np.nan\n",
    "        record = record+[df2.iloc[i,7]] \n",
    "\n",
    "    else:\n",
    "        freq = int((record[-5]+record[-4]+record[-3]+record[-2]+record[-1])/5)\n",
    "        record = record + [df2.iloc[i,7]] \n",
    "\n",
    "    freq_list.append(freq)\n",
    "df2['MA5']=freq_list"
   ]
  },
  {
   "cell_type": "code",
   "execution_count": null,
   "metadata": {},
   "outputs": [],
   "source": [
    "df2.to_csv(\"idx_comp.csv\",index=False)\n",
    "df2 = pd.read_csv(\"idx_comp.csv\")"
   ]
  },
  {
   "cell_type": "markdown",
   "metadata": {},
   "source": [
    "# 最後一位"
   ]
  },
  {
   "cell_type": "code",
   "execution_count": null,
   "metadata": {},
   "outputs": [],
   "source": [
    "df = pd.read_csv(\"idx_all.csv\")"
   ]
  },
  {
   "cell_type": "code",
   "execution_count": null,
   "metadata": {},
   "outputs": [],
   "source": [
    "df2=df.groupby(['產品名稱','結帳日期']).sum()\n",
    "for i in ['循環天數','diff','acc_money','avg_money']:\n",
    "    del df2[i]"
   ]
  },
  {
   "cell_type": "code",
   "execution_count": null,
   "metadata": {},
   "outputs": [],
   "source": [
    "for i in df2[df2['客戶自主下單']>0].index:\n",
    "    df2.loc[i,'客戶自主下單' ] =1\n",
    "df2 = df2.reset_index(level=['產品名稱','結帳日期'])"
   ]
  },
  {
   "cell_type": "code",
   "execution_count": null,
   "metadata": {},
   "outputs": [],
   "source": [
    "df2"
   ]
  },
  {
   "cell_type": "code",
   "execution_count": null,
   "metadata": {},
   "outputs": [],
   "source": [
    "#REC (答案)\n",
    "import numpy as np\n",
    "df2['結帳日期'] = pd.to_datetime(df2['結帳日期'])\n",
    "freq_list=[]\n",
    "for i in range(df2.shape[0]):\n",
    "    if i == df2.shape[0]-1:\n",
    "        freq = np.nan\n",
    "    else:\n",
    "        if df2.iloc[i,0] != df2.iloc[i+1,0]:\n",
    "            freq = np.nan\n",
    "        else:\n",
    "            interval=df2.iloc[i+1,1]-df2.iloc[i,1]\n",
    "            freq = interval.days \n",
    "    freq_list.append(freq)\n",
    "df2['rec']=freq_list\n",
    "#AVERAGE\n",
    "def Average(lst): \n",
    "    return sum(lst) / len(lst)\n",
    "\n",
    "freq_list=[]\n",
    "record = []\n",
    "for i in range(df2.shape[0]):\n",
    "    if i == 0:\n",
    "        freq = np.nan\n",
    "        record = []\n",
    "    else:\n",
    "        if df2.iloc[i,0] != df2.iloc[i-1,0]:\n",
    "            freq = np.nan\n",
    "            record = []\n",
    "        else:\n",
    "            interval=df2.iloc[i,1]-df2.iloc[i-1,1]\n",
    "            record = record + [interval.days]\n",
    "            freq = int(Average(record)) \n",
    "    freq_list.append(freq)\n",
    "df2['avg']=freq_list\n",
    "#MAX\n",
    "freq_list=[]\n",
    "record = []\n",
    "for i in range(df2.shape[0]):\n",
    "    if i == 0:\n",
    "        freq = np.nan\n",
    "        record = []\n",
    "    else:\n",
    "        if df2.iloc[i,0] != df2.iloc[i-1,0]:\n",
    "            freq = np.nan\n",
    "            record = []\n",
    "        else:\n",
    "            interval=df2.iloc[i,1]-df2.iloc[i-1,1]\n",
    "            record = record + [interval.days]\n",
    "            freq = int(max(record)) \n",
    "    freq_list.append(freq)\n",
    "df2['max']=freq_list\n",
    "#MEDIAN\n",
    "import statistics\n",
    "freq_list=[]\n",
    "record = []\n",
    "for i in range(df2.shape[0]):\n",
    "    if i == 0:\n",
    "        freq = np.nan\n",
    "        record = []\n",
    "    else:\n",
    "        if df2.iloc[i,0] != df2.iloc[i-1,0]:\n",
    "            freq = np.nan\n",
    "            record = []\n",
    "        else:\n",
    "            interval=df2.iloc[i,1]-df2.iloc[i-1,1]\n",
    "            record = record + [interval.days]\n",
    "            freq = int(statistics.median(record))\n",
    "    freq_list.append(freq)\n",
    "df2['med']=freq_list\n",
    "#FREQUENCY\n",
    "freq_list=[]\n",
    "record = 0\n",
    "for i in range(df2.shape[0]):\n",
    "    if i == 0:\n",
    "        freq = 1\n",
    "        record = 1\n",
    "    else:\n",
    "        if df2.iloc[i,0] != df2.iloc[i-1,0]:\n",
    "            freq = 1\n",
    "            record = 1\n",
    "        else:\n",
    "            record = record + 1\n",
    "            freq = int(record)\n",
    "    freq_list.append(freq)\n",
    "df2['freq']=freq_list"
   ]
  },
  {
   "cell_type": "code",
   "execution_count": null,
   "metadata": {},
   "outputs": [],
   "source": [
    "#MOVING AVERAGE 1\n",
    "freq_list=[]\n",
    "record = []\n",
    "for i in range(df2.shape[0]):\n",
    "    if i == 0 :\n",
    "        freq = np.nan\n",
    "    else:\n",
    "        if df2.iloc[i,0] != df2.iloc[i-1,0]:\n",
    "            freq = np.nan\n",
    "        else:\n",
    "            freq = df2.iloc[i-1,7]\n",
    "    freq_list.append(freq)\n",
    "df2['MA1']=freq_list\n",
    "#MOVING AVERAGE 2\n",
    "freq_list=[]\n",
    "record = []\n",
    "for i in range(df2.shape[0]):\n",
    "    if df2.iloc[i,11] == 1 :\n",
    "        freq = np.nan\n",
    "        record = [df2.iloc[i,7]]\n",
    "        \n",
    "    elif df2.iloc[i,11] == 2 :\n",
    "        freq = np.nan\n",
    "        record = record+[df2.iloc[i,7]] \n",
    "    else:\n",
    "\n",
    "        freq = int((record[-2]+record[-1])/2)\n",
    "        record = record + [df2.iloc[i,7]] \n",
    "    freq_list.append(freq)\n",
    "df2['MA2']=freq_list\n",
    "#MOVING AVERAGE 3\n",
    "freq_list=[]\n",
    "record = []\n",
    "for i in range(df2.shape[0]):\n",
    "    if df2.iloc[i,11] == 1 :\n",
    "        freq = np.nan\n",
    "        record = [df2.iloc[i,7]]\n",
    "        \n",
    "    elif df2.iloc[i,11] == 2 or df2.iloc[i,11] == 3 :\n",
    "        freq = np.nan\n",
    "        record = record+[df2.iloc[i,7]] \n",
    "\n",
    "    else:\n",
    "        freq = int((record[-3]+record[-2]+record[-1])/3)\n",
    "        record = record + [df2.iloc[i,7]] \n",
    "\n",
    "    freq_list.append(freq)\n",
    "df2['MA3']=freq_list\n",
    "#MOVING AVERAGE 4\n",
    "freq_list=[]\n",
    "record = []\n",
    "for i in range(df2.shape[0]):\n",
    "    if df2.iloc[i,11] == 1 :\n",
    "        freq = np.nan\n",
    "        record = [df2.iloc[i,7]]\n",
    "        \n",
    "    elif df2.iloc[i,11] == 2 or df2.iloc[i,11] == 3 or df2.iloc[i,11] == 4:\n",
    "        freq = np.nan\n",
    "        record = record+[df2.iloc[i,7]] \n",
    "\n",
    "    else:\n",
    "        freq = int((record[-4]+record[-3]+record[-2]+record[-1])/4)\n",
    "        record = record + [df2.iloc[i,7]] \n",
    "\n",
    "    freq_list.append(freq)\n",
    "df2['MA4']=freq_list\n",
    "#MOVING AVERAGE 5\n",
    "freq_list=[]\n",
    "record = []\n",
    "for i in range(df2.shape[0]):\n",
    "    if df2.iloc[i,11] == 1 :\n",
    "        freq = np.nan\n",
    "        record = [df2.iloc[i,7]]\n",
    "        \n",
    "    elif df2.iloc[i,11] == 2 or df2.iloc[i,11] == 3 or df2.iloc[i,11] == 4 or df2.iloc[i,11] == 5:\n",
    "        freq = np.nan\n",
    "        record = record+[df2.iloc[i,7]] \n",
    "\n",
    "    else:\n",
    "        freq = int((record[-5]+record[-4]+record[-3]+record[-2]+record[-1])/5)\n",
    "        record = record + [df2.iloc[i,7]] \n",
    "\n",
    "    freq_list.append(freq)\n",
    "df2['MA5']=freq_list"
   ]
  },
  {
   "cell_type": "code",
   "execution_count": null,
   "metadata": {},
   "outputs": [],
   "source": [
    "df2.to_csv(\"idx_prod.csv\",index=False)\n",
    "df2 = pd.read_csv(\"idx_prod.csv\")"
   ]
  },
  {
   "cell_type": "code",
   "execution_count": null,
   "metadata": {},
   "outputs": [],
   "source": [
    "df2"
   ]
  },
  {
   "cell_type": "code",
   "execution_count": null,
   "metadata": {},
   "outputs": [],
   "source": []
  }
 ],
 "metadata": {
  "kernelspec": {
   "display_name": "Python 3",
   "language": "python",
   "name": "python3"
  },
  "language_info": {
   "codemirror_mode": {
    "name": "ipython",
    "version": 3
   },
   "file_extension": ".py",
   "mimetype": "text/x-python",
   "name": "python",
   "nbconvert_exporter": "python",
   "pygments_lexer": "ipython3",
   "version": "3.7.4"
  }
 },
 "nbformat": 4,
 "nbformat_minor": 2
}
