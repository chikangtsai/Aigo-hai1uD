{
 "cells": [
  {
   "cell_type": "code",
   "execution_count": null,
   "metadata": {},
   "outputs": [],
   "source": [
    "import pandas as pd\n",
    "import numpy as np\n",
    "import datetime\n",
    "from datetime import datetime, timedelta\n",
    "import matplotlib.pyplot as plt\n",
    "plt.rcParams['font.family'] = 'Noto Sans Mono CJK TC'"
   ]
  },
  {
   "cell_type": "code",
   "execution_count": null,
   "metadata": {},
   "outputs": [],
   "source": [
    "df = pd.read_csv(\"C:\\\\Users\\\\GK\\\\idx_comp.csv\")\n",
    "df['結帳日期']=pd.to_datetime(df['結帳日期'])\n",
    "df['month']= df['結帳日期']#.dt.month \n",
    "df['day']= df['結帳日期']#.dt.day \n",
    "df['year']= df['結帳日期']#.dt.year "
   ]
  },
  {
   "cell_type": "code",
   "execution_count": null,
   "metadata": {},
   "outputs": [],
   "source": [
    "df['year-month'] = df['year'].map(str)+\"-\"+df['month'].map(str)"
   ]
  },
  {
   "cell_type": "code",
   "execution_count": null,
   "metadata": {},
   "outputs": [],
   "source": [
    "dr = df.groupby(['year']).sum().reset_index()"
   ]
  },
  {
   "cell_type": "code",
   "execution_count": null,
   "metadata": {},
   "outputs": [],
   "source": [
    "plt.figure(figsize=(20,4))\n",
    "plt.plot(dr['year'], dr['總價'])\n",
    "plt.xlabel('year')\n",
    "plt.ylabel('總價')\n",
    "plt.title('yearly Revenue')\n",
    "plt.grid(True)\n",
    "plt.show()"
   ]
  },
  {
   "cell_type": "code",
   "execution_count": null,
   "metadata": {},
   "outputs": [],
   "source": [
    "df['one'] =1\n",
    "do = df.groupby(['year']).sum().reset_index()"
   ]
  },
  {
   "cell_type": "code",
   "execution_count": null,
   "metadata": {},
   "outputs": [],
   "source": [
    "plt.figure(figsize=(20,4))\n",
    "\n",
    "plt.plot(do['year'], do['one'])\n",
    "plt.xlabel('year')\n",
    "plt.ylabel('order number')\n",
    "plt.title('yearly Customer number')\n",
    "plt.grid(True)\n",
    "plt.show()"
   ]
  },
  {
   "cell_type": "code",
   "execution_count": null,
   "metadata": {},
   "outputs": [],
   "source": [
    "plt.figure(figsize=(20,4))\n",
    "\n",
    "plt.plot(do['year'], do['客戶自主下單'])\n",
    "plt.xlabel('year')\n",
    "plt.ylabel('Customer number')\n",
    "plt.title('yearly 客戶自主下單')\n",
    "plt.grid(True)\n",
    "plt.show()"
   ]
  },
  {
   "cell_type": "code",
   "execution_count": null,
   "metadata": {},
   "outputs": [],
   "source": [
    "plt.figure(figsize=(20,4))\n",
    "\n",
    "plt.plot(dy['year'], dy['客戶自主下單'])\n",
    "plt.xlabel('year')\n",
    "plt.ylabel('Customer number')\n",
    "plt.title('yearly 客戶自主下單')\n",
    "plt.grid(True)\n",
    "plt.show()"
   ]
  },
  {
   "cell_type": "code",
   "execution_count": null,
   "metadata": {},
   "outputs": [],
   "source": [
    "# Create some mock data\n",
    "fig, ax1 = plt.subplots(figsize=(20,8))\n",
    "color = 'tab:orange'\n",
    "ax1.set_xlabel('year')\n",
    "ax1.set_ylabel('order number', color=color)\n",
    "ax1.plot(do['year'], do['one'], color=color)\n",
    "ax1.tick_params(axis='y', labelcolor=color)\n",
    "\n",
    "ax2 = ax1.twinx()  # instantiate a second axes that shares the same x-axis\n",
    "\n",
    "color = 'tab:blue'\n",
    "ax2.set_ylabel('總價', color=color)  # we already handled the x-label with ax1\n",
    "ax2.plot(do['year'], dr['總價'], color=color,linestyle='--' )\n",
    "ax2.tick_params(axis='y', labelcolor=color)\n",
    "\n",
    "fig.tight_layout()  # otherwise the right y-label is slightly clipped\n",
    "plt.show()"
   ]
  },
  {
   "cell_type": "code",
   "execution_count": null,
   "metadata": {},
   "outputs": [],
   "source": [
    "df['month']= df['結帳日期'].dt.month \n",
    "df['day']= df['結帳日期'].dt.day \n",
    "df['year']= df['結帳日期'].dt.year "
   ]
  },
  {
   "cell_type": "code",
   "execution_count": null,
   "metadata": {},
   "outputs": [],
   "source": [
    "dy = df.groupby(['帳戶名稱','year']).sum()\n",
    "dy['one'] = 1\n",
    "dy = dy.groupby(['year']).sum().reset_index()\n",
    "# Create some mock data\n",
    "fig, ax1 = plt.subplots(figsize=(20,8))\n",
    "color = 'tab:orange'\n",
    "ax1.set_xlabel('year')\n",
    "ax1.set_ylabel('Customer number', color=color)\n",
    "ax1.plot(dy['year'],dy['one'], color=color)\n",
    "ax1.tick_params(axis='y', labelcolor=color)\n",
    "\n",
    "ax2 = ax1.twinx()  # instantiate a second axes that shares the same x-axis\n",
    "\n",
    "color = 'tab:blue'\n",
    "ax2.set_ylabel('總價', color=color)  # we already handled the x-label with ax1\n",
    "ax2.plot(dy['year'], dy['總價'], color=color,linestyle='--' )\n",
    "ax2.tick_params(axis='y', labelcolor=color)\n",
    "\n",
    "fig.tight_layout()  # otherwise the right y-label is slightly clipped\n",
    "plt.show()"
   ]
  },
  {
   "cell_type": "code",
   "execution_count": null,
   "metadata": {},
   "outputs": [],
   "source": [
    "dm = df.groupby(['帳戶名稱','month']).sum()\n",
    "dm['one'] = 1\n",
    "plt.figure(figsize=(20,4))\n",
    "dm = dm.groupby(['month']).sum().reset_index()\n",
    "# Create some mock data\n",
    "fig, ax1 = plt.subplots(figsize=(20,8))\n",
    "color = 'tab:orange'\n",
    "ax1.set_xlabel('month')\n",
    "ax1.set_ylabel('Customer number', color=color)\n",
    "ax1.plot(dm['month'],dm['one'], color=color)\n",
    "ax1.tick_params(axis='y', labelcolor=color)\n",
    "\n",
    "ax2 = ax1.twinx()  # instantiate a second axes that shares the same x-axis\n",
    "\n",
    "color = 'tab:blue'\n",
    "ax2.set_ylabel('總價', color=color)  # we already handled the x-label with ax1\n",
    "ax2.plot(dm['month'], dm['總價'], color=color,linestyle='--' )\n",
    "ax2.tick_params(axis='y', labelcolor=color)\n",
    "\n",
    "fig.tight_layout()  # otherwise the right y-label is slightly clipped\n",
    "plt.show()"
   ]
  },
  {
   "cell_type": "markdown",
   "metadata": {},
   "source": [
    "# Average Revenue per Order"
   ]
  },
  {
   "cell_type": "code",
   "execution_count": null,
   "metadata": {},
   "outputs": [],
   "source": [
    "plt.figure(figsize=(20,4))\n",
    "\n",
    "plt.plot(dy['year'], dy['總價']/dy['one'])\n",
    "plt.xlabel('year')\n",
    "plt.ylabel('revenue')\n",
    "plt.title('Average Revenue per Order')\n",
    "plt.grid(True)\n",
    "plt.show()\n",
    "\n",
    "plt.figure(figsize=(20,4))\n",
    "\n",
    "plt.plot(dm['month'], dm['總價']/dm['one'])\n",
    "plt.xlabel('month')\n",
    "plt.ylabel('revenue')\n",
    "plt.title('Average Revenue per Order')\n",
    "plt.grid(True)\n",
    "plt.show()"
   ]
  },
  {
   "cell_type": "code",
   "execution_count": null,
   "metadata": {},
   "outputs": [],
   "source": [
    "plt.figure(figsize=(20,4))\n",
    "\n",
    "# plt.plot(dy['year'], dy['總價']/dy['總量'])\n",
    "plt.bar(dy['year'], dy['總價']/dy['總量'])\n",
    "plt.xlabel('year')\n",
    "plt.ylabel('revenue')\n",
    "plt.title('Average Revenue per Order')\n",
    "plt.grid(True)\n",
    "plt.show()\n",
    "\n",
    "plt.figure(figsize=(20,4))\n",
    "\n",
    "# plt.plot(dm['month'], dm['總價']/dm['總量'])\n",
    "plt.bar(dm['month'], dm['總價']/dm['總量'])\n",
    "plt.xlabel('month')\n",
    "plt.ylabel('revenue')\n",
    "plt.title('Average Revenue per Order')\n",
    "plt.grid(True)\n",
    "plt.show()"
   ]
  },
  {
   "cell_type": "markdown",
   "metadata": {},
   "source": [
    "# New Customer Ratio"
   ]
  },
  {
   "cell_type": "code",
   "execution_count": null,
   "metadata": {},
   "outputs": [],
   "source": [
    "df = pd.read_csv(\"C:\\\\Users\\\\GK\\\\Part4.csv\")\n",
    "df['結帳日期']=pd.to_datetime(df['結帳日期'])\n",
    "df['month']= df['結帳日期'].dt.month \n",
    "df['day']= df['結帳日期'].dt.day \n",
    "df['year']= df['結帳日期'].dt.year \n",
    "dy = df.groupby(['帳戶名稱','year']).sum()\n",
    "dy['one'] = 1\n",
    "dy = dy.groupby(['year']).sum().reset_index()"
   ]
  },
  {
   "cell_type": "code",
   "execution_count": null,
   "metadata": {},
   "outputs": [],
   "source": [
    "df = df.groupby('帳戶名稱').結帳日期.min().reset_index()\n",
    "df['month']= df['結帳日期'].dt.month \n",
    "df['year']= df['結帳日期'].dt.year \n",
    "df['one'] = 1\n",
    "df = df.groupby(['year']).sum()"
   ]
  },
  {
   "cell_type": "code",
   "execution_count": null,
   "metadata": {},
   "outputs": [],
   "source": [
    "labels = list(df.reset_index()['year'])\n",
    "new_means = list(df.reset_index()['one'])\n",
    "old_means = list(dy['one']-df.reset_index()['one'])\n",
    "\n",
    "width = 0.35       # the width of the bars: can also be len(x) sequence\n",
    "\n",
    "fig, ax = plt.subplots(figsize=(20,4))\n",
    "\n",
    "ax.bar(labels, new_means, width,  label='new')\n",
    "ax.bar(labels, old_means, width,  bottom=men_means,\n",
    "       label='existing')\n",
    "\n",
    "ax.set_ylabel('customer number')\n",
    "ax.set_title('number by group')\n",
    "ax.legend()\n",
    "\n",
    "plt.show()"
   ]
  },
  {
   "cell_type": "code",
   "execution_count": null,
   "metadata": {},
   "outputs": [],
   "source": [
    "df = pd.read_csv(\"C:\\\\Users\\\\GK\\\\Part4.csv\")\n",
    "df['結帳日期']=pd.to_datetime(df['結帳日期'])\n",
    "df['month']= df['結帳日期'].dt.month \n",
    "df['year']= df['結帳日期'].dt.year \n",
    "df['year-month'] = df['year'].astype(str)+df['month'].astype(str).str.zfill(2)\n",
    "for i in df[df['類型']!='新客戶'].index:\n",
    "    df.loc[i,'類型']  = \"舊客戶\"\n",
    "dg = df.groupby(['year','類型']).sum()\n",
    "df = df.groupby(['year-month','類型']).sum()"
   ]
  },
  {
   "cell_type": "code",
   "execution_count": null,
   "metadata": {},
   "outputs": [],
   "source": [
    "df = df.reset_index(level=['year-month','類型'])"
   ]
  },
  {
   "cell_type": "code",
   "execution_count": null,
   "metadata": {},
   "outputs": [],
   "source": [
    "dg = dg.reset_index(level=['year','類型'])"
   ]
  },
  {
   "cell_type": "code",
   "execution_count": null,
   "metadata": {},
   "outputs": [],
   "source": [
    "plt.figure(figsize=(20,4))\n",
    "plt.plot(df[df['類型']=='新客戶'][\"year-month\"], df[df['類型']=='新客戶'][\"總價\"],label='新客戶')\n",
    "plt.plot(df[df['類型']=='舊客戶'][\"year-month\"], df[df['類型']=='舊客戶'][\"總價\"],label='舊客戶')\n",
    "plt.xticks(rotation=90)\n",
    "plt.xlabel('time')\n",
    "plt.ylabel('revenue')\n",
    "\n",
    "plt.legend( loc='lower right')\n",
    "plt.title('Revenue from new/existing comp')\n",
    "plt.grid(True)\n",
    "plt.show()\n",
    "\n",
    "plt.figure(figsize=(20,4))\n",
    "plt.plot(dg[dg['類型']=='新客戶'][\"year\"], dg[dg['類型']=='新客戶'][\"總價\"],label='新客戶')\n",
    "plt.plot(dg[dg['類型']=='舊客戶'][\"year\"], dg[dg['類型']=='舊客戶'][\"總價\"],label='舊客戶')\n",
    "plt.xticks(rotation=90)\n",
    "plt.xlabel('time')\n",
    "plt.ylabel('revenue')\n",
    "\n",
    "plt.legend( loc='lower right')\n",
    "plt.title('Revenue from new/existing comp')\n",
    "plt.grid(True)\n",
    "plt.show()"
   ]
  },
  {
   "cell_type": "code",
   "execution_count": null,
   "metadata": {},
   "outputs": [],
   "source": [
    "plt.figure(figsize=(20,4))\n",
    "\n",
    "plt.plot(dy['year'], dy['總價']/dy['one'])\n",
    "plt.xlabel('month')\n",
    "plt.ylabel('ratio')\n",
    "plt.title('New Customer Ratio')\n",
    "plt.grid(True)\n",
    "plt.show()"
   ]
  }
 ],
 "metadata": {
  "kernelspec": {
   "display_name": "Python 3",
   "language": "python",
   "name": "python3"
  },
  "language_info": {
   "codemirror_mode": {
    "name": "ipython",
    "version": 3
   },
   "file_extension": ".py",
   "mimetype": "text/x-python",
   "name": "python",
   "nbconvert_exporter": "python",
   "pygments_lexer": "ipython3",
   "version": "3.7.4"
  }
 },
 "nbformat": 4,
 "nbformat_minor": 2
}
