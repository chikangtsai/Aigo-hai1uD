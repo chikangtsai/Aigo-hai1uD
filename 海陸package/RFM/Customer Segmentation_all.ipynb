{
 "cells": [
  {
   "cell_type": "code",
   "execution_count": null,
   "metadata": {},
   "outputs": [],
   "source": [
    "from datetime import datetime, timedelta\n",
    "import pandas as pd\n",
    "import matplotlib.pyplot as plt\n",
    "import numpy as np\n",
    "import seaborn as sns\n",
    "import chart_studio.plotly as py\n",
    "import plotly.offline as pyoff\n",
    "import plotly.graph_objs as go\n",
    "plt.rcParams['font.family'] = 'Noto Sans Mono CJK TC'\n",
    "pyoff.init_notebook_mode()"
   ]
  },
  {
   "cell_type": "code",
   "execution_count": null,
   "metadata": {},
   "outputs": [],
   "source": [
    "tx_data = pd.read_csv(\"C:\\\\Users\\\\GK\\\\Part4.csv\")"
   ]
  },
  {
   "cell_type": "code",
   "execution_count": null,
   "metadata": {},
   "outputs": [],
   "source": [
    "tx_data.head(1)"
   ]
  },
  {
   "cell_type": "code",
   "execution_count": null,
   "metadata": {},
   "outputs": [],
   "source": [
    "tx_data['結帳日期'] = pd.to_datetime(tx_data['結帳日期'])"
   ]
  },
  {
   "cell_type": "code",
   "execution_count": null,
   "metadata": {},
   "outputs": [],
   "source": [
    "tx_data['結帳日期'].describe()"
   ]
  },
  {
   "cell_type": "code",
   "execution_count": null,
   "metadata": {},
   "outputs": [],
   "source": [
    "tx_ciie = tx_data"
   ]
  },
  {
   "cell_type": "code",
   "execution_count": null,
   "metadata": {},
   "outputs": [],
   "source": [
    "tx_user = pd.DataFrame(tx_data['帳戶名稱'].unique())\n",
    "tx_user.columns = ['帳戶名稱']"
   ]
  },
  {
   "cell_type": "markdown",
   "metadata": {},
   "source": [
    "# Recency"
   ]
  },
  {
   "cell_type": "code",
   "execution_count": null,
   "metadata": {},
   "outputs": [],
   "source": [
    "tx_max_purchase = tx_ciie.groupby('帳戶名稱').結帳日期.max().reset_index()"
   ]
  },
  {
   "cell_type": "code",
   "execution_count": null,
   "metadata": {},
   "outputs": [],
   "source": [
    "tx_max_purchase.columns = ['帳戶名稱','MaxPurchaseDate']"
   ]
  },
  {
   "cell_type": "code",
   "execution_count": null,
   "metadata": {},
   "outputs": [],
   "source": [
    "tx_max_purchase['Recency'] = (tx_max_purchase['MaxPurchaseDate'].max() - tx_max_purchase['MaxPurchaseDate']).dt.days"
   ]
  },
  {
   "cell_type": "code",
   "execution_count": null,
   "metadata": {},
   "outputs": [],
   "source": [
    "tx_user = pd.merge(tx_user, tx_max_purchase[['帳戶名稱','Recency']], on='帳戶名稱')"
   ]
  },
  {
   "cell_type": "code",
   "execution_count": null,
   "metadata": {},
   "outputs": [],
   "source": [
    "tx_user.head()"
   ]
  },
  {
   "cell_type": "code",
   "execution_count": null,
   "metadata": {},
   "outputs": [],
   "source": [
    "tx_user.Recency.describe()"
   ]
  },
  {
   "cell_type": "code",
   "execution_count": null,
   "metadata": {},
   "outputs": [],
   "source": [
    "plot_data = [\n",
    "    go.Histogram(\n",
    "        x=tx_user['Recency']\n",
    "    )\n",
    "]\n",
    "\n",
    "plot_layout = go.Layout(\n",
    "        title='Recency'\n",
    "    )\n",
    "fig = go.Figure(data=plot_data, layout=plot_layout)\n",
    "pyoff.iplot(fig)"
   ]
  },
  {
   "cell_type": "code",
   "execution_count": null,
   "metadata": {},
   "outputs": [],
   "source": [
    "from sklearn.cluster import KMeans\n",
    "\n",
    "\n",
    "sse={}\n",
    "tx_recency = tx_user[['Recency']]\n",
    "for k in range(1, 10):\n",
    "    kmeans = KMeans(n_clusters=k, max_iter=1000).fit(tx_recency)\n",
    "    tx_recency[\"clusters\"] = kmeans.labels_\n",
    "    sse[k] = kmeans.inertia_ \n",
    "plt.figure()\n",
    "plt.plot(list(sse.keys()), list(sse.values()))\n",
    "plt.xlabel(\"Number of cluster\")\n",
    "plt.show()"
   ]
  },
  {
   "cell_type": "code",
   "execution_count": null,
   "metadata": {},
   "outputs": [],
   "source": [
    "kmeans = KMeans(n_clusters=4)\n",
    "kmeans.fit(tx_user[['Recency']])\n",
    "tx_user['RecencyCluster'] = kmeans.predict(tx_user[['Recency']])"
   ]
  },
  {
   "cell_type": "code",
   "execution_count": null,
   "metadata": {},
   "outputs": [],
   "source": [
    "tx_user.groupby('RecencyCluster')['Recency'].describe()"
   ]
  },
  {
   "cell_type": "code",
   "execution_count": null,
   "metadata": {},
   "outputs": [],
   "source": [
    "def order_cluster(cluster_field_name, target_field_name,df,ascending):\n",
    "    new_cluster_field_name = 'new_' + cluster_field_name\n",
    "    df_new = df.groupby(cluster_field_name)[target_field_name].mean().reset_index()\n",
    "    df_new = df_new.sort_values(by=target_field_name,ascending=ascending).reset_index(drop=True)\n",
    "    df_new['index'] = df_new.index\n",
    "    df_final = pd.merge(df,df_new[[cluster_field_name,'index']], on=cluster_field_name)\n",
    "    df_final = df_final.drop([cluster_field_name],axis=1)\n",
    "    df_final = df_final.rename(columns={\"index\":cluster_field_name})\n",
    "    return df_final\n"
   ]
  },
  {
   "cell_type": "code",
   "execution_count": null,
   "metadata": {},
   "outputs": [],
   "source": [
    "tx_user = order_cluster('RecencyCluster', 'Recency',tx_user,False)"
   ]
  },
  {
   "cell_type": "markdown",
   "metadata": {},
   "source": [
    "# Frequency"
   ]
  },
  {
   "cell_type": "code",
   "execution_count": null,
   "metadata": {},
   "outputs": [],
   "source": [
    "tx_frequency = tx_ciie.groupby('帳戶名稱').結帳日期.count().reset_index()"
   ]
  },
  {
   "cell_type": "code",
   "execution_count": null,
   "metadata": {},
   "outputs": [],
   "source": [
    "tx_frequency.columns = ['帳戶名稱','Frequency']"
   ]
  },
  {
   "cell_type": "code",
   "execution_count": null,
   "metadata": {},
   "outputs": [],
   "source": [
    "tx_frequency.head()"
   ]
  },
  {
   "cell_type": "code",
   "execution_count": null,
   "metadata": {},
   "outputs": [],
   "source": [
    "tx_user = pd.merge(tx_user, tx_frequency, on='帳戶名稱')"
   ]
  },
  {
   "cell_type": "code",
   "execution_count": null,
   "metadata": {},
   "outputs": [],
   "source": [
    "tx_user.head()"
   ]
  },
  {
   "cell_type": "code",
   "execution_count": null,
   "metadata": {},
   "outputs": [],
   "source": [
    "tx_user.Frequency.describe()"
   ]
  },
  {
   "cell_type": "code",
   "execution_count": null,
   "metadata": {},
   "outputs": [],
   "source": [
    "plot_data = [\n",
    "    go.Histogram(\n",
    "        x=tx_user.query('Frequency < 1000')['Frequency']\n",
    "    )\n",
    "]\n",
    "\n",
    "plot_layout = go.Layout(\n",
    "        title='Frequency'\n",
    "    )\n",
    "fig = go.Figure(data=plot_data, layout=plot_layout)\n",
    "pyoff.iplot(fig)"
   ]
  },
  {
   "cell_type": "code",
   "execution_count": null,
   "metadata": {},
   "outputs": [],
   "source": [
    "sse={}\n",
    "tx_frequency = tx_user.iloc[:,3].to_frame()\n",
    "for k in range(1, 10):\n",
    "    kmeans = KMeans(n_clusters=k, max_iter=1000).fit(tx_frequency)\n",
    "    tx_frequency[\"clusters\"] = kmeans.labels_\n",
    "    sse[k] = kmeans.inertia_ \n",
    "plt.figure()\n",
    "plt.plot(list(sse.keys()), list(sse.values()))\n",
    "plt.xlabel(\"Number of cluster\")\n",
    "plt.show()"
   ]
  },
  {
   "cell_type": "code",
   "execution_count": null,
   "metadata": {},
   "outputs": [],
   "source": [
    "kmeans = KMeans(n_clusters=4)\n",
    "kmeans.fit(tx_user[['Frequency']])\n",
    "tx_user['FrequencyCluster'] = kmeans.predict(tx_user[['Frequency']])"
   ]
  },
  {
   "cell_type": "code",
   "execution_count": null,
   "metadata": {},
   "outputs": [],
   "source": [
    "tx_user.groupby('FrequencyCluster')['Frequency'].describe()"
   ]
  },
  {
   "cell_type": "code",
   "execution_count": null,
   "metadata": {},
   "outputs": [],
   "source": [
    "tx_user = order_cluster('FrequencyCluster', 'Frequency',tx_user,True)"
   ]
  },
  {
   "cell_type": "code",
   "execution_count": null,
   "metadata": {},
   "outputs": [],
   "source": [
    "tx_ciie.columns"
   ]
  },
  {
   "cell_type": "markdown",
   "metadata": {},
   "source": [
    "# Monetary Value"
   ]
  },
  {
   "cell_type": "code",
   "execution_count": null,
   "metadata": {},
   "outputs": [],
   "source": [
    "tx_revenue = tx_ciie.groupby('帳戶名稱').總價.sum().reset_index()"
   ]
  },
  {
   "cell_type": "code",
   "execution_count": null,
   "metadata": {},
   "outputs": [],
   "source": [
    "tx_revenue.head()"
   ]
  },
  {
   "cell_type": "code",
   "execution_count": null,
   "metadata": {},
   "outputs": [],
   "source": [
    "tx_user = pd.merge(tx_user, tx_revenue, on='帳戶名稱')"
   ]
  },
  {
   "cell_type": "code",
   "execution_count": null,
   "metadata": {},
   "outputs": [],
   "source": [
    "tx_user.總價.describe()"
   ]
  },
  {
   "cell_type": "code",
   "execution_count": null,
   "metadata": {},
   "outputs": [],
   "source": [
    "plot_data = [\n",
    "    go.Histogram(\n",
    "        x=tx_user.query('總價 < 4.005100e+06')['總價']\n",
    "    )\n",
    "]\n",
    "\n",
    "plot_layout = go.Layout(\n",
    "        title='Monetary Value'\n",
    "    )\n",
    "fig = go.Figure(data=plot_data, layout=plot_layout)\n",
    "pyoff.iplot(fig)"
   ]
  },
  {
   "cell_type": "code",
   "execution_count": null,
   "metadata": {},
   "outputs": [],
   "source": [
    "import warnings\n",
    "warnings.filterwarnings(\"ignore\")"
   ]
  },
  {
   "cell_type": "code",
   "execution_count": null,
   "metadata": {},
   "outputs": [],
   "source": [
    "sse={}\n",
    "tx_revenue = tx_user[['總價']]\n",
    "for k in range(1, 10):\n",
    "    kmeans = KMeans(n_clusters=k, max_iter=1000).fit(tx_revenue)\n",
    "    tx_revenue[\"clusters\"] = kmeans.labels_\n",
    "    sse[k] = kmeans.inertia_ \n",
    "plt.figure()\n",
    "plt.plot(list(sse.keys()), list(sse.values()))\n",
    "plt.xlabel(\"Number of cluster\")\n",
    "plt.show()"
   ]
  },
  {
   "cell_type": "code",
   "execution_count": null,
   "metadata": {},
   "outputs": [],
   "source": [
    "kmeans = KMeans(n_clusters=4)\n",
    "kmeans.fit(tx_user[['總價']])\n",
    "tx_user['RevenueCluster'] = kmeans.predict(tx_user[['總價']])"
   ]
  },
  {
   "cell_type": "code",
   "execution_count": null,
   "metadata": {},
   "outputs": [],
   "source": [
    "tx_user = order_cluster('RevenueCluster', '總價',tx_user,True)"
   ]
  },
  {
   "cell_type": "code",
   "execution_count": null,
   "metadata": {},
   "outputs": [],
   "source": [
    "tx_user.groupby('RevenueCluster')['總價'].describe()"
   ]
  },
  {
   "cell_type": "markdown",
   "metadata": {},
   "source": [
    "# Overall Segmentation"
   ]
  },
  {
   "cell_type": "code",
   "execution_count": null,
   "metadata": {},
   "outputs": [],
   "source": [
    "tx_user.head()"
   ]
  },
  {
   "cell_type": "code",
   "execution_count": null,
   "metadata": {},
   "outputs": [],
   "source": [
    "tx_user['OverallScore'] = tx_user['RecencyCluster'] + tx_user['FrequencyCluster'] + tx_user['RevenueCluster']"
   ]
  },
  {
   "cell_type": "code",
   "execution_count": null,
   "metadata": {},
   "outputs": [],
   "source": [
    "tx_user.groupby('OverallScore')['Recency','Frequency','總價'].mean()"
   ]
  },
  {
   "cell_type": "code",
   "execution_count": null,
   "metadata": {},
   "outputs": [],
   "source": [
    "tx_user.groupby('OverallScore')['總價'].count()"
   ]
  },
  {
   "cell_type": "code",
   "execution_count": null,
   "metadata": {},
   "outputs": [],
   "source": [
    "tx_user['Segment'] = 'Low-Value'\n",
    "tx_user.loc[tx_user['OverallScore']>2,'Segment'] = 'Mid-Value' \n",
    "tx_user.loc[tx_user['OverallScore']>4,'Segment'] = 'High-Value' "
   ]
  },
  {
   "cell_type": "code",
   "execution_count": null,
   "metadata": {},
   "outputs": [],
   "source": [
    "tx_graph = tx_user.query(\"Recency < 50000 and Frequency < 2000\")\n",
    "\n",
    "plot_data = [\n",
    "    go.Scatter(\n",
    "        x=tx_graph.query(\"Segment == 'Low-Value'\")['Recency'],\n",
    "        y=tx_graph.query(\"Segment == 'Low-Value'\")['Frequency'],\n",
    "        mode='markers',\n",
    "        name='Low',\n",
    "        marker= dict(size= 7,\n",
    "            line= dict(width=1),\n",
    "            color= 'blue',\n",
    "            opacity= 0.8\n",
    "           )\n",
    "    ),\n",
    "        go.Scatter(\n",
    "        x=tx_graph.query(\"Segment == 'Mid-Value'\")['Recency'],\n",
    "        y=tx_graph.query(\"Segment == 'Mid-Value'\")['Frequency'],\n",
    "        mode='markers',\n",
    "        name='Mid',\n",
    "        marker= dict(size= 9,\n",
    "            line= dict(width=1),\n",
    "            color= 'green',\n",
    "            opacity= 0.5\n",
    "           )\n",
    "    ),\n",
    "        go.Scatter(\n",
    "        x=tx_graph.query(\"Segment == 'High-Value'\")['Recency'],\n",
    "        y=tx_graph.query(\"Segment == 'High-Value'\")['Frequency'],\n",
    "        mode='markers',\n",
    "        name='High',\n",
    "        marker= dict(size= 11,\n",
    "            line= dict(width=1),\n",
    "            color= 'red',\n",
    "            opacity= 0.9\n",
    "           )\n",
    "    ),\n",
    "]\n",
    "\n",
    "plot_layout = go.Layout(\n",
    "        yaxis= {'title': \"Recency\"},\n",
    "        xaxis= {'title': \"Frequency\"},\n",
    "        title='Segments'\n",
    "    )\n",
    "fig = go.Figure(data=plot_data, layout=plot_layout)\n",
    "pyoff.iplot(fig)"
   ]
  },
  {
   "cell_type": "code",
   "execution_count": null,
   "metadata": {},
   "outputs": [],
   "source": [
    "tx_graph = tx_user.query(\"總價 < 500000 and Recency < 2000\")\n",
    "\n",
    "plot_data = [\n",
    "    go.Scatter(\n",
    "        x=tx_graph.query(\"Segment == 'Low-Value'\")['Recency'],\n",
    "        y=tx_graph.query(\"Segment == 'Low-Value'\")['總價'],\n",
    "        mode='markers',\n",
    "        name='Low',\n",
    "        marker= dict(size= 7,\n",
    "            line= dict(width=1),\n",
    "            color= 'blue',\n",
    "            opacity= 0.8\n",
    "           )\n",
    "    ),\n",
    "        go.Scatter(\n",
    "        x=tx_graph.query(\"Segment == 'Mid-Value'\")['Recency'],\n",
    "        y=tx_graph.query(\"Segment == 'Mid-Value'\")['總價'],\n",
    "        mode='markers',\n",
    "        name='Mid',\n",
    "        marker= dict(size= 9,\n",
    "            line= dict(width=1),\n",
    "            color= 'green',\n",
    "            opacity= 0.5\n",
    "           )\n",
    "    ),\n",
    "        go.Scatter(\n",
    "        x=tx_graph.query(\"Segment == 'High-Value'\")['Recency'],\n",
    "        y=tx_graph.query(\"Segment == 'High-Value'\")['總價'],\n",
    "        mode='markers',\n",
    "        name='High',\n",
    "        marker= dict(size= 11,\n",
    "            line= dict(width=1),\n",
    "            color= 'red',\n",
    "            opacity= 0.9\n",
    "           )\n",
    "    ),\n",
    "]\n",
    "\n",
    "plot_layout = go.Layout(\n",
    "        yaxis= {'title': \"Recency\"},\n",
    "        xaxis= {'title': \"總價\"},\n",
    "        title='Segments'\n",
    "    )\n",
    "fig = go.Figure(data=plot_data, layout=plot_layout)\n",
    "pyoff.iplot(fig)"
   ]
  },
  {
   "cell_type": "code",
   "execution_count": null,
   "metadata": {},
   "outputs": [],
   "source": [
    "tx_graph = tx_user.query(\"總價 < 50000 and Frequency < 2000\")\n",
    "\n",
    "plot_data = [\n",
    "    go.Scatter(\n",
    "        x=tx_graph.query(\"Segment == 'Low-Value'\")['總價'],\n",
    "        y=tx_graph.query(\"Segment == 'Low-Value'\")['Frequency'],\n",
    "        mode='markers',\n",
    "        name='Low',\n",
    "        marker= dict(size= 7,\n",
    "            line= dict(width=1),\n",
    "            color= 'blue',\n",
    "            opacity= 0.8\n",
    "           )\n",
    "    ),\n",
    "        go.Scatter(\n",
    "        x=tx_graph.query(\"Segment == 'Mid-Value'\")['總價'],\n",
    "        y=tx_graph.query(\"Segment == 'Mid-Value'\")['Frequency'],\n",
    "        mode='markers',\n",
    "        name='Mid',\n",
    "        marker= dict(size= 9,\n",
    "            line= dict(width=1),\n",
    "            color= 'green',\n",
    "            opacity= 0.5\n",
    "           )\n",
    "    ),\n",
    "        go.Scatter(\n",
    "        x=tx_graph.query(\"Segment == 'High-Value'\")['總價'],\n",
    "        y=tx_graph.query(\"Segment == 'High-Value'\")['Frequency'],\n",
    "        mode='markers',\n",
    "        name='High',\n",
    "        marker= dict(size= 11,\n",
    "            line= dict(width=1),\n",
    "            color= 'red',\n",
    "            opacity= 0.9\n",
    "           )\n",
    "    ),\n",
    "]\n",
    "\n",
    "plot_layout = go.Layout(\n",
    "        yaxis= {'title': \"總價\"},\n",
    "        xaxis= {'title': \"Frequency\"},\n",
    "        title='Segments'\n",
    "    )\n",
    "fig = go.Figure(data=plot_data, layout=plot_layout)\n",
    "pyoff.iplot(fig)"
   ]
  },
  {
   "cell_type": "code",
   "execution_count": null,
   "metadata": {},
   "outputs": [],
   "source": []
  }
 ],
 "metadata": {
  "kernelspec": {
   "display_name": "Python 3",
   "language": "python",
   "name": "python3"
  },
  "language_info": {
   "codemirror_mode": {
    "name": "ipython",
    "version": 3
   },
   "file_extension": ".py",
   "mimetype": "text/x-python",
   "name": "python",
   "nbconvert_exporter": "python",
   "pygments_lexer": "ipython3",
   "version": "3.7.4"
  }
 },
 "nbformat": 4,
 "nbformat_minor": 2
}
