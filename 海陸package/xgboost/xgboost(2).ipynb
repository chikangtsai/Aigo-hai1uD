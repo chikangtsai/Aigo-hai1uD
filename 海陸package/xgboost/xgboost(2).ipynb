{
 "cells": [
  {
   "cell_type": "code",
   "execution_count": null,
   "metadata": {},
   "outputs": [],
   "source": [
    "import pandas as pd\n",
    "df2 = pd.read_csv('df2.csv')\n"
   ]
  },
  {
   "cell_type": "code",
   "execution_count": null,
   "metadata": {},
   "outputs": [],
   "source": [
    "df2.columns"
   ]
  },
  {
   "cell_type": "code",
   "execution_count": null,
   "metadata": {},
   "outputs": [],
   "source": [
    "\n",
    "df3=df2\n",
    "df3=df3.drop(columns=['結帳日期','Unnamed: 0'])\n",
    "df3=df3.dropna()\n",
    "\n",
    "onehot_encoding=pd.get_dummies(df3[\"month\"])\n",
    "df3 = pd.concat([onehot_encoding,df3],axis=1, join_axes=[onehot_encoding.index])\n",
    "onehot_encoding=pd.get_dummies(df3[\"year\"])\n",
    "df3 = pd.concat([onehot_encoding,df3],axis=1, join_axes=[onehot_encoding.index])\n",
    "onehot_encoding=pd.get_dummies(df3[\"origin_rank\"])\n",
    "df3 = pd.concat([onehot_encoding,df3],axis=1, join_axes=[onehot_encoding.index])\n",
    "onehot_encoding=pd.get_dummies(df3[\"new_rank\"])\n",
    "df3= pd.concat([onehot_encoding,df3],axis=1, join_axes=[onehot_encoding.index])\n",
    "#onehot_encoding=pd.get_dummies(df3[\"帳戶名稱\"])\n",
    "#df3= pd.concat([onehot_encoding,df3],axis=1, join_axes=[onehot_encoding.index])\n",
    "df3=df3.drop(columns=['month','year',\"origin_rank\",\"new_rank\",\"帳戶名稱\"])\n",
    "df3"
   ]
  },
  {
   "cell_type": "code",
   "execution_count": null,
   "metadata": {},
   "outputs": [],
   "source": [
    "df4=df2\n",
    "df4=df4.drop(columns=['結帳日期','Unnamed: 0'])\n",
    "df4=df4.dropna()\n",
    "\n",
    "onehot_encoding=pd.get_dummies(df4[\"month\"])\n",
    "df4= pd.concat([onehot_encoding,df4],axis=1, join_axes=[onehot_encoding.index])\n",
    "onehot_encoding=pd.get_dummies(df4[\"year\"])\n",
    "df4 = pd.concat([onehot_encoding,df4],axis=1, join_axes=[onehot_encoding.index])\n",
    "onehot_encoding=pd.get_dummies(df4[\"origin_rank\"])\n",
    "df4 = pd.concat([onehot_encoding,df4],axis=1, join_axes=[onehot_encoding.index])\n",
    "onehot_encoding=pd.get_dummies(df4[\"new_rank\"])\n",
    "df4= pd.concat([onehot_encoding,df4],axis=1, join_axes=[onehot_encoding.index])\n",
    "#onehot_encoding=pd.get_dummies(df3[\"帳戶名稱\"])\n",
    "#df3= pd.concat([onehot_encoding,df3],axis=1, join_axes=[onehot_encoding.index])\n",
    "#df4=df4.drop(columns=['month','year',\"origin_rank\",\"new_rank\",\"帳戶名稱\"])\n",
    "df4"
   ]
  },
  {
   "cell_type": "code",
   "execution_count": null,
   "metadata": {},
   "outputs": [],
   "source": [
    "myxAall = df3.drop([\"freq\"], axis=1)\n",
    "myyAall=df3[['freq']]\n",
    "import matplotlib.pyplot as plt\n",
    "plt.rcParams['font.sans-serif'] = ['Taipei Sans TC Beta']\n",
    "import xgboost as xgb\n",
    "from xgboost import plot_importance\n",
    "from sklearn.model_selection import train_test_split\n",
    "from sklearn.datasets import load_boston\n",
    "import numpy as np\n",
    "\n",
    "\n",
    "\n",
    "# Xgboost訓練過程\n",
    "X_train,X_test,y_train,y_test = train_test_split(myxAall,myyAall,test_size=0.2,random_state=42)\n",
    "\n",
    "model = xgb.XGBRegressor(max_depth=6)#,learning_rate=0.1,n_estimators=160,silent=True,objective='reg:gamma')\n",
    "model.fit(X_train,y_train)\n",
    "\n",
    "# 對測試集進行預測\n",
    "ans = model.predict(X_test)\n",
    "\n",
    "# 顯示重要特征\n",
    "#plt.rcParams['font.sans-serif'] = ['Taipei Sans TC Beta']\n",
    "fig,ax = plt.subplots(figsize=(15,15))\n",
    "plot_importance(model,\n",
    "                height=0.5,\n",
    "                ax=ax,\n",
    "                max_num_features=64)\n",
    "plt.show()\n",
    "\n",
    "\n",
    "from sklearn.metrics import mean_squared_error\n",
    "y_pred=model.predict(X_test)\n",
    "score = model.score(X_train, y_train)  \n",
    "print(\"Training score: \", score)\n",
    "\n",
    "mse = mean_squared_error(y_test, y_pred)\n",
    "print(\"MSE: %.2f\" % mse)\n",
    "\n",
    "1- mean_squared_error(y_test,y_pred)/ np.var(y_test)\n"
   ]
  },
  {
   "cell_type": "code",
   "execution_count": null,
   "metadata": {},
   "outputs": [],
   "source": [
    "uu=y_test.reset_index()\n",
    "uu[\"ypred\"]=y_pred\n",
    "uu"
   ]
  },
  {
   "cell_type": "code",
   "execution_count": null,
   "metadata": {},
   "outputs": [],
   "source": [
    "uus=uu.sort_values(by=['index'])\n",
    "uusr=uus.reset_index()\n",
    "uusr###################################333等著東西並進來的主表格(index當key裝東西)"
   ]
  },
  {
   "cell_type": "code",
   "execution_count": null,
   "metadata": {},
   "outputs": [],
   "source": [
    "df4u=df4.reset_index()"
   ]
  },
  {
   "cell_type": "code",
   "execution_count": null,
   "metadata": {},
   "outputs": [],
   "source": [
    "df4u"
   ]
  },
  {
   "cell_type": "code",
   "execution_count": null,
   "metadata": {},
   "outputs": [],
   "source": [
    "#回到df4U去建字典\n",
    "D2= {}\n",
    "D3= {}\n",
    "D4= {}\n",
    "for i in range(len(df4u['index'])):\n",
    "   # if D2.has_key(df.loc[i,'帳戶名稱']):\n",
    "   # if (df.loc[i,'帳戶名稱'] in D2)==False:\n",
    "        D2[df4u.loc[i,'index']]=df4u.loc[i,'MAONE']\n",
    "        D3[df4u.loc[i,'index']]=df4u.loc[i,'new_rank']\n",
    "        D4[df4u.loc[i,'index']]=df4u.loc[i,'origin_rank']"
   ]
  },
  {
   "cell_type": "code",
   "execution_count": null,
   "metadata": {},
   "outputs": [],
   "source": [
    "ld2=[]\n",
    "ld3=[]\n",
    "ld4=[]\n",
    "#df2.loc[i,'MAONE']\n",
    "#uusr.loc[i,'index']\n",
    "#dict.get(key, default=None)\n",
    "for i in range(len(uusr['level_0'])):\n",
    "    ld2s=D2.get(uusr.loc[i,'index'])\n",
    "    ld3s=D3.get(uusr.loc[i,'index'])\n",
    "    ld4s=D4.get(uusr.loc[i,'index'])\n",
    "    ld2.append(ld2s)\n",
    "    ld3.append(ld3s)\n",
    "    ld4.append(ld4s)"
   ]
  },
  {
   "cell_type": "code",
   "execution_count": null,
   "metadata": {},
   "outputs": [],
   "source": [
    "uusr['OLD_METHOD']=ld2\n",
    "uusr['new_rank']=ld3\n",
    "uusr['origin_rank']=ld4"
   ]
  },
  {
   "cell_type": "code",
   "execution_count": null,
   "metadata": {},
   "outputs": [],
   "source": [
    "uusr"
   ]
  },
  {
   "cell_type": "code",
   "execution_count": null,
   "metadata": {},
   "outputs": [],
   "source": [
    "#案前一天算的rmse\n",
    "rmse=0\n",
    "for i in range(len(uusr[\"level_0\"])):\n",
    "    rmse+=pow((uusr.loc[i,'OLD_METHOD']-uusr.loc[i,'freq']),2)\n",
    "rmse=rmse/len(uusr[\"level_0\"])\n",
    "rmse"
   ]
  },
  {
   "cell_type": "code",
   "execution_count": null,
   "metadata": {},
   "outputs": [],
   "source": []
  },
  {
   "cell_type": "code",
   "execution_count": null,
   "metadata": {},
   "outputs": [],
   "source": [
    "uusra=uusra.drop(columns=['level_0','index'])\n",
    "uusra"
   ]
  },
  {
   "cell_type": "code",
   "execution_count": null,
   "metadata": {},
   "outputs": [],
   "source": [
    "#按前一天算的rmse A組\n",
    "uusra=uusra.reset_index()\n",
    "rmse=0\n",
    "for i in range(len(uusra[\"freq\"])):\n",
    "    rmse+=pow((uusra.loc[i,'OLD_METHOD']-uusra.loc[i,'freq']),2)\n",
    "rmse=rmse/len(uusra[\"freq\"])\n",
    "rmse"
   ]
  },
  {
   "cell_type": "code",
   "execution_count": null,
   "metadata": {},
   "outputs": [],
   "source": [
    "#按pred算的rmse A組\n",
    "rmse=0\n",
    "for i in range(len(uusra[\"freq\"])):\n",
    "    rmse+=pow((uusra.loc[i,'ypred']-uusra.loc[i,'freq']),2)\n",
    "rmse=rmse/len(uusra[\"freq\"])\n",
    "rmse"
   ]
  },
  {
   "cell_type": "code",
   "execution_count": null,
   "metadata": {},
   "outputs": [],
   "source": [
    "fliter = (uusr[\"origin_rank\"] == \"B\")\n",
    "uusrb=uusr[fliter]\n",
    "uusrb=uusrb.drop(columns=['level_0','index'])\n",
    "uusrb=uusrb.reset_index()\n",
    "\n",
    "rmse=0\n",
    "for i in range(len(uusrb[\"freq\"])):\n",
    "    rmse+=pow((uusrb.loc[i,'OLD_METHOD']-uusrb.loc[i,'freq']),2)\n",
    "rmse=rmse/len(uusrb[\"freq\"])\n",
    "rmse\n",
    "print('old:'+str(rmse))\n",
    "rmse=0\n",
    "\n",
    "for i in range(len(uusrb[\"freq\"])):\n",
    "    rmse+=pow((uusr.loc[i,'ypred']-uusr.loc[i,'freq']),2)\n",
    "rmse=rmse/len(uusr[\"freq\"])\n",
    "print('mine:'+str(rmse))"
   ]
  },
  {
   "cell_type": "code",
   "execution_count": null,
   "metadata": {},
   "outputs": [],
   "source": [
    "fliter = (uusr[\"origin_rank\"] == \"C\")\n",
    "uusrc=uusr[fliter]\n",
    "uusrc=uusrc.drop(columns=['level_0','index'])\n",
    "uusrc=uusrc.reset_index()\n",
    "\n",
    "rmse=0\n",
    "for i in range(len(uusrc[\"freq\"])):\n",
    "    rmse+=pow((uusrc.loc[i,'OLD_METHOD']-uusrc.loc[i,'freq']),2)\n",
    "rmse=rmse/len(uusrc[\"freq\"])\n",
    "rmse\n",
    "print('old:'+str(rmse))\n",
    "rmse=0\n",
    "\n",
    "for i in range(len(uusrc[\"freq\"])):\n",
    "    rmse+=pow((uusrc.loc[i,'ypred']-uusrc.loc[i,'freq']),2)\n",
    "rmse=rmse/len(uusrc[\"freq\"])\n",
    "print('mine:'+str(rmse))"
   ]
  },
  {
   "cell_type": "code",
   "execution_count": null,
   "metadata": {},
   "outputs": [],
   "source": [
    "fliter = (uusr[\"origin_rank\"] == \"D\")\n",
    "uusrd=uusr[fliter]\n",
    "uusrd=uusrd.drop(columns=['level_0','index'])\n",
    "uusrd=uusrd.reset_index()\n",
    "\n",
    "rmse=0\n",
    "for i in range(len(uusrd[\"freq\"])):\n",
    "    rmse+=pow((uusrd.loc[i,'OLD_METHOD']-uusrd.loc[i,'freq']),2)\n",
    "rmse=rmse/len(uusrd[\"freq\"])\n",
    "rmse\n",
    "print('old:'+str(rmse))\n",
    "rmse=0\n",
    "\n",
    "for i in range(len(uusrd[\"freq\"])):\n",
    "    rmse+=pow((uusrd.loc[i,'ypred']-uusrd.loc[i,'freq']),2)\n",
    "rmse=rmse/len(uusrd[\"freq\"])\n",
    "print('mine:'+str(rmse))"
   ]
  },
  {
   "cell_type": "code",
   "execution_count": null,
   "metadata": {},
   "outputs": [],
   "source": [
    "fliter = (uusr[\"new_rank\"] == \"常貴客\")\n",
    "uusrchan=uusr[fliter]\n",
    "uusrchan=uusrchan.drop(columns=['level_0','index'])\n",
    "uusrchan=uusrchan.reset_index()\n",
    "\n",
    "rmse=0\n",
    "for i in range(len(uusrchan[\"freq\"])):\n",
    "    rmse+=pow((uusrchan.loc[i,'OLD_METHOD']-uusrchan.loc[i,'freq']),2)\n",
    "rmse=rmse/len(uusrchan[\"freq\"])\n",
    "rmse\n",
    "print('old:'+str(rmse))\n",
    "rmse=0\n",
    "\n",
    "for i in range(len(uusrchan[\"freq\"])):\n",
    "    rmse+=pow((uusrchan.loc[i,'ypred']-uusrchan.loc[i,'freq']),2)\n",
    "rmse=rmse/len(uusrchan[\"freq\"])\n",
    "print('mine:'+str(rmse))"
   ]
  },
  {
   "cell_type": "code",
   "execution_count": null,
   "metadata": {},
   "outputs": [],
   "source": [
    "fliter = (uusr[\"new_rank\"] == \"新顧客\")\n",
    "uusrchan=uusr[fliter]\n",
    "uusrchan=uusrchan.drop(columns=['level_0','index'])\n",
    "uusrchan=uusrchan.reset_index()\n",
    "\n",
    "rmse=0\n",
    "for i in range(len(uusrchan[\"freq\"])):\n",
    "    rmse+=pow((uusrchan.loc[i,'OLD_METHOD']-uusrchan.loc[i,'freq']),2)\n",
    "rmse=rmse/len(uusrchan[\"freq\"])\n",
    "rmse\n",
    "print('old:'+str(rmse))\n",
    "rmse=0\n",
    "\n",
    "for i in range(len(uusrchan[\"freq\"])):\n",
    "    rmse+=pow((uusrchan.loc[i,'ypred']-uusrchan.loc[i,'freq']),2)\n",
    "rmse=rmse/len(uusrchan[\"freq\"])\n",
    "print('mine:'+str(rmse))"
   ]
  },
  {
   "cell_type": "code",
   "execution_count": null,
   "metadata": {},
   "outputs": [],
   "source": [
    "fliter = (uusr[\"new_rank\"] == \"流失客\")\n",
    "uusrchan=uusr[fliter]\n",
    "uusrchan=uusrchan.drop(columns=['level_0','index'])\n",
    "uusrchan=uusrchan.reset_index()\n",
    "\n",
    "rmse=0\n",
    "for i in range(len(uusrchan[\"freq\"])):\n",
    "    rmse+=pow((uusrchan.loc[i,'OLD_METHOD']-uusrchan.loc[i,'freq']),2)\n",
    "rmse=rmse/len(uusrchan[\"freq\"])\n",
    "rmse\n",
    "print('old:'+str(rmse))\n",
    "rmse=0\n",
    "\n",
    "for i in range(len(uusrchan[\"freq\"])):\n",
    "    rmse+=pow((uusrchan.loc[i,'ypred']-uusrchan.loc[i,'freq']),2)\n",
    "rmse=rmse/len(uusrchan[\"freq\"])\n",
    "print('mine:'+str(rmse))"
   ]
  },
  {
   "cell_type": "code",
   "execution_count": null,
   "metadata": {},
   "outputs": [],
   "source": [
    "fliter = (uusr[\"new_rank\"] == \"沉睡客\")\n",
    "uusrchan=uusr[fliter]\n",
    "uusrchan=uusrchan.drop(columns=['level_0','index'])\n",
    "uusrchan=uusrchan.reset_index()\n",
    "\n",
    "rmse=0\n",
    "for i in range(len(uusrchan[\"freq\"])):\n",
    "    rmse+=pow((uusrchan.loc[i,'OLD_METHOD']-uusrchan.loc[i,'freq']),2)\n",
    "rmse=rmse/len(uusrchan[\"freq\"])\n",
    "rmse\n",
    "print('old:'+str(rmse))\n",
    "rmse=0\n",
    "\n",
    "for i in range(len(uusrchan[\"freq\"])):\n",
    "    rmse+=pow((uusrchan.loc[i,'ypred']-uusrchan.loc[i,'freq']),2)\n",
    "rmse=rmse/len(uusrchan[\"freq\"])\n",
    "print('mine:'+str(rmse))"
   ]
  },
  {
   "cell_type": "code",
   "execution_count": null,
   "metadata": {},
   "outputs": [],
   "source": [
    "myxAall.columns"
   ]
  },
  {
   "cell_type": "code",
   "execution_count": null,
   "metadata": {},
   "outputs": [],
   "source": [
    "myxAall = df3.drop([\"freq\"], axis=1)\n",
    "myyAall=df3[['freq']]\n",
    "import matplotlib.pyplot as plt\n",
    "plt.rcParams['font.sans-serif'] = ['Taipei Sans TC Beta']\n",
    "import xgboost as xgb\n",
    "from xgboost import plot_importance\n",
    "from sklearn.model_selection import train_test_split\n",
    "from sklearn.datasets import load_boston\n",
    "import numpy as np\n",
    "import shap\n",
    "\n",
    "\n",
    "\n",
    "\n",
    "# Xgboost訓練過程\n",
    "X_train,X_test,y_train,y_test = train_test_split(myxAall,myyAall,test_size=0.2,random_state=42)\n",
    "\n",
    "model = xgb.XGBRegressor(max_depth=6)#,learning_rate=0.1,n_estimators=160,silent=True,objective='reg:gamma')\n",
    "model.fit(X_train,y_train)\n",
    "\n",
    "explainer = shap.TreeExplainer(model)\n",
    "shap_values = explainer.shap_values(X_test)\n",
    "\n",
    "shap.summary_plot(shap_values, X_test, plot_type=\"bar\")\n"
   ]
  },
  {
   "cell_type": "code",
   "execution_count": null,
   "metadata": {},
   "outputs": [],
   "source": [
    "shap.summary_plot(shap_values, X_test)"
   ]
  },
  {
   "cell_type": "code",
   "execution_count": null,
   "metadata": {},
   "outputs": [],
   "source": [
    "X_test.columns"
   ]
  },
  {
   "cell_type": "code",
   "execution_count": null,
   "metadata": {},
   "outputs": [],
   "source": [
    "\n",
    "from sklearn.metrics import mean_squared_error\n",
    "y_pred=model.predict(X_test)\n",
    "score = model.score(X_train, y_train)  \n",
    "print(\"Training score: \", score)\n",
    "\n",
    "mse = mean_squared_error(y_test, y_pred)\n",
    "print(\"MSE: %.2f\" % mse)\n",
    "\n",
    "1- mean_squared_error(y_test,y_pred)/ np.var(y_test)"
   ]
  },
  {
   "cell_type": "code",
   "execution_count": null,
   "metadata": {},
   "outputs": [],
   "source": [
    "######################################################################################################################\n",
    "df4=df2\n",
    "df4=df4.drop(columns=['結帳日期','Unnamed: 0'])\n",
    "df4=df4.dropna()\n",
    "\n",
    "onehot_encoding=pd.get_dummies(df4[\"month\"])\n",
    "df4= pd.concat([onehot_encoding,df4],axis=1, join_axes=[onehot_encoding.index])\n",
    "onehot_encoding=pd.get_dummies(df4[\"year\"])\n",
    "df4 = pd.concat([onehot_encoding,df4],axis=1, join_axes=[onehot_encoding.index])\n",
    "onehot_encoding=pd.get_dummies(df4[\"origin_rank\"])\n",
    "df4 = pd.concat([onehot_encoding,df4],axis=1, join_axes=[onehot_encoding.index])\n",
    "onehot_encoding=pd.get_dummies(df4[\"new_rank\"])\n",
    "df4= pd.concat([onehot_encoding,df4],axis=1, join_axes=[onehot_encoding.index])\n",
    "onehot_encoding=pd.get_dummies(df4[\"帳戶名稱\"])\n",
    "df4= pd.concat([onehot_encoding,df4],axis=1, join_axes=[onehot_encoding.index])\n",
    "df4=df4.drop(columns=['month','year',\"origin_rank\",\"new_rank\",\"帳戶名稱\",'數量','turnover_right'])\n",
    "df4.columns"
   ]
  },
  {
   "cell_type": "code",
   "execution_count": null,
   "metadata": {},
   "outputs": [],
   "source": [
    "myxAall = df4.drop([\"freq\"], axis=1)\n",
    "myyAall=df4[['freq']]\n",
    "import matplotlib.pyplot as plt\n",
    "plt.rcParams['font.sans-serif'] = ['Taipei Sans TC Beta']\n",
    "import xgboost as xgb\n",
    "from xgboost import plot_importance\n",
    "from sklearn.model_selection import train_test_split\n",
    "from sklearn.datasets import load_boston\n",
    "import numpy as np\n",
    "\n",
    "\n",
    "\n",
    "# Xgboost訓練過程\n",
    "X_train,X_test,y_train,y_test = train_test_split(myxAall,myyAall,test_size=0.2,random_state=42)\n",
    "\n",
    "model = xgb.XGBRegressor(max_depth=6)#,learning_rate=0.1,n_estimators=160,silent=True,objective='reg:gamma')\n",
    "model.fit(X_train,y_train)\n",
    "\n",
    "\n",
    "\n",
    "explainer = shap.TreeExplainer(model)\n",
    "shap_values = explainer.shap_values(X_test)\n",
    "\n",
    "shap.summary_plot(shap_values, X_test, plot_type=\"bar\")\n"
   ]
  },
  {
   "cell_type": "code",
   "execution_count": null,
   "metadata": {},
   "outputs": [],
   "source": [
    "from sklearn.metrics import mean_squared_error\n",
    "y_pred=model.predict(X_test)\n",
    "score = model.score(X_train, y_train)  \n",
    "print(\"Training score: \", score)\n",
    "\n",
    "mse = mean_squared_error(y_test, y_pred)\n",
    "print(\"MSE: %.2f\" % mse)\n",
    "\n",
    "1- mean_squared_error(y_test,y_pred)/ np.var(y_test)\n"
   ]
  },
  {
   "cell_type": "code",
   "execution_count": null,
   "metadata": {},
   "outputs": [],
   "source": [
    "df4=df2\n",
    "df4=df4.drop(columns=['結帳日期','Unnamed: 0'])\n",
    "df4=df4.dropna()\n",
    "\n",
    "onehot_encoding=pd.get_dummies(df4[\"month\"])\n",
    "df4= pd.concat([onehot_encoding,df4],axis=1, join_axes=[onehot_encoding.index])\n",
    "onehot_encoding=pd.get_dummies(df4[\"year\"])\n",
    "df4 = pd.concat([onehot_encoding,df4],axis=1, join_axes=[onehot_encoding.index])\n",
    "#onehot_encoding=pd.get_dummies(df4[\"origin_rank\"])\n",
    "#df4 = pd.concat([onehot_encoding,df4],axis=1, join_axes=[onehot_encoding.index])\n",
    "onehot_encoding=pd.get_dummies(df4[\"new_rank\"])\n",
    "df4= pd.concat([onehot_encoding,df4],axis=1, join_axes=[onehot_encoding.index])\n",
    "#onehot_encoding=pd.get_dummies(df4[\"帳戶名稱\"])\n",
    "#df4= pd.concat([onehot_encoding,df4],axis=1, join_axes=[onehot_encoding.index])\n",
    "df4=df4.drop(columns=['month','year',\"origin_rank\",\"new_rank\",\"帳戶名稱\"])\n",
    "df4.columns"
   ]
  },
  {
   "cell_type": "code",
   "execution_count": null,
   "metadata": {},
   "outputs": [],
   "source": [
    "myxAall = df4.drop([\"freq\"], axis=1)\n",
    "myyAall=df4[['freq']]\n",
    "\n",
    "\n",
    "X_train,X_test,y_train,y_test = train_test_split(myxAall,myyAall,test_size=0.2,random_state=42)\n",
    "\n",
    "model = xgb.XGBRegressor(max_depth=6)#,learning_rate=0.1,n_estimators=160,silent=True,objective='reg:gamma')\n",
    "model.fit(X_train,y_train)\n",
    "\n",
    "\n",
    "\n",
    "explainer = shap.TreeExplainer(model)\n",
    "shap_values = explainer.shap_values(X_test)\n",
    "\n",
    "shap.summary_plot(shap_values, X_test, plot_type=\"bar\")\n"
   ]
  },
  {
   "cell_type": "code",
   "execution_count": null,
   "metadata": {},
   "outputs": [],
   "source": [
    "from sklearn.metrics import mean_squared_error\n",
    "y_pred=model.predict(X_test)\n",
    "score = model.score(X_train, y_train)  \n",
    "print(\"Training score: \", score)\n",
    "\n",
    "mse = mean_squared_error(y_test, y_pred)\n",
    "print(\"MSE: %.2f\" % mse)\n",
    "\n",
    "1- mean_squared_error(y_test,y_pred)/ np.var(y_test)"
   ]
  },
  {
   "cell_type": "code",
   "execution_count": null,
   "metadata": {},
   "outputs": [],
   "source": [
    "uu=y_test.reset_index()\n",
    "uu[\"ypred\"]=y_pred\n",
    "uus=uu.sort_values(by=['index'])\n",
    "uusr=uus.reset_index()\n",
    "df4u=df2.reset_index()\n",
    "D2= {}\n",
    "D3= {}\n",
    "D4= {}\n",
    "for i in range(len(df4u['index'])):\n",
    "   # if D2.has_key(df.loc[i,'帳戶名稱']):\n",
    "   # if (df.loc[i,'帳戶名稱'] in D2)==False:\n",
    "        D2[df4u.loc[i,'index']]=df4u.loc[i,'MAONE']\n",
    "        D3[df4u.loc[i,'index']]=df4u.loc[i,'new_rank']\n",
    "        D4[df4u.loc[i,'index']]=df4u.loc[i,'origin_rank']\n",
    "ld2=[]\n",
    "ld3=[]\n",
    "ld4=[]\n",
    "#df2.loc[i,'MAONE']\n",
    "#uusr.loc[i,'index']\n",
    "#dict.get(key, default=None)\n",
    "for i in range(len(uusr['level_0'])):\n",
    "    ld2s=D2.get(uusr.loc[i,'index'])\n",
    "    ld3s=D3.get(uusr.loc[i,'index'])\n",
    "    ld4s=D4.get(uusr.loc[i,'index'])\n",
    "    ld2.append(ld2s)\n",
    "    ld3.append(ld3s)\n",
    "    ld4.append(ld4s)\n",
    "uusr['OLD_METHOD']=ld2\n",
    "uusr['new_rank']=ld3\n",
    "uusr['origin_rank']=ld4\n",
    "rmse=0\n",
    "for i in range(len(uusr[\"level_0\"])):\n",
    "    rmse+=pow((uusr.loc[i,'OLD_METHOD']-uusr.loc[i,'freq']),2)\n",
    "rmse=rmse/len(uusr[\"level_0\"])\n",
    "rmse\n",
    "#fliter = (uusr[\"origin_rank\"] == \"A\")\n",
    "uusra=uusr#[fliter]\n",
    "uusra\n",
    "uusra=uusra.drop(columns=['level_0','index'])\n",
    "uusra\n",
    "\n",
    "uusra=uusra.reset_index()\n",
    "#按前一天算的rmse A組\n",
    "rmse=0\n",
    "for i in range(len(uusra[\"freq\"])):\n",
    "    rmse+=pow((uusra.loc[i,'OLD_METHOD']-uusra.loc[i,'freq']),2)\n",
    "rmse=rmse/len(uusra[\"freq\"])\n",
    "print(\"old\"+str(rmse))\n",
    "\n",
    "#按pred算的rmse A組\n",
    "rmse=0\n",
    "for i in range(len(uusra[\"freq\"])):\n",
    "    rmse+=pow((uusra.loc[i,'ypred']-uusra.loc[i,'freq']),2)\n",
    "rmse=rmse/len(uusra[\"freq\"])\n",
    "print(\"mine\"+str(rmse))\n"
   ]
  },
  {
   "cell_type": "code",
   "execution_count": null,
   "metadata": {},
   "outputs": [],
   "source": [
    "len(uusra[\"freq\"])"
   ]
  },
  {
   "cell_type": "code",
   "execution_count": null,
   "metadata": {},
   "outputs": [],
   "source": []
  },
  {
   "cell_type": "code",
   "execution_count": null,
   "metadata": {},
   "outputs": [],
   "source": [
    "pow(2611,0.5)"
   ]
  },
  {
   "cell_type": "code",
   "execution_count": null,
   "metadata": {},
   "outputs": [],
   "source": [
    "pow(1594,0.5)"
   ]
  },
  {
   "cell_type": "code",
   "execution_count": null,
   "metadata": {},
   "outputs": [],
   "source": [
    "df4"
   ]
  },
  {
   "cell_type": "code",
   "execution_count": null,
   "metadata": {},
   "outputs": [],
   "source": [
    "uu=y_test.reset_index()\n",
    "uu[\"ypred\"]=y_pred\n",
    "uus=uu.sort_values(by=['index'])\n",
    "uusr=uus.reset_index()\n",
    "df4u=df2.reset_index()\n",
    "D2= {}\n",
    "D3= {}\n",
    "D4= {}\n",
    "for i in range(len(df4u['index'])):\n",
    "   # if D2.has_key(df.loc[i,'帳戶名稱']):\n",
    "   # if (df.loc[i,'帳戶名稱'] in D2)==False:\n",
    "        D2[df4u.loc[i,'index']]=df4u.loc[i,'MAONE']\n",
    "        D3[df4u.loc[i,'index']]=df4u.loc[i,'new_rank']\n",
    "        D4[df4u.loc[i,'index']]=df4u.loc[i,'origin_rank']\n",
    "ld2=[]\n",
    "ld3=[]\n",
    "ld4=[]\n",
    "#df2.loc[i,'MAONE']\n",
    "#uusr.loc[i,'index']\n",
    "#dict.get(key, default=None)\n",
    "for i in range(len(uusr['level_0'])):\n",
    "    ld2s=D2.get(uusr.loc[i,'index'])\n",
    "    ld3s=D3.get(uusr.loc[i,'index'])\n",
    "    ld4s=D4.get(uusr.loc[i,'index'])\n",
    "    ld2.append(ld2s)\n",
    "    ld3.append(ld3s)\n",
    "    ld4.append(ld4s)\n",
    "uusr['OLD_METHOD']=ld2\n",
    "uusr['new_rank']=ld3\n",
    "uusr['origin_rank']=ld4\n",
    "rmse=0\n",
    "for i in range(len(uusr[\"level_0\"])):\n",
    "    rmse+=pow((uusr.loc[i,'OLD_METHOD']-uusr.loc[i,'freq']),2)\n",
    "rmse=rmse/len(uusr[\"level_0\"])\n",
    "rmse\n",
    "fliter = (uusr[\"origin_rank\"] == \"A\")\n",
    "uusra=uusr[fliter]\n",
    "uusra\n",
    "uusra=uusra.drop(columns=['level_0','index'])\n",
    "uusra\n",
    "\n",
    "uusra=uusra.reset_index()\n",
    "#按前一天算的rmse A組\n",
    "rmse=0\n",
    "for i in range(len(uusra[\"freq\"])):\n",
    "    rmse+=pow((uusra.loc[i,'OLD_METHOD']-uusra.loc[i,'freq']),2)\n",
    "rmse=rmse/len(uusra[\"freq\"])\n",
    "print(\"old\"+str(rmse))\n",
    "\n",
    "#按pred算的rmse A組\n",
    "rmse=0\n",
    "for i in range(len(uusra[\"freq\"])):\n",
    "    rmse+=pow((uusra.loc[i,'ypred']-uusra.loc[i,'freq']),2)\n",
    "rmse=rmse/len(uusra[\"freq\"])\n",
    "print(\"mine\"+str(rmse))\n"
   ]
  },
  {
   "cell_type": "code",
   "execution_count": null,
   "metadata": {},
   "outputs": [],
   "source": [
    "len(uusra[\"freq\"])"
   ]
  },
  {
   "cell_type": "code",
   "execution_count": null,
   "metadata": {},
   "outputs": [],
   "source": [
    "pow(30,0.5)"
   ]
  },
  {
   "cell_type": "code",
   "execution_count": null,
   "metadata": {},
   "outputs": [],
   "source": [
    "px=[]\n",
    "for i in range(len(uusra[\"freq\"])):\n",
    "    px.append(i+1)\n",
    "px"
   ]
  },
  {
   "cell_type": "code",
   "execution_count": null,
   "metadata": {},
   "outputs": [],
   "source": [
    "len(uusra[\"freq\"])"
   ]
  },
  {
   "cell_type": "code",
   "execution_count": null,
   "metadata": {},
   "outputs": [],
   "source": [
    "plt.figure(figsize=(20,4))\n",
    "x_ax = range(len(y_test))\n",
    "plt.plot(px, uusra[\"freq\"], label=\"original\")\n",
    "plt.plot(px, uusra[\"ypred\"], label=\"predicted\",alpha=0.7)\n",
    "#plt.title(\"Boston test and predicted data\")\n",
    "plt.legend()\n",
    "plt.show()"
   ]
  },
  {
   "cell_type": "code",
   "execution_count": null,
   "metadata": {},
   "outputs": [],
   "source": [
    "fliter = (uusr[\"origin_rank\"] == \"B\")\n",
    "uusrb=uusr[fliter]\n",
    "uusrb=uusrb.drop(columns=['level_0','index'])\n",
    "uusrb=uusrb.reset_index()\n",
    "\n",
    "rmse=0\n",
    "for i in range(len(uusrb[\"freq\"])):\n",
    "    rmse+=pow((uusrb.loc[i,'OLD_METHOD']-uusrb.loc[i,'freq']),2)\n",
    "rmse=rmse/len(uusrb[\"freq\"])\n",
    "rmse\n",
    "print('old:'+str(rmse))\n",
    "rmse=0\n",
    "\n",
    "for i in range(len(uusrb[\"freq\"])):\n",
    "    rmse+=pow((uusr.loc[i,'ypred']-uusr.loc[i,'freq']),2)\n",
    "rmse=rmse/len(uusr[\"freq\"])\n",
    "print('mine:'+str(rmse))"
   ]
  },
  {
   "cell_type": "code",
   "execution_count": null,
   "metadata": {},
   "outputs": [],
   "source": [
    "len(uusrb[\"freq\"])"
   ]
  },
  {
   "cell_type": "code",
   "execution_count": null,
   "metadata": {},
   "outputs": [],
   "source": [
    "pow(166,0.5)"
   ]
  },
  {
   "cell_type": "code",
   "execution_count": null,
   "metadata": {},
   "outputs": [],
   "source": [
    "px=[]\n",
    "for i in range(len(uusrb[\"freq\"])):\n",
    "    px.append(i+1)"
   ]
  },
  {
   "cell_type": "code",
   "execution_count": null,
   "metadata": {},
   "outputs": [],
   "source": [
    "plt.figure(figsize=(20,4))\n",
    "x_ax = range(len(y_test))\n",
    "plt.plot(px, uusrb[\"freq\"], label=\"original\")\n",
    "plt.plot(px, uusrb[\"ypred\"], label=\"predicted\",alpha=0.7)\n",
    "#plt.title(\"Boston test and predicted data\")\n",
    "plt.legend()\n",
    "plt.show()"
   ]
  },
  {
   "cell_type": "code",
   "execution_count": null,
   "metadata": {},
   "outputs": [],
   "source": [
    "fliter = (uusr[\"origin_rank\"] == \"C\")\n",
    "uusrc=uusr[fliter]\n",
    "uusrc=uusrc.drop(columns=['level_0','index'])\n",
    "uusrc=uusrc.reset_index()\n",
    "\n",
    "rmse=0\n",
    "for i in range(len(uusrc[\"freq\"])):\n",
    "    rmse+=pow((uusrc.loc[i,'OLD_METHOD']-uusrc.loc[i,'freq']),2)\n",
    "rmse=rmse/len(uusrc[\"freq\"])\n",
    "rmse\n",
    "print('old:'+str(rmse))\n",
    "rmse=0\n",
    "\n",
    "for i in range(len(uusrc[\"freq\"])):\n",
    "    rmse+=pow((uusrc.loc[i,'ypred']-uusrc.loc[i,'freq']),2)\n",
    "rmse=rmse/len(uusrc[\"freq\"])\n",
    "print('mine:'+str(rmse))"
   ]
  },
  {
   "cell_type": "code",
   "execution_count": null,
   "metadata": {},
   "outputs": [],
   "source": [
    "len(uusrc[\"freq\"])"
   ]
  },
  {
   "cell_type": "code",
   "execution_count": null,
   "metadata": {},
   "outputs": [],
   "source": [
    "pow(620,0.5)"
   ]
  },
  {
   "cell_type": "code",
   "execution_count": null,
   "metadata": {},
   "outputs": [],
   "source": [
    "px=[]\n",
    "for i in range(len(uusrc[\"freq\"])):\n",
    "    px.append(i+1)"
   ]
  },
  {
   "cell_type": "code",
   "execution_count": null,
   "metadata": {},
   "outputs": [],
   "source": [
    "plt.figure(figsize=(20,4))\n",
    "x_ax = range(len(y_test))\n",
    "plt.plot(px, uusrc[\"freq\"], label=\"original\")\n",
    "plt.plot(px, uusrc[\"ypred\"], label=\"predicted\",alpha=0.7)\n",
    "#plt.title(\"Boston test and predicted data\")\n",
    "plt.legend()\n",
    "plt.show()"
   ]
  },
  {
   "cell_type": "code",
   "execution_count": null,
   "metadata": {},
   "outputs": [],
   "source": [
    "fliter = (uusr[\"origin_rank\"] == \"D\")\n",
    "uusrd=uusr[fliter]\n",
    "uusrd=uusrd.drop(columns=['level_0','index'])\n",
    "uusrd=uusrd.reset_index()\n",
    "\n",
    "rmse=0\n",
    "for i in range(len(uusrd[\"freq\"])):\n",
    "    rmse+=pow((uusrd.loc[i,'OLD_METHOD']-uusrd.loc[i,'freq']),2)\n",
    "rmse=rmse/len(uusrd[\"freq\"])\n",
    "rmse\n",
    "print('old:'+str(rmse))\n",
    "rmse=0\n",
    "\n",
    "for i in range(len(uusrd[\"freq\"])):\n",
    "    rmse+=pow((uusrd.loc[i,'ypred']-uusrd.loc[i,'freq']),2)\n",
    "rmse=rmse/len(uusrd[\"freq\"])\n",
    "print('mine:'+str(rmse))"
   ]
  },
  {
   "cell_type": "code",
   "execution_count": null,
   "metadata": {},
   "outputs": [],
   "source": [
    "len(uusrd[\"freq\"])\n"
   ]
  },
  {
   "cell_type": "code",
   "execution_count": null,
   "metadata": {},
   "outputs": [],
   "source": [
    "pow(6819,0.5)"
   ]
  },
  {
   "cell_type": "code",
   "execution_count": null,
   "metadata": {},
   "outputs": [],
   "source": [
    "px=[]\n",
    "for i in range(len(uusrd[\"freq\"])):\n",
    "    px.append(i+1)"
   ]
  },
  {
   "cell_type": "code",
   "execution_count": null,
   "metadata": {},
   "outputs": [],
   "source": [
    "plt.figure(figsize=(20,4))\n",
    "x_ax = range(len(y_test))\n",
    "plt.plot(px, uusrd[\"freq\"], label=\"original\")\n",
    "plt.plot(px, uusrd[\"ypred\"], label=\"predicted\",alpha=0.7)\n",
    "#plt.title(\"Boston test and predicted data\")\n",
    "plt.legend()\n",
    "plt.show()"
   ]
  }
 ],
 "metadata": {
  "kernelspec": {
   "display_name": "Python 3",
   "language": "python",
   "name": "python3"
  },
  "language_info": {
   "codemirror_mode": {
    "name": "ipython",
    "version": 3
   },
   "file_extension": ".py",
   "mimetype": "text/x-python",
   "name": "python",
   "nbconvert_exporter": "python",
   "pygments_lexer": "ipython3",
   "version": "3.7.3"
  }
 },
 "nbformat": 4,
 "nbformat_minor": 2
}
