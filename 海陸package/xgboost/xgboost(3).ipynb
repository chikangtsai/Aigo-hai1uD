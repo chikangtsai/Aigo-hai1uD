{
 "cells": [
  {
   "cell_type": "code",
   "execution_count": null,
   "metadata": {},
   "outputs": [],
   "source": [
    "import pandas as pd\n",
    "df2 = pd.read_csv('df2.csv')"
   ]
  },
  {
   "cell_type": "code",
   "execution_count": null,
   "metadata": {},
   "outputs": [],
   "source": [
    "#x全放==============================================================================================================\n",
    "df3=df2\n",
    "df3=df3.drop(columns=['結帳日期','Unnamed: 0'])\n",
    "df3=df3.dropna()\n",
    "\n",
    "onehot_encoding=pd.get_dummies(df3[\"month\"])\n",
    "df3 = pd.concat([onehot_encoding,df3],axis=1, join_axes=[onehot_encoding.index])\n",
    "onehot_encoding=pd.get_dummies(df3[\"year\"])\n",
    "df3 = pd.concat([onehot_encoding,df3],axis=1, join_axes=[onehot_encoding.index])\n",
    "onehot_encoding=pd.get_dummies(df3[\"origin_rank\"])\n",
    "df3 = pd.concat([onehot_encoding,df3],axis=1, join_axes=[onehot_encoding.index])\n",
    "onehot_encoding=pd.get_dummies(df3[\"new_rank\"])\n",
    "df3= pd.concat([onehot_encoding,df3],axis=1, join_axes=[onehot_encoding.index])\n",
    "onehot_encoding=pd.get_dummies(df3[\"帳戶名稱\"])\n",
    "df3= pd.concat([onehot_encoding,df3],axis=1, join_axes=[onehot_encoding.index])\n",
    "#df3=df3.drop(columns=['month',\"origin_rank\",\"new_rank\",\"帳戶名稱\",'turnover_right']) "
   ]
  },
  {
   "cell_type": "code",
   "execution_count": null,
   "metadata": {},
   "outputs": [],
   "source": [
    "fliter = ((df3[\"year\"].astype(float))<2020)\n",
    "df5=df3[fliter]    #train\n",
    "fliter = ((df3[\"year\"].astype(float))==2020)\n",
    "df6=df3[fliter]    #test"
   ]
  },
  {
   "cell_type": "code",
   "execution_count": null,
   "metadata": {},
   "outputs": [],
   "source": [
    "df5t=df5.drop(columns=['month','year',\"origin_rank\",\"new_rank\",\"帳戶名稱\",'turnover_right'])#train\n",
    "df6t=df6.drop(columns=['month','year',\"origin_rank\",\"new_rank\",\"帳戶名稱\",\"turnover_right\"])#test"
   ]
  },
  {
   "cell_type": "code",
   "execution_count": null,
   "metadata": {},
   "outputs": [],
   "source": [
    "len(X_test)"
   ]
  },
  {
   "cell_type": "code",
   "execution_count": null,
   "metadata": {},
   "outputs": [],
   "source": [
    "X_train=df5t.drop([\"freq\"], axis=1)\n",
    "X_test=df6t.drop([\"freq\"], axis=1)\n",
    "y_train=df5t[['freq']]\n",
    "y_test=df6t[['freq']]"
   ]
  },
  {
   "cell_type": "code",
   "execution_count": null,
   "metadata": {},
   "outputs": [],
   "source": [
    "import matplotlib.pyplot as plt\n",
    "plt.rcParams['font.sans-serif'] = ['Taipei Sans TC Beta']\n",
    "import xgboost as xgb\n",
    "from xgboost import plot_importance\n",
    "from sklearn.model_selection import train_test_split\n",
    "from sklearn.datasets import load_boston\n",
    "import numpy as np\n",
    "import shap\n",
    "\n",
    "\n",
    "\n",
    "\n",
    "# Xgboost訓練過程\n",
    "#X_train,X_test,y_train,y_test = train_test_split(myxAall,myyAall,test_size=0.2,random_state=42)\n",
    "\n",
    "model = xgb.XGBRegressor(max_depth=6)#,learning_rate=0.1,n_estimators=160,silent=True,objective='reg:gamma')\n",
    "model.fit(X_train,y_train)\n",
    "\n",
    "explainer = shap.TreeExplainer(model)\n",
    "shap_values = explainer.shap_values(X_test)\n",
    "\n",
    "shap.summary_plot(shap_values, X_test, plot_type=\"bar\")"
   ]
  },
  {
   "cell_type": "code",
   "execution_count": null,
   "metadata": {},
   "outputs": [],
   "source": [
    "from sklearn.metrics import mean_squared_error\n",
    "y_pred=model.predict(X_test)\n",
    "score = model.score(X_train, y_train)  \n",
    "print(\"Training score: \", score)\n",
    "\n",
    "mse = mean_squared_error(y_test, y_pred)\n",
    "rmse=pow(mse,0.5)\n",
    "print(\"RMSE: %.2f\" % rmse)\n",
    "\n",
    "1- mean_squared_error(y_test,y_pred)/ np.var(y_test)"
   ]
  },
  {
   "cell_type": "code",
   "execution_count": null,
   "metadata": {},
   "outputs": [],
   "source": [
    "#改取前10===================================================================================\n",
    "#轉LOG再轉回來\n",
    "frq_log=np.log(df2['freq'])\n",
    "df2['log_fq']=frq_log\n",
    "df2"
   ]
  },
  {
   "cell_type": "code",
   "execution_count": null,
   "metadata": {},
   "outputs": [],
   "source": [
    "df2.columns"
   ]
  },
  {
   "cell_type": "code",
   "execution_count": null,
   "metadata": {},
   "outputs": [],
   "source": [
    "df3=df2\n",
    "df3=df3.drop(columns=['結帳日期','Unnamed: 0'])\n",
    "df3=df3.dropna()\n",
    "\n",
    "#onehot_encoding=pd.get_dummies(df3[\"month\"])\n",
    "#df3 = pd.concat([onehot_encoding,df3],axis=1, join_axes=[onehot_encoding.index])\n",
    "onehot_encoding=pd.get_dummies(df3[\"year\"])\n",
    "df3 = pd.concat([onehot_encoding,df3],axis=1, join_axes=[onehot_encoding.index])\n",
    "#onehot_encoding=pd.get_dummies(df3[\"origin_rank\"])\n",
    "#df3 = pd.concat([onehot_encoding,df3],axis=1, join_axes=[onehot_encoding.index])\n",
    "onehot_encoding=pd.get_dummies(df3[\"new_rank\"])\n",
    "df3= pd.concat([onehot_encoding,df3],axis=1, join_axes=[onehot_encoding.index])\n",
    "#onehot_encoding=pd.get_dummies(df3[\"帳戶名稱\"])\n",
    "#df3= pd.concat([onehot_encoding,df3],axis=1, join_axes=[onehot_encoding.index])"
   ]
  },
  {
   "cell_type": "code",
   "execution_count": null,
   "metadata": {},
   "outputs": [],
   "source": [
    "fliter = ((df3[\"year\"].astype(float))<2020)\n",
    "df5=df3[fliter]    #train\n",
    "fliter = ((df3[\"year\"].astype(float))==2020)\n",
    "df6=df3[fliter]    #test"
   ]
  },
  {
   "cell_type": "code",
   "execution_count": null,
   "metadata": {},
   "outputs": [],
   "source": [
    "df5t=df5.drop(columns=['month','year',\"origin_rank\",\"new_rank\",\"帳戶名稱\",'turnover_right','freq','數量','diff_right','freq'])#train\n",
    "df6t=df6.drop(columns=['month','year',\"origin_rank\",\"new_rank\",\"帳戶名稱\",\"turnover_right\",'freq','數量','diff_right','freq'])#test"
   ]
  },
  {
   "cell_type": "code",
   "execution_count": null,
   "metadata": {},
   "outputs": [],
   "source": [
    "df5t.columns"
   ]
  },
  {
   "cell_type": "code",
   "execution_count": null,
   "metadata": {},
   "outputs": [],
   "source": [
    "X_train=df5t.drop(['log_fq'], axis=1)\n",
    "X_test=df6t.drop(['log_fq'], axis=1)\n",
    "y_train=df5t[['log_fq']]\n",
    "y_test=df6t[['log_fq']]"
   ]
  },
  {
   "cell_type": "code",
   "execution_count": null,
   "metadata": {},
   "outputs": [],
   "source": [
    "import matplotlib.pyplot as plt\n",
    "plt.rcParams['font.sans-serif'] = ['Taipei Sans TC Beta']\n",
    "import xgboost as xgb\n",
    "from xgboost import plot_importance\n",
    "from sklearn.model_selection import train_test_split\n",
    "from sklearn.datasets import load_boston\n",
    "import numpy as np\n",
    "import shap\n",
    "\n",
    "\n",
    "\n",
    "\n",
    "# Xgboost訓練過程\n",
    "#X_train,X_test,y_train,y_test = train_test_split(myxAall,myyAall,test_size=0.2,random_state=42)\n",
    "\n",
    "model = xgb.XGBRegressor(max_depth=6)#,learning_rate=0.1,n_estimators=160,silent=True,objective='reg:gamma')\n",
    "model.fit(X_train,y_train)\n",
    "\n",
    "from sklearn.metrics import mean_squared_error\n",
    "y_pred=model.predict(X_test)\n",
    "score = model.score(X_train, y_train)  \n",
    "print(\"Training score: \", score)\n",
    "\n",
    "#mse = mean_squared_error(y_test, y_pred)\n",
    "#rmse=pow(mse,0.5)\n",
    "#print(\"RMSE: %.2f\" % rmse)\n",
    "\n",
    "1- mean_squared_error(y_test,y_pred)/ np.var(y_test)"
   ]
  },
  {
   "cell_type": "code",
   "execution_count": null,
   "metadata": {},
   "outputs": [],
   "source": [
    "uu=y_test.reset_index()\n",
    "uu[\"ypred\"]=y_pred\n",
    "uus=uu.sort_values(by=['index'])\n",
    "uusr=uus.reset_index()\n",
    "uusr"
   ]
  },
  {
   "cell_type": "code",
   "execution_count": null,
   "metadata": {},
   "outputs": [],
   "source": [
    "fq=np.exp(uusr['log_fq'])\n",
    "uusr['freq']=fq\n",
    "pred_exp=np.exp(uusr['ypred'])\n",
    "uusr['ypred_exp']=pred_exp\n",
    "uusr"
   ]
  },
  {
   "cell_type": "code",
   "execution_count": null,
   "metadata": {},
   "outputs": [],
   "source": [
    "mse = mean_squared_error(uusr['ypred_exp'], uusr['freq'])\n",
    "rmse=pow(mse,0.5)\n",
    "rmse  ##總rmse"
   ]
  },
  {
   "cell_type": "code",
   "execution_count": null,
   "metadata": {},
   "outputs": [],
   "source": [
    "df6"
   ]
  },
  {
   "cell_type": "code",
   "execution_count": null,
   "metadata": {},
   "outputs": [],
   "source": [
    "df4u=df6.reset_index()\n",
    "#回到df4U去建字典\n",
    "D2= {}\n",
    "D3= {}\n",
    "D4= {}\n",
    "for i in range(len(df4u['index'])):\n",
    "   # if D2.has_key(df.loc[i,'帳戶名稱']):\n",
    "   # if (df.loc[i,'帳戶名稱'] in D2)==False:\n",
    "        D2[df4u.loc[i,'index']]=df4u.loc[i,'MAONE']\n",
    "        D3[df4u.loc[i,'index']]=df4u.loc[i,'new_rank']\n",
    "        D4[df4u.loc[i,'index']]=df4u.loc[i,'origin_rank']\n",
    "        \n",
    "ld2=[]\n",
    "ld3=[]\n",
    "ld4=[]\n",
    "#df2.loc[i,'MAONE']\n",
    "#uusr.loc[i,'index']\n",
    "#dict.get(key, default=None)\n",
    "for i in range(len(uusr['level_0'])):\n",
    "    ld2s=D2.get(uusr.loc[i,'index'])\n",
    "    ld3s=D3.get(uusr.loc[i,'index'])\n",
    "    ld4s=D4.get(uusr.loc[i,'index'])\n",
    "    ld2.append(ld2s)\n",
    "    ld3.append(ld3s)\n",
    "    ld4.append(ld4s)\n",
    "\n",
    "uusr['OLD_METHOD']=ld2\n",
    "uusr['new_rank']=ld3\n",
    "uusr['origin_rank']=ld4\n",
    "uusr"
   ]
  },
  {
   "cell_type": "code",
   "execution_count": null,
   "metadata": {},
   "outputs": [],
   "source": [
    "#A級結果\n",
    "fliter = (uusr[\"origin_rank\"] == \"A\")\n",
    "uusra=uusr[fliter]\n",
    "uusra=uusra.drop(columns=['level_0','index'])\n",
    "uusra=uusra.reset_index()\n",
    "\n",
    "rmse=0\n",
    "for i in range(len(uusra[\"freq\"])):\n",
    "    rmse+=pow((uusra.loc[i,'OLD_METHOD']-uusra.loc[i,'freq']),2)\n",
    "rmse=rmse/len(uusra[\"freq\"])\n",
    "rmse=pow(rmse,0.5)\n",
    "print('old:'+str(rmse))\n",
    "rmse=0\n",
    "\n",
    "for i in range(len(uusra[\"freq\"])):\n",
    "    rmse+=pow((uusra.loc[i,'ypred_exp']-uusra.loc[i,'freq']),2)\n",
    "rmse=rmse/len(uusra[\"freq\"])\n",
    "rmse=pow(rmse,0.5)\n",
    "\n",
    "print('mine:'+str(rmse))\n",
    "print(\"測試資料筆數\"+str(len(uusra[\"freq\"])))"
   ]
  },
  {
   "cell_type": "code",
   "execution_count": null,
   "metadata": {},
   "outputs": [],
   "source": [
    "px=[]\n",
    "for i in range(len(uusra[\"freq\"])):\n",
    "    px.append(i+1)\n",
    "plt.figure(figsize=(20,4))\n",
    "plt.plot(px, uusra[\"freq\"], label=\"next_order\")\n",
    "plt.plot(px, uusra[\"ypred_exp\"], label=\"predicted\",alpha=0.7)\n",
    "#plt.title(\"Boston test and predicted data\")\n",
    "plt.legend()\n",
    "plt.show()    "
   ]
  },
  {
   "cell_type": "code",
   "execution_count": null,
   "metadata": {},
   "outputs": [],
   "source": [
    "#B級結果\n",
    "fliter = (uusr[\"origin_rank\"] == \"B\")\n",
    "uusra=uusr[fliter]\n",
    "uusra=uusra.drop(columns=['level_0','index'])\n",
    "uusra=uusra.reset_index()\n",
    "\n",
    "rmse=0\n",
    "for i in range(len(uusra[\"freq\"])):\n",
    "    rmse+=pow((uusra.loc[i,'OLD_METHOD']-uusra.loc[i,'freq']),2)\n",
    "rmse=rmse/len(uusra[\"freq\"])\n",
    "rmse=pow(rmse,0.5)\n",
    "print('old:'+str(rmse))\n",
    "rmse=0\n",
    "\n",
    "for i in range(len(uusra[\"freq\"])):\n",
    "    rmse+=pow((uusra.loc[i,'ypred_exp']-uusra.loc[i,'freq']),2)\n",
    "rmse=rmse/len(uusra[\"freq\"])\n",
    "rmse=pow(rmse,0.5)\n",
    "\n",
    "print('mine:'+str(rmse))\n",
    "print(\"測試資料筆數\"+str(len(uusra[\"freq\"])))"
   ]
  },
  {
   "cell_type": "code",
   "execution_count": null,
   "metadata": {},
   "outputs": [],
   "source": [
    "px=[]\n",
    "for i in range(len(uusra[\"freq\"])):\n",
    "    px.append(i+1)\n",
    "plt.figure(figsize=(20,4))\n",
    "plt.plot(px, uusra[\"freq\"], label=\"next_order\")\n",
    "plt.plot(px, uusra[\"ypred_exp\"], label=\"predicted\",alpha=0.7)\n",
    "#plt.title(\"Boston test and predicted data\")\n",
    "plt.legend()\n",
    "plt.show()    "
   ]
  },
  {
   "cell_type": "code",
   "execution_count": null,
   "metadata": {},
   "outputs": [],
   "source": [
    "#B級結果\n",
    "fliter = (uusr[\"origin_rank\"] == \"C\")\n",
    "uusra=uusr[fliter]\n",
    "uusra=uusra.drop(columns=['level_0','index'])\n",
    "uusra=uusra.reset_index()\n",
    "\n",
    "rmse=0\n",
    "for i in range(len(uusra[\"freq\"])):\n",
    "    rmse+=pow((uusra.loc[i,'OLD_METHOD']-uusra.loc[i,'freq']),2)\n",
    "rmse=rmse/len(uusra[\"freq\"])\n",
    "rmse=pow(rmse,0.5)\n",
    "print('old:'+str(rmse))\n",
    "rmse=0\n",
    "\n",
    "for i in range(len(uusra[\"freq\"])):\n",
    "    rmse+=pow((uusra.loc[i,'ypred_exp']-uusra.loc[i,'freq']),2)\n",
    "rmse=rmse/len(uusra[\"freq\"])\n",
    "rmse=pow(rmse,0.5)\n",
    "\n",
    "print('mine:'+str(rmse))\n",
    "print(\"測試資料筆數\"+str(len(uusra[\"freq\"])))"
   ]
  },
  {
   "cell_type": "code",
   "execution_count": null,
   "metadata": {},
   "outputs": [],
   "source": [
    "px=[]\n",
    "for i in range(len(uusra[\"freq\"])):\n",
    "    px.append(i+1)\n",
    "plt.figure(figsize=(20,4))\n",
    "plt.plot(px, uusra[\"freq\"], label=\"next_order\")\n",
    "plt.plot(px, uusra[\"ypred_exp\"], label=\"predicted\",alpha=0.7)\n",
    "#plt.title(\"Boston test and predicted data\")\n",
    "plt.legend()\n",
    "plt.show()    "
   ]
  },
  {
   "cell_type": "code",
   "execution_count": null,
   "metadata": {},
   "outputs": [],
   "source": [
    "#D級結果\n",
    "fliter = (uusr[\"origin_rank\"] == \"D\")\n",
    "uusra=uusr[fliter]\n",
    "uusra=uusra.drop(columns=['level_0','index'])\n",
    "uusra=uusra.reset_index()\n",
    "\n",
    "rmse=0\n",
    "for i in range(len(uusra[\"freq\"])):\n",
    "    rmse+=pow((uusra.loc[i,'OLD_METHOD']-uusra.loc[i,'freq']),2)\n",
    "rmse=rmse/len(uusra[\"freq\"])\n",
    "rmse=pow(rmse,0.5)\n",
    "print('old:'+str(rmse))\n",
    "rmse=0\n",
    "\n",
    "for i in range(len(uusra[\"freq\"])):\n",
    "    rmse+=pow((uusra.loc[i,'ypred_exp']-uusra.loc[i,'freq']),2)\n",
    "rmse=rmse/len(uusra[\"freq\"])\n",
    "rmse=pow(rmse,0.5)\n",
    "\n",
    "print('mine:'+str(rmse))\n",
    "print(\"測試資料筆數\"+str(len(uusra[\"freq\"])))"
   ]
  },
  {
   "cell_type": "code",
   "execution_count": null,
   "metadata": {},
   "outputs": [],
   "source": [
    "px=[]\n",
    "for i in range(len(uusra[\"freq\"])):\n",
    "    px.append(i+1)\n",
    "plt.figure(figsize=(20,4))\n",
    "plt.plot(px, uusra[\"freq\"], label=\"next_order\")\n",
    "plt.plot(px, uusra[\"ypred_exp\"], label=\"predicted\",alpha=0.7)\n",
    "#plt.title(\"Boston test and predicted data\")\n",
    "plt.legend()\n",
    "plt.show()    "
   ]
  }
 ],
 "metadata": {
  "kernelspec": {
   "display_name": "Python 3",
   "language": "python",
   "name": "python3"
  },
  "language_info": {
   "codemirror_mode": {
    "name": "ipython",
    "version": 3
   },
   "file_extension": ".py",
   "mimetype": "text/x-python",
   "name": "python",
   "nbconvert_exporter": "python",
   "pygments_lexer": "ipython3",
   "version": "3.7.3"
  }
 },
 "nbformat": 4,
 "nbformat_minor": 2
}
