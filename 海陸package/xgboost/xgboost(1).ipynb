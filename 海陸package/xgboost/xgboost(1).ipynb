{
 "cells": [
  {
   "cell_type": "code",
   "execution_count": null,
   "metadata": {},
   "outputs": [],
   "source": [
    "import pandas as pd\n",
    "df = pd.read_csv('jijoan.csv')"
   ]
  },
  {
   "cell_type": "code",
   "execution_count": null,
   "metadata": {},
   "outputs": [],
   "source": [
    "df"
   ]
  },
  {
   "cell_type": "code",
   "execution_count": null,
   "metadata": {},
   "outputs": [],
   "source": [
    "import re\n",
    "amount=[]\n",
    "for i in range(len(df['規格'])):\n",
    "    if type(df.loc[i,'規格'])!=str:\n",
    "         amount.append(\"1\")\n",
    "    else:\n",
    "         amount.append(re.sub('\\D', '', df.loc[i,'規格'] ))"
   ]
  },
  {
   "cell_type": "code",
   "execution_count": null,
   "metadata": {},
   "outputs": [],
   "source": [
    "FAM=[]\n",
    "for i in range(len(amount)):\n",
    "    try:\n",
    "        v=int(df.loc[i,'數量'])*int(amount[i])\n",
    "    except :\n",
    "        v=int(df.loc[i,'數量'])\n",
    "    FAM.append(v)"
   ]
  },
  {
   "cell_type": "code",
   "execution_count": null,
   "metadata": {},
   "outputs": [],
   "source": [
    "df['消費量']=FAM"
   ]
  },
  {
   "cell_type": "code",
   "execution_count": null,
   "metadata": {},
   "outputs": [],
   "source": [
    "df2=df.groupby(['帳戶名稱','結帳日期']).sum().reset_index().rename(columns={0:'sum'})\n",
    "df3=df.groupby(['帳戶名稱','結帳日期']).count().reset_index().rename(columns={0:'sum'})"
   ]
  },
  {
   "cell_type": "code",
   "execution_count": null,
   "metadata": {},
   "outputs": [],
   "source": [
    "acc_money_right=df2[\"acc_money\"]/df3[\"acc_money\"]\n",
    "avg_money_right=df2[\"avg_money\"]/df3[\"avg_money\"]\n",
    "turnover_right=df2[\"循環天數\"]/df3[\"循環天數\"]\n",
    "diff_right=df2[\"diff\"]/df3[\"diff\"]"
   ]
  },
  {
   "cell_type": "code",
   "execution_count": null,
   "metadata": {},
   "outputs": [],
   "source": [
    "df2['acc_money_right']=acc_money_right\n",
    "df2['avg_money_right']=avg_money_right\n",
    "df2['turnover_right']=turnover_right\n",
    "df2['diff_right']=diff_right"
   ]
  },
  {
   "cell_type": "code",
   "execution_count": null,
   "metadata": {},
   "outputs": [],
   "source": [
    "df2=df2.drop(columns=['Unnamed: 0.1', 'Unnamed: 0',\"循環天數\",'diff',\"acc_money\",\"avg_money\"])"
   ]
  },
  {
   "cell_type": "code",
   "execution_count": null,
   "metadata": {},
   "outputs": [],
   "source": [
    "type(df.loc[1,'帳戶名稱'])"
   ]
  },
  {
   "cell_type": "code",
   "execution_count": null,
   "metadata": {},
   "outputs": [],
   "source": [
    "D2 = {}\n",
    "D3= {}\n",
    "for i in range(len(df['規格'])):\n",
    "   # if D2.has_key(df.loc[i,'帳戶名稱']):\n",
    "    if (df.loc[i,'帳戶名稱'] in D2)==False:\n",
    "        D2[df.loc[i,'帳戶名稱']]=df.loc[i,'分級']\n",
    "        D3[df.loc[i,'帳戶名稱']]=df.loc[i,'cust_rank']"
   ]
  },
  {
   "cell_type": "code",
   "execution_count": null,
   "metadata": {},
   "outputs": [],
   "source": [
    "df2"
   ]
  },
  {
   "cell_type": "code",
   "execution_count": null,
   "metadata": {},
   "outputs": [],
   "source": [
    "ori_rank=[]\n",
    "new_rank=[]\n",
    "for i in range(len(df2['帳戶名稱'])):\n",
    "    ori_rank.append(D2.get(df2.loc[i,'帳戶名稱']))\n",
    "    new_rank.append(D3.get(df2.loc[i,'帳戶名稱']))\n",
    "#dic.get(\"A\")"
   ]
  },
  {
   "cell_type": "code",
   "execution_count": null,
   "metadata": {},
   "outputs": [],
   "source": [
    "df2['origin_rank']=ori_rank\n",
    "df2['new_rank']=new_rank\n",
    "df2"
   ]
  },
  {
   "cell_type": "code",
   "execution_count": null,
   "metadata": {},
   "outputs": [],
   "source": [
    "df2['結帳日期']=pd.to_datetime(df2['結帳日期'])"
   ]
  },
  {
   "cell_type": "code",
   "execution_count": null,
   "metadata": {},
   "outputs": [],
   "source": [
    "len(df2['帳戶名稱'])"
   ]
  },
  {
   "cell_type": "code",
   "execution_count": null,
   "metadata": {},
   "outputs": [],
   "source": [
    "import numpy as np\n",
    "#算此廠商下次何時訂貨=>作為y\n",
    "freq_list=[]\n",
    "for i in range(len(df2['帳戶名稱'])):\n",
    "    if i==len(df2['帳戶名稱'])-1:\n",
    "        freq=np.nan\n",
    "    else:\n",
    "        if df2.ix[i,0]!=df2.ix[i+1,0]:\n",
    "            freq=np.nan\n",
    "        else:\n",
    "            interval=df2.ix[i+1,1]-df2.ix[i,1]\n",
    "            freq=interval.days\n",
    "    freq_list.append(freq)\n",
    "df2['freq']=freq_list\n",
    "df2"
   ]
  },
  {
   "cell_type": "code",
   "execution_count": null,
   "metadata": {},
   "outputs": [],
   "source": [
    "import numpy as np\n",
    "#算此廠商下次何時訂貨=>作為y\n",
    "freq_list=[]\n",
    "for i in range(len(df2['帳戶名稱'])):\n",
    "    if i==0:\n",
    "        freq=np.nan\n",
    "    else:\n",
    "        if df2.ix[i,0]!=df2.ix[i-1,0]:\n",
    "            freq=np.nan\n",
    "        else:\n",
    "            interval=df2.ix[i,1]-df2.ix[i-1,1]\n",
    "            freq=interval.days\n",
    "    freq_list.append(freq)\n",
    "df2['MAONE']=freq_list\n",
    "df2"
   ]
  },
  {
   "cell_type": "code",
   "execution_count": null,
   "metadata": {},
   "outputs": [],
   "source": [
    "List=[]\n",
    "for j in range(4):\n",
    "        List.append([])\n",
    "        for i in range(len(df2['帳戶名稱'])):\n",
    "            if i<j+2:\n",
    "                freq=np.nan\n",
    "            else:\n",
    "                if df2.ix[i,0]!=df2.ix[i-(j+2),0]:\n",
    "                    freq=np.nan\n",
    "                else:\n",
    "                    interval=df2.ix[i-(j+1),1]-df2.ix[i-(j+2),1]\n",
    "                    freq=interval.days\n",
    "            List[j].append(freq)\n",
    "        df2[\"up\"+str(j+2)]=List[j]\n",
    "df2"
   ]
  },
  {
   "cell_type": "code",
   "execution_count": null,
   "metadata": {},
   "outputs": [],
   "source": [
    "LIST1=[]\n",
    "LIST2=[]\n",
    "for i in range(len(df2['帳戶名稱'])):  \n",
    "    try:\n",
    "        v=(df2.loc[i,'MAONE']+df2.loc[i,'up2']+df2.loc[i,'up3'])/3\n",
    "        v2=(df2.loc[i,'MAONE']+df2.loc[i,'up2']+df2.loc[i,'up3']+df2.loc[i,'up4']+df2.loc[i,'up5'])/5\n",
    "    except :\n",
    "        v=np.nan\n",
    "    LIST1.append(v)\n",
    "    LIST2.append(v2)\n",
    "df2[\"MATHREE\"]=LIST1\n",
    "df2[\"MAFIVE\"]=LIST2\n",
    "df2"
   ]
  },
  {
   "cell_type": "code",
   "execution_count": null,
   "metadata": {},
   "outputs": [],
   "source": [
    "df2['month']=df2['結帳日期'].dt.month \n",
    "df2['year']=df2['結帳日期'].dt.year \n",
    "df2=df2.drop(columns=['up2', 'up3',\"up4\",'up5'])"
   ]
  },
  {
   "cell_type": "code",
   "execution_count": null,
   "metadata": {},
   "outputs": [],
   "source": [
    "df2=df2.drop(columns=['結帳日期'])\n",
    "df2=df2.dropna()"
   ]
  },
  {
   "cell_type": "code",
   "execution_count": null,
   "metadata": {},
   "outputs": [],
   "source": [
    "df3=df2.drop(columns=['帳戶名稱','acc_money_right','diff_right'])"
   ]
  },
  {
   "cell_type": "code",
   "execution_count": null,
   "metadata": {},
   "outputs": [],
   "source": [
    "df3"
   ]
  },
  {
   "cell_type": "code",
   "execution_count": null,
   "metadata": {},
   "outputs": [],
   "source": []
  },
  {
   "cell_type": "code",
   "execution_count": null,
   "metadata": {},
   "outputs": [],
   "source": [
    "#"
   ]
  },
  {
   "cell_type": "code",
   "execution_count": null,
   "metadata": {},
   "outputs": [],
   "source": []
  },
  {
   "cell_type": "code",
   "execution_count": null,
   "metadata": {},
   "outputs": [],
   "source": []
  },
  {
   "cell_type": "code",
   "execution_count": null,
   "metadata": {},
   "outputs": [],
   "source": []
  },
  {
   "cell_type": "code",
   "execution_count": null,
   "metadata": {},
   "outputs": [],
   "source": []
  },
  {
   "cell_type": "code",
   "execution_count": null,
   "metadata": {},
   "outputs": [],
   "source": []
  },
  {
   "cell_type": "code",
   "execution_count": null,
   "metadata": {},
   "outputs": [],
   "source": [
    "rmse=mse**0.5\n",
    "rmse"
   ]
  },
  {
   "cell_type": "code",
   "execution_count": null,
   "metadata": {},
   "outputs": [],
   "source": []
  },
  {
   "cell_type": "code",
   "execution_count": null,
   "metadata": {},
   "outputs": [],
   "source": []
  },
  {
   "cell_type": "code",
   "execution_count": null,
   "metadata": {},
   "outputs": [],
   "source": []
  },
  {
   "cell_type": "code",
   "execution_count": null,
   "metadata": {},
   "outputs": [],
   "source": []
  },
  {
   "cell_type": "code",
   "execution_count": null,
   "metadata": {},
   "outputs": [],
   "source": []
  },
  {
   "cell_type": "code",
   "execution_count": null,
   "metadata": {},
   "outputs": [],
   "source": []
  },
  {
   "cell_type": "code",
   "execution_count": null,
   "metadata": {},
   "outputs": [],
   "source": []
  },
  {
   "cell_type": "code",
   "execution_count": null,
   "metadata": {},
   "outputs": [],
   "source": []
  },
  {
   "cell_type": "code",
   "execution_count": null,
   "metadata": {},
   "outputs": [],
   "source": []
  },
  {
   "cell_type": "code",
   "execution_count": null,
   "metadata": {},
   "outputs": [],
   "source": []
  },
  {
   "cell_type": "code",
   "execution_count": null,
   "metadata": {},
   "outputs": [],
   "source": []
  },
  {
   "cell_type": "code",
   "execution_count": null,
   "metadata": {},
   "outputs": [],
   "source": []
  },
  {
   "cell_type": "code",
   "execution_count": null,
   "metadata": {},
   "outputs": [],
   "source": []
  },
  {
   "cell_type": "code",
   "execution_count": null,
   "metadata": {},
   "outputs": [],
   "source": []
  },
  {
   "cell_type": "code",
   "execution_count": null,
   "metadata": {},
   "outputs": [],
   "source": []
  },
  {
   "cell_type": "code",
   "execution_count": null,
   "metadata": {},
   "outputs": [],
   "source": []
  },
  {
   "cell_type": "code",
   "execution_count": null,
   "metadata": {},
   "outputs": [],
   "source": []
  },
  {
   "cell_type": "code",
   "execution_count": null,
   "metadata": {},
   "outputs": [],
   "source": []
  },
  {
   "cell_type": "code",
   "execution_count": null,
   "metadata": {},
   "outputs": [],
   "source": []
  },
  {
   "cell_type": "code",
   "execution_count": null,
   "metadata": {},
   "outputs": [],
   "source": []
  },
  {
   "cell_type": "code",
   "execution_count": null,
   "metadata": {},
   "outputs": [],
   "source": []
  },
  {
   "cell_type": "code",
   "execution_count": null,
   "metadata": {},
   "outputs": [],
   "source": []
  },
  {
   "cell_type": "code",
   "execution_count": null,
   "metadata": {},
   "outputs": [],
   "source": [
    "cv_params = {'n_estimators': np.linspace(50, 150, 11, dtype=int)}\n",
    "regress_model = xgb.XGBRegressor(**other_params)  # 注意這裏的兩個 * 號！\n",
    "gs = GridSearchCV(regress_model, cv_params, verbose=2, refit=True, cv=5, n_jobs=-1)\n",
    "gs.fit(X_train,y_train)  # X爲訓練數據的特徵值，y爲訓練數據的label\n",
    "# 性能測評\n",
    "print(\"參數的最佳取值：:\", gs.best_params_)\n",
    "print(\"最佳模型得分:\", gs.best_score_)"
   ]
  },
  {
   "cell_type": "code",
   "execution_count": null,
   "metadata": {},
   "outputs": [],
   "source": [
    "other_params = {'eta': 0.3, 'n_estimators': 50, 'gamma': 0, 'max_depth': 6, 'min_child_weight': 1,\n",
    "                'colsample_bytree': 1, 'colsample_bylevel': 1, 'subsample': 1, 'reg_lambda': 1, 'reg_alpha': 0,\n",
    "                'seed': 33}\n",
    "cv_params = {'max_depth': np.linspace(1, 10, 10, dtype=int)}\n",
    "gs = GridSearchCV(regress_model, cv_params, verbose=2, refit=True, cv=5, n_jobs=-1)\n",
    "gs.fit(X_train,y_train)  # X爲訓練數據的特徵值，y爲訓練數據的label\n",
    "# 性能測評\n",
    "print(\"參數的最佳取值：:\", gs.best_params_)\n",
    "print(\"最佳模型得分:\", gs.best_score_)"
   ]
  },
  {
   "cell_type": "code",
   "execution_count": null,
   "metadata": {},
   "outputs": [],
   "source": [
    "other_params = {'eta': 0.3, 'n_estimators': 50, 'gamma': 0, 'max_depth': 1, 'min_child_weight': 1,\n",
    "                'colsample_bytree': 1, 'colsample_bylevel': 1, 'subsample': 1, 'reg_lambda': 1, 'reg_alpha': 0,\n",
    "                'seed': 33}\n",
    "cv_params = {'min_child_weight': np.linspace(1, 10, 10, dtype=int)}\n",
    "gs = GridSearchCV(regress_model, cv_params, verbose=2, refit=True, cv=5, n_jobs=-1)\n",
    "gs.fit(X_train,y_train)  # X爲訓練數據的特徵值，y爲訓練數據的label\n",
    "# 性能測評\n",
    "print(\"參數的最佳取值：:\", gs.best_params_)\n",
    "print(\"最佳模型得分:\", gs.best_score_)"
   ]
  },
  {
   "cell_type": "code",
   "execution_count": null,
   "metadata": {},
   "outputs": [],
   "source": [
    "other_params = {'eta': 0.3, 'n_estimators': 50, 'gamma': 0, 'max_depth': 1, 'min_child_weight':2,\n",
    "                'colsample_bytree': 1, 'colsample_bylevel': 1, 'subsample': 1, 'reg_lambda': 1, 'reg_alpha': 0,\n",
    "                'seed': 33}\n",
    "cv_params = {'gamma': np.linspace(0, 1, 10)}\n",
    "#cv_params = {'min_child_weight': np.linspace(1, 10, 10, dtype=int)}\n",
    "gs = GridSearchCV(regress_model, cv_params, verbose=2, refit=True, cv=5, n_jobs=-1)\n",
    "gs.fit(X_train,y_train)  # X爲訓練數據的特徵值，y爲訓練數據的label\n",
    "# 性能測評\n",
    "print(\"參數的最佳取值：:\", gs.best_params_)\n",
    "print(\"最佳模型得分:\", gs.best_score_)"
   ]
  },
  {
   "cell_type": "code",
   "execution_count": null,
   "metadata": {},
   "outputs": [],
   "source": [
    "other_params = {'eta': 0.3, 'n_estimators': 50, 'gamma': 0.6666666666666666, 'max_depth': 1, 'min_child_weight':2,\n",
    "                'colsample_bytree': 1, 'colsample_bylevel': 1, 'subsample': 1, 'reg_lambda': 1, 'reg_alpha': 0,\n",
    "                'seed': 33}\n",
    "cv_params = {'subsample': np.linspace(0, 1, 11)}\n",
    "gs = GridSearchCV(regress_model, cv_params, verbose=2, refit=True, cv=5, n_jobs=-1)\n",
    "gs.fit(X_train,y_train)  # X爲訓練數據的特徵值，y爲訓練數據的label\n",
    "# 性能測評\n",
    "print(\"參數的最佳取值：:\", gs.best_params_)\n",
    "print(\"最佳模型得分:\", gs.best_score_)"
   ]
  },
  {
   "cell_type": "code",
   "execution_count": null,
   "metadata": {},
   "outputs": [],
   "source": [
    "other_params = {'eta': 0.3, 'n_estimators': 50, 'gamma': 0.6666666666666666, 'max_depth': 1, 'min_child_weight':2,\n",
    "                'colsample_bytree': 1, 'colsample_bylevel': 1, 'subsample': 1, 'reg_lambda': 1, 'reg_alpha': 0,\n",
    "                'seed': 33}\n",
    "cv_params = {'subsample': np.linspace(0.9, 1, 11)}\n",
    "gs = GridSearchCV(regress_model, cv_params, verbose=2, refit=True, cv=5, n_jobs=-1)\n",
    "gs.fit(X_train,y_train)  # X爲訓練數據的特徵值，y爲訓練數據的label\n",
    "# 性能測評\n",
    "print(\"參數的最佳取值：:\", gs.best_params_)\n",
    "print(\"最佳模型得分:\", gs.best_score_)"
   ]
  },
  {
   "cell_type": "code",
   "execution_count": null,
   "metadata": {},
   "outputs": [],
   "source": [
    "other_params = {'eta': 0.3, 'n_estimators': 50, 'gamma': 0.6666666666666666, 'max_depth': 1, 'min_child_weight':2,\n",
    "                'colsample_bytree': 1, 'colsample_bylevel': 1, 'subsample': 0.98, 'reg_lambda': 1, 'reg_alpha': 0,\n",
    "                'seed': 33}\n",
    "cv_params = {'colsample_bytree': np.linspace(0, 1, 11)[1:]}\n",
    "gs = GridSearchCV(regress_model, cv_params, verbose=2, refit=True, cv=5, n_jobs=-1)\n",
    "gs.fit(X_train,y_train)  # X爲訓練數據的特徵值，y爲訓練數據的label\n",
    "# 性能測評\n",
    "print(\"參數的最佳取值：:\", gs.best_params_)\n",
    "print(\"最佳模型得分:\", gs.best_score_)"
   ]
  },
  {
   "cell_type": "code",
   "execution_count": null,
   "metadata": {},
   "outputs": [],
   "source": [
    "other_params = {'eta': 0.3, 'n_estimators': 50, 'gamma': 0.6666666666666666, 'max_depth': 1, 'min_child_weight':2,\n",
    "                'colsample_bytree': 0.7, 'colsample_bylevel': 1, 'subsample': 0.98, 'reg_lambda': 1, 'reg_alpha': 0,\n",
    "                'seed': 33}\n",
    "cv_params = {'reg_lambda': np.linspace(0, 100, 11)}\n",
    "gs = GridSearchCV(regress_model, cv_params, verbose=2, refit=True, cv=5, n_jobs=-1)\n",
    "gs.fit(X_train,y_train)  # X爲訓練數據的特徵值，y爲訓練數據的label\n",
    "# 性能測評\n",
    "print(\"參數的最佳取值：:\", gs.best_params_)\n",
    "print(\"最佳模型得分:\", gs.best_score_)"
   ]
  },
  {
   "cell_type": "code",
   "execution_count": null,
   "metadata": {},
   "outputs": [],
   "source": [
    "other_params = {'eta': 0.3, 'n_estimators': 50, 'gamma': 0.6666666666666666, 'max_depth': 1, 'min_child_weight':2,\n",
    "                'colsample_bytree': 0.7, 'colsample_bylevel': 1, 'subsample': 0.98, 'reg_lambda': 100, 'reg_alpha': 0,\n",
    "                'seed': 33}\n",
    "cv_params = {'reg_alpha': np.linspace(0, 10, 11)}\n",
    "gs = GridSearchCV(regress_model, cv_params, verbose=2, refit=True, cv=5, n_jobs=-1)\n",
    "gs.fit(X_train,y_train)  # X爲訓練數據的特徵值，y爲訓練數據的label\n",
    "# 性能測評\n",
    "print(\"參數的最佳取值：:\", gs.best_params_)\n",
    "print(\"最佳模型得分:\", gs.best_score_)"
   ]
  },
  {
   "cell_type": "code",
   "execution_count": null,
   "metadata": {},
   "outputs": [],
   "source": [
    "other_params = {'eta': 0.3, 'n_estimators': 50, 'gamma': 0.6666666666666666, 'max_depth': 1, 'min_child_weight':2,\n",
    "                'colsample_bytree': 0.7, 'colsample_bylevel': 1, 'subsample': 0.98, 'reg_lambda': 100, 'reg_alpha': 2,\n",
    "                'seed': 33}\n",
    "cv_params = {'eta': np.logspace(-2, 0, 10)}\n",
    "gs = GridSearchCV(regress_model, cv_params, verbose=2, refit=True, cv=5, n_jobs=-1)\n",
    "gs.fit(X_train,y_train)  # X爲訓練數據的特徵值，y爲訓練數據的label\n",
    "# 性能測評\n",
    "print(\"參數的最佳取值：:\", gs.best_params_)\n",
    "print(\"最佳模型得分:\", gs.best_score_)"
   ]
  },
  {
   "cell_type": "code",
   "execution_count": null,
   "metadata": {},
   "outputs": [],
   "source": [
    "from sklearn.model_selection import train_test_split\n",
    "X_train, X_test, y_train, y_test=train_test_split(X,y,test_size=0.2,random_state=42)\n",
    "#train\n",
    "import xgboost\n",
    "xgb=xgboost.XGBRegressor(eta= 0.01, n_estimators= 50, gamma= 0.6666666666666666, max_depth=50, min_child_weight=2,\n",
    "                colsample_bytree= 0.7, colsample_bylevel= 1, subsample= 0.98, reg_lambda= 100, reg_alpha= 2,\n",
    "                seed= 33)\n",
    "xgb.fit(X_train,y_train)\n",
    "\n",
    "#xgb=xgboost.XGBRegressor(max_depth=50)"
   ]
  },
  {
   "cell_type": "code",
   "execution_count": null,
   "metadata": {},
   "outputs": [],
   "source": [
    "y_pred=xgb.predict(X_test)\n",
    "score = xgb.score(X_train, y_train)  \n",
    "print(\"Training score: \", score)"
   ]
  },
  {
   "cell_type": "code",
   "execution_count": null,
   "metadata": {},
   "outputs": [],
   "source": [
    "from sklearn.datasets import load_boston\n",
    "from sklearn.model_selection import train_test_split\n",
    "from sklearn.model_selection import cross_val_score, KFold\n",
    "from sklearn.metrics import mean_squared_error\n",
    "import matplotlib.pyplot as plt \n",
    "\n",
    "mse = mean_squared_error(y_test, y_pred)\n",
    "print(\"MSE: %.2f\" % mse)"
   ]
  },
  {
   "cell_type": "code",
   "execution_count": null,
   "metadata": {},
   "outputs": [],
   "source": [
    "rmse=mse**0.5\n",
    "rmse"
   ]
  },
  {
   "cell_type": "code",
   "execution_count": null,
   "metadata": {},
   "outputs": [],
   "source": [
    "1- mean_squared_error(y_test,y_pred)/ np.var(y_test)"
   ]
  }
 ],
 "metadata": {
  "kernelspec": {
   "display_name": "Python 3",
   "language": "python",
   "name": "python3"
  },
  "language_info": {
   "codemirror_mode": {
    "name": "ipython",
    "version": 3
   },
   "file_extension": ".py",
   "mimetype": "text/x-python",
   "name": "python",
   "nbconvert_exporter": "python",
   "pygments_lexer": "ipython3",
   "version": "3.7.3"
  }
 },
 "nbformat": 4,
 "nbformat_minor": 2
}
