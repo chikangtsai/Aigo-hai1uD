{
 "cells": [
  {
   "cell_type": "code",
   "execution_count": null,
   "metadata": {},
   "outputs": [],
   "source": [
    "from datetime import datetime, timedelta,date\n",
    "import pandas as pd\n",
    "import numpy as np\n",
    "import jenkspy\n",
    "from sklearn.model_selection import GridSearchCV\n",
    "%matplotlib inline\n",
    "from xgboost import plot_importance\n",
    "from sklearn.metrics import classification_report,confusion_matrix\n",
    "import matplotlib.pyplot as plt\n",
    "import numpy as np\n",
    "import seaborn as sns\n",
    "from sklearn.metrics import mean_squared_error\n",
    "from sklearn.cluster import KMeans\n",
    "import warnings\n",
    "warnings.filterwarnings(\"ignore\")\n",
    "import chart_studio.plotly as py\n",
    "import plotly.offline as pyoff\n",
    "import plotly.graph_objs as go\n",
    "from sklearn.svm import SVC\n",
    "from sklearn.multioutput import MultiOutputClassifier\n",
    "from sklearn.ensemble import GradientBoostingClassifier\n",
    "from sklearn.tree import DecisionTreeClassifier\n",
    "from sklearn.neighbors import KNeighborsClassifier\n",
    "from sklearn.naive_bayes import GaussianNB\n",
    "from sklearn.ensemble import RandomForestClassifier\n",
    "from sklearn.linear_model import LogisticRegression\n",
    "import xgboost as xgb\n",
    "from sklearn.model_selection import KFold, cross_val_score, train_test_split\n",
    "pyoff.init_notebook_mode()\n",
    "import time\n",
    "from sklearn.model_selection import RandomizedSearchCV"
   ]
  },
  {
   "cell_type": "code",
   "execution_count": null,
   "metadata": {},
   "outputs": [],
   "source": [
    "tx_train  = pd.read_csv('pjc_data.csv')\n",
    "del tx_train['結帳日期']"
   ]
  },
  {
   "cell_type": "code",
   "execution_count": null,
   "metadata": {},
   "outputs": [],
   "source": [
    "# list_cat = ['客戶自主下單','year','month','RecencyCluster','FrequencyCluster','RevenueCluster','OverallScore','Segment','cust_rank','分級']\n",
    "# for i in list_cat:\n",
    "#     tx_train[i] = tx_train[i].astype('category').cat.codes\n",
    "#     tx_test[i] = tx_test[i].astype('category').cat.codes"
   ]
  },
  {
   "cell_type": "code",
   "execution_count": null,
   "metadata": {},
   "outputs": [],
   "source": [
    "list_cat = ['客戶自主下單','year','month','RecencyCluster','FrequencyCluster','RevenueCluster','OverallScore','Segment','cust_rank','分級']\n",
    "for i in list_cat:\n",
    "    tx_train[i] = tx_train[i].apply(lambda x: \"{}_{}\".format(i, x))"
   ]
  },
  {
   "cell_type": "code",
   "execution_count": null,
   "metadata": {},
   "outputs": [],
   "source": [
    "del tx_train[\"year\"]\n",
    "\n",
    "# onehot_encoding1=pd.get_dummies(tx_train[\"year\"])\n",
    "onehot_encoding2=pd.get_dummies(tx_train[\"month\"])\n",
    "onehot_encoding3=pd.get_dummies(tx_train[\"RecencyCluster\"])\n",
    "onehot_encoding4=pd.get_dummies(tx_train[\"FrequencyCluster\"])\n",
    "onehot_encoding5=pd.get_dummies(tx_train[\"OverallScore\"])\n",
    "onehot_encoding6=pd.get_dummies(tx_train[\"Segment\"])\n",
    "onehot_encoding7=pd.get_dummies(tx_train[\"cust_rank\"])\n",
    "onehot_encoding8=pd.get_dummies(tx_train[\"分級\"])\n",
    "\n",
    "dfa_firm_date = tx_train[['freq','max','總價','mean','med','Money','Recency','NextPurchaseDay']]\n",
    "\n",
    "tx_train = pd.concat([dfa_firm_date,onehot_encoding2,onehot_encoding3,onehot_encoding4,onehot_encoding5,onehot_encoding6,onehot_encoding7,onehot_encoding8],axis=1)"
   ]
  },
  {
   "cell_type": "code",
   "execution_count": null,
   "metadata": {},
   "outputs": [],
   "source": [
    "# x_train = tx_train.drop(['NextPurchaseDay'],axis=1)\n",
    "# x_test = tx_test.drop(['NextPurchaseDay'],axis=1)\n",
    "\n",
    "# y_train = tx_train['NextPurchaseDay']\n",
    "# y_test = tx_test['NextPurchaseDay']\n",
    "\n",
    "X = tx_train.drop(['NextPurchaseDay'],axis=1)\n",
    "y = tx_train['NextPurchaseDay']\n",
    "\n",
    "x_train, x_test, y_train, y_test = train_test_split(X, y, test_size=0.2, random_state=1)\n",
    "x_train, x_valid, y_train, y_valid = train_test_split(x_train, y_train, test_size=0.25, random_state=1)\n",
    "# x_train, y_train, x_valid, y_valid, x_test, y_test =  train_test_split(X, y, test_size=0.05, random_state=56)"
   ]
  },
  {
   "cell_type": "code",
   "execution_count": null,
   "metadata": {},
   "outputs": [],
   "source": [
    "xgbr = xgb.XGBRegressor().fit(x_train, y_train)\n",
    "score = xgbr.score(x_train, y_train)  \n",
    "y_pred=xgbr.predict(x_test)\n",
    "y_pred = np.round(y_pred)\n",
    "score = xgbr.score(x_train, y_train)  \n",
    "print(\"Training score: \", score)"
   ]
  },
  {
   "cell_type": "code",
   "execution_count": null,
   "metadata": {},
   "outputs": [],
   "source": [
    "mse = mean_squared_error(y_test, y_pred)\n",
    "print(\"MSE: %.2f\" % mse)\n",
    "rmse=mse**0.5\n",
    "print(\"RMSE: %.2f\" % rmse)"
   ]
  },
  {
   "cell_type": "code",
   "execution_count": null,
   "metadata": {},
   "outputs": [],
   "source": [
    "y_mean = [tx_train.loc[x,'mean'] for x in y_test.index]"
   ]
  },
  {
   "cell_type": "code",
   "execution_count": null,
   "metadata": {},
   "outputs": [],
   "source": [
    "plt.figure(figsize=(20,4))\n",
    "x_ax = range(len(y_test))\n",
    "plt.plot(x_ax, y_test, label=\"original\")\n",
    "plt.plot(x_ax, pd.Series(y_mean), label=\"predicted\")\n",
    "plt.legend()\n",
    "plt.show()    \n",
    "\n",
    "plt.figure(figsize=(20,4))\n",
    "dtodraw = y_test.T.values[0].T - pd.Series(y_mean)\n",
    "x_ax = range(len(y_test))\n",
    "plt.plot(x_ax, dtodraw, label=\"diff\")\n",
    "plt.legend()\n",
    "plt.show()\n",
    "print(abs(dtodraw).sum())"
   ]
  },
  {
   "cell_type": "code",
   "execution_count": null,
   "metadata": {},
   "outputs": [],
   "source": [
    "plt.figure(figsize=(20,4))\n",
    "x_ax = range(len(y_test))\n",
    "plt.plot(x_ax, y_test, label=\"original\")\n",
    "plt.plot(x_ax, y_pred, label=\"predicted\")\n",
    "plt.legend()\n",
    "plt.show()    \n",
    "\n",
    "plt.figure(figsize=(20,4))\n",
    "dtodraw = y_test.T.values[0].T - y_pred\n",
    "x_ax = range(len(y_test))\n",
    "plt.plot(x_ax, dtodraw, label=\"diff\")\n",
    "plt.legend()\n",
    "plt.show()\n",
    "print(abs(dtodraw).sum())\n",
    "\n",
    "plot_importance(xgbr)\n",
    "plt.show()"
   ]
  },
  {
   "cell_type": "code",
   "execution_count": null,
   "metadata": {},
   "outputs": [],
   "source": [
    "cv_params = {'n_estimators': [300, 400, 500, 600, 700, 800]}\n",
    "other_params = {'learning_rate': 0.1, 'n_estimators': 250, 'max_depth': 6, 'min_child_weight': 6, 'seed': 0,\n",
    "'subsample': 0.8, 'colsample_bytree': 0.6, 'gamma': 0, 'reg_alpha': 1, 'reg_lambda': 0.1}\n",
    "model = xgb.XGBRegressor(**other_params)\n",
    "optimized_GBM = GridSearchCV(estimator=model, param_grid=cv_params, scoring='r2', cv=5, verbose=1, n_jobs=4)\n",
    "optimized_GBM.fit(x_train, y_train)\n",
    "evalute_result = optimized_GBM.cv_results_\n",
    "print('每輪迭代執行結果:{0}'.format(evalute_result))\n",
    "print('引數的最佳取值：{0}'.format(optimized_GBM.best_params_))\n",
    "print('最佳模型得分:{0}'.format(optimized_GBM.best_score_))"
   ]
  },
  {
   "cell_type": "code",
   "execution_count": null,
   "metadata": {},
   "outputs": [],
   "source": [
    "xgbr = xgb.XGBRegressor(learning_rate = 0.1, n_estimators= 250, max_depth= 6, min_child_weight= 6, seed= 0,subsample= 0.8, colsample_bytree= 0.6, gamma= 0, reg_alpha= 1, reg_lambda= 0.1).fit(x_train, y_train)\n",
    "score = xgbr.score(x_train, y_train)  \n",
    "y_pred=xgbr.predict(x_test)\n",
    "y_pred = np.round(y_pred)\n",
    "score = xgbr.score(x_train, y_train)  \n",
    "print(\"Training score: \", score)"
   ]
  },
  {
   "cell_type": "code",
   "execution_count": null,
   "metadata": {},
   "outputs": [],
   "source": [
    "mse = mean_squared_error(y_test, y_pred)\n",
    "print(\"MSE: %.2f\" % mse)\n",
    "rmse=mse**0.5\n",
    "print(\"RMSE: %.2f\" % rmse)"
   ]
  },
  {
   "cell_type": "code",
   "execution_count": null,
   "metadata": {},
   "outputs": [],
   "source": []
  }
 ],
 "metadata": {
  "kernelspec": {
   "display_name": "Python 3",
   "language": "python",
   "name": "python3"
  },
  "language_info": {
   "codemirror_mode": {
    "name": "ipython",
    "version": 3
   },
   "file_extension": ".py",
   "mimetype": "text/x-python",
   "name": "python",
   "nbconvert_exporter": "python",
   "pygments_lexer": "ipython3",
   "version": "3.7.4"
  }
 },
 "nbformat": 4,
 "nbformat_minor": 2
}
