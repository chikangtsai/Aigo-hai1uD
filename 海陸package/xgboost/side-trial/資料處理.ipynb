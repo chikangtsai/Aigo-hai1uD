{
 "cells": [
  {
   "cell_type": "code",
   "execution_count": null,
   "metadata": {},
   "outputs": [],
   "source": [
    "from datetime import datetime, timedelta,date\n",
    "import pandas as pd\n",
    "import numpy as np\n",
    "import jenkspy\n",
    "%matplotlib inline\n",
    "from sklearn.metrics import classification_report,confusion_matrix\n",
    "import matplotlib.pyplot as plt\n",
    "import numpy as np\n",
    "import seaborn as sns\n",
    "from sklearn.cluster import KMeans\n",
    "import warnings\n",
    "warnings.filterwarnings(\"ignore\")\n",
    "import chart_studio.plotly as py\n",
    "import plotly.offline as pyoff\n",
    "import plotly.graph_objs as go\n",
    "from sklearn.svm import SVC\n",
    "from sklearn.multioutput import MultiOutputClassifier\n",
    "from sklearn.ensemble import GradientBoostingClassifier\n",
    "from sklearn.tree import DecisionTreeClassifier\n",
    "from sklearn.neighbors import KNeighborsClassifier\n",
    "from sklearn.naive_bayes import GaussianNB\n",
    "from sklearn.ensemble import RandomForestClassifier\n",
    "from sklearn.linear_model import LogisticRegression\n",
    "import xgboost as xgb\n",
    "from sklearn.model_selection import KFold, cross_val_score, train_test_split\n",
    "pyoff.init_notebook_mode()"
   ]
  },
  {
   "cell_type": "code",
   "execution_count": null,
   "metadata": {},
   "outputs": [],
   "source": [
    "tx_data  = pd.read_csv('C:/Users/GK/Part4.csv')\n",
    "tx_j = pd.read_csv('jijoan.csv')\n",
    "tx_j = tx_j.drop(['Unnamed: 0','Unnamed: 0.1'],axis=1)\n",
    "menu = tx_j.groupby(['帳戶名稱','cust_rank']).nunique().reset_index(level = ['帳戶名稱','cust_rank'])\n",
    "tx_data = pd.merge(tx_data,menu[['帳戶名稱','cust_rank']], on='帳戶名稱')\n",
    "olo = ['產品代碼','二元類型','auto_index','acc_money','avg_money','self_index','comb','diff','機會名稱']\n",
    "tx_data = tx_data.drop(olo,axis=1)\n",
    "tx_data['comb'] = tx_data['帳戶名稱'] +tx_data['產品名稱']\n",
    "tx_data = tx_data.sort_values(by= ['comb','結帳日期']).reset_index(drop=True)\n",
    "tx_data.loc[tx_data['類型']!='新客戶','類型'] = '舊客戶'\n",
    "tx_data['結帳日期']=pd.to_datetime(tx_data['結帳日期'])\n",
    "tx_data['year'] = tx_data['結帳日期'].dt.year\n",
    "tx_data['month'] = tx_data['結帳日期'].dt.month \n",
    "iangDpienC_list = ['樣品切削油類','樣品切削油類、潤滑油類','樣品液壓油類','樣品滑道油類','樣品潤滑油類','樣品防銹油類','未分類樣品']\n",
    "for i in iangDpienC_list:\n",
    "    tx_data.loc[tx_data['產品描述']==i,'產品描述'] = '樣品'\n",
    "\n",
    "ciiBta_list = ['其他','包裝材料類','回收類','服務類','未分類','配件類']\n",
    "for i in ciiBta_list:\n",
    "    tx_data.loc[tx_data['產品描述']==i,'產品描述'] = '其他'"
   ]
  },
  {
   "cell_type": "code",
   "execution_count": null,
   "metadata": {},
   "outputs": [],
   "source": [
    "gg= tx_data.groupby('comb').nunique()\n",
    "gg[gg['總量']!=1]"
   ]
  },
  {
   "cell_type": "code",
   "execution_count": null,
   "metadata": {},
   "outputs": [],
   "source": []
  },
  {
   "cell_type": "code",
   "execution_count": null,
   "metadata": {},
   "outputs": [],
   "source": [
    "tx_train = tx_data[(tx_data.結帳日期 < pd.to_datetime('2019-6-1')) & (tx_data.結帳日期 >= pd.to_datetime('2017-1-1'))].reset_index(drop=True)\n",
    "tx_test = tx_data[(tx_data.結帳日期 >= pd.to_datetime('2019-6-1')) & (tx_data.結帳日期 < pd.to_datetime('2020-9-1'))].reset_index(drop=True)\n",
    "x = set(pd.DataFrame(tx_train['帳戶名稱'].unique())[0])\n",
    "y = set(pd.DataFrame(tx_test['帳戶名稱'].unique())[0])\n",
    "print(\"len of train:\", len(x), \" len of test:\", len(y))\n",
    "print(\"intersection: \",len(x.intersection(y)),\" difference: \", len(y.difference(x)))"
   ]
  },
  {
   "cell_type": "code",
   "execution_count": null,
   "metadata": {},
   "outputs": [],
   "source": [
    "#REC (答案)\n",
    "tx_data['結帳日期'] = pd.to_datetime(tx_data['結帳日期'])\n",
    "tx_data = tx_data.sort_values(by= ['comb','結帳日期']).reset_index(drop=True)\n",
    "freq_list=[]\n",
    "for i in range(tx_data.shape[0]):\n",
    "    if i == tx_data.shape[0]-1:\n",
    "        freq = np.nan\n",
    "    else:\n",
    "        if tx_data.loc[i,'comb'] != tx_data.loc[i+1,'comb']:\n",
    "            freq = np.nan\n",
    "        else:\n",
    "            interval=tx_data.loc[i+1,'結帳日期']-tx_data.loc[i,'結帳日期']\n",
    "            freq = interval.days \n",
    "    freq_list.append(freq)\n",
    "tx_data['NextPurchaseDay']=freq_list\n",
    "pjc_data = tx_data.copy()\n",
    "opo = ['數量','規格','總量']\n",
    "for i in opo:\n",
    "    del pjc_data[i]\n",
    "pjc_data = pjc_data.groupby(['帳戶名稱','結帳日期']).sum().reset_index(level=['帳戶名稱','結帳日期'])\n",
    "pjc_data['結帳日期']=pd.to_datetime(pjc_data['結帳日期'])\n",
    "pjc_data['year'] = pjc_data['結帳日期'].dt.year\n",
    "pjc_data['month'] = pjc_data['結帳日期'].dt.month "
   ]
  },
  {
   "cell_type": "code",
   "execution_count": null,
   "metadata": {},
   "outputs": [],
   "source": [
    "#REC(答案)---------------------------------------------------------------------------\n",
    "pjc_data['結帳日期'] = pd.to_datetime(pjc_data['結帳日期'])\n",
    "pjc_data = pjc_data.sort_values(by= ['帳戶名稱','結帳日期']).reset_index(drop=True)\n",
    "freq_list=[]\n",
    "for i in range(pjc_data.shape[0]):\n",
    "    if i == pjc_data.shape[0]-1:\n",
    "        freq = np.nan\n",
    "    else:\n",
    "        if pjc_data.loc[i,'帳戶名稱'] != pjc_data.loc[i+1,'帳戶名稱']:\n",
    "            freq = np.nan\n",
    "        else:\n",
    "            interval=pjc_data.loc[i+1,'結帳日期']-pjc_data.loc[i,'結帳日期']\n",
    "            freq = interval.days \n",
    "    freq_list.append(freq)\n",
    "pjc_data['NextPurchaseDay']=freq_list\n",
    "\n",
    "#FREQUENCY---------------------------------------------------------------------------\n",
    "freq_list=[]\n",
    "record = 0\n",
    "for i in range(pjc_data.shape[0]):\n",
    "    if i == 0:\n",
    "        freq = 1\n",
    "        record = 1\n",
    "    else:\n",
    "        if pjc_data.loc[i,'帳戶名稱'] != pjc_data.loc[i-1,'帳戶名稱']:\n",
    "            freq = 1\n",
    "            record = 1\n",
    "        else:\n",
    "            record = record + 1\n",
    "            freq = int(record)\n",
    "    freq_list.append(freq)\n",
    "pjc_data['freq']=freq_list"
   ]
  },
  {
   "cell_type": "code",
   "execution_count": null,
   "metadata": {},
   "outputs": [],
   "source": [
    "max_ = pd.DataFrame(pjc_data.groupby('帳戶名稱').max()['NextPurchaseDay'])\n",
    "avg_ = pd.DataFrame(pjc_data.groupby('帳戶名稱').mean()['NextPurchaseDay'])\n",
    "median_ = pd.DataFrame(pjc_data.groupby('帳戶名稱').median()['NextPurchaseDay'])\n",
    "Recency_ = pd.DataFrame(pjc_data.drop_duplicates(subset=['帳戶名稱'],keep = 'last'))\n",
    "Money_ = pd.DataFrame(pjc_data.groupby('帳戶名稱').sum()['總價'])\n",
    "menu = max_.merge(avg_, on='帳戶名稱', how='left').merge(median_, on='帳戶名稱', how='left').merge(Money_, on='帳戶名稱', how='left').merge(Recency_[['結帳日期','帳戶名稱']], on='帳戶名稱', how='left')\n",
    "menu.columns = ['帳戶名稱','max','mean','med','Money','Recency']\n",
    "pjc_data = pd.merge(pjc_data,menu, on='帳戶名稱')\n",
    "pjc_data['Recency'] = pjc_data['Recency'].max()-pjc_data['Recency']"
   ]
  },
  {
   "cell_type": "code",
   "execution_count": null,
   "metadata": {},
   "outputs": [],
   "source": [
    "pjc_train = pjc_data[(pjc_data.結帳日期 < pd.to_datetime('2019-6-1')) & (pjc_data.結帳日期 >= pd.to_datetime('2017-1-1'))].reset_index(drop=True)\n",
    "pjc_test = pjc_data[(pjc_data.結帳日期 >= pd.to_datetime('2019-6-1')) & (pjc_data.結帳日期 < pd.to_datetime('2020-9-1'))].reset_index(drop=True)\n",
    "x = set(pd.DataFrame(pjc_train['帳戶名稱'].unique())[0])\n",
    "y = set(pd.DataFrame(pjc_test['帳戶名稱'].unique())[0])\n",
    "print(\"len of train:\", len(x), \" len of test:\", len(y))\n",
    "print(\"intersection: \",len(x.intersection(y)),\" difference: \", len(y.difference(x)))"
   ]
  },
  {
   "cell_type": "code",
   "execution_count": null,
   "metadata": {},
   "outputs": [],
   "source": [
    "pjc_data['Recency'] = pjc_data['Recency'].dt.days\n",
    "pjc_data.loc[pjc_data['NextPurchaseDay'].isnull(),'NextPurchaseDay'] = pjc_data['Recency']\n",
    "pjc_data['max'] = pjc_data['max'].fillna(1340)\n",
    "pjc_data['mean'] = pjc_data['mean'].fillna(1340)\n",
    "pjc_data['med'] = pjc_data['med'].fillna(1340)"
   ]
  },
  {
   "cell_type": "code",
   "execution_count": null,
   "metadata": {},
   "outputs": [],
   "source": [
    "def order_cluster(cluster_field_name, target_field_name,df,ascending):\n",
    "    new_cluster_field_name = 'new_' + cluster_field_name\n",
    "    df_new = df.groupby(cluster_field_name)[target_field_name].mean().reset_index()\n",
    "    df_new = df_new.sort_values(by=target_field_name,ascending=ascending).reset_index(drop=True)\n",
    "    df_new['index'] = df_new.index\n",
    "    df_final = pd.merge(df,df_new[[cluster_field_name,'index']], on=cluster_field_name)\n",
    "    df_final = df_final.drop([cluster_field_name],axis=1)\n",
    "    df_final = df_final.rename(columns={\"index\":cluster_field_name})\n",
    "    return df_final\n",
    "def goodness_of_variance_fit(array, classes):\n",
    "    # get the break points\n",
    "    classes = jenkspy.jenks_breaks(array, classes)\n",
    "\n",
    "    # do the actual classification\n",
    "    classified = np.array([classify(i, classes) for i in array])\n",
    "\n",
    "    # max value of zones\n",
    "    maxz = max(classified)\n",
    "\n",
    "    # nested list of zone indices\n",
    "    zone_indices = [[idx for idx, val in enumerate(classified) if zone + 1 == val] for zone in range(maxz)]\n",
    "\n",
    "    # sum of squared deviations from array mean\n",
    "    sdam = np.sum((array - array.mean()) ** 2)\n",
    "\n",
    "    # sorted polygon stats\n",
    "    array_sort = [np.array([array[index] for index in zone]) for zone in zone_indices]\n",
    "\n",
    "    # sum of squared deviations of class means\n",
    "    sdcm = sum([np.sum((classified - classified.mean()) ** 2) for classified in array_sort])\n",
    "\n",
    "    # goodness of variance fit\n",
    "    gvf = (sdam - sdcm) / sdam\n",
    "\n",
    "    return gvf\n",
    "\n",
    "def classify(value, breaks):\n",
    "    for i in range(1, len(breaks)):\n",
    "        if value < breaks[i]:\n",
    "            return i\n",
    "    return len(breaks) - 1"
   ]
  },
  {
   "cell_type": "code",
   "execution_count": null,
   "metadata": {},
   "outputs": [],
   "source": [
    "array_org = np.array(pjc_data[['Recency']].T)[0]\n",
    "list_GVF = [] \n",
    "gvf = 0.0\n",
    "nclasses = 2\n",
    "while gvf < .99:\n",
    "    gvf = goodness_of_variance_fit(array_org, nclasses)\n",
    "    print(nclasses,gvf)\n",
    "    list_GVF = list_GVF + [gvf]\n",
    "    nclasses += 1\n",
    "plt.figure()\n",
    "plt.xlim(2,len(list_GVF)+1)\n",
    "plt.plot([x+2 for x in range(len(list_GVF))], list_GVF)\n",
    "plt.plot([x+2 for x in range(len(list_GVF))], [0.95]*len(list_GVF))\n",
    "plt.xlabel(\"Number of cluster\")\n",
    "plt.show()\n",
    "bins = jenkspy.jenks_breaks(array_org, 6)\n",
    "labels = [x for x in range(len(bins)-1)]\n",
    "pjc_data['RecencyCluster'] = pd.cut(pjc_data['Recency'], bins=bins, labels=labels)\n",
    "pjc_data.groupby('RecencyCluster')['Recency'].describe()\n",
    "pjc_data = order_cluster('RecencyCluster', 'Recency',pjc_data,False)"
   ]
  },
  {
   "cell_type": "code",
   "execution_count": null,
   "metadata": {},
   "outputs": [],
   "source": [
    "array_org = np.array(pjc_data[['freq']].T)[0]\n",
    "list_GVF = [] \n",
    "gvf = 0.0\n",
    "nclasses = 2\n",
    "while gvf < .99 and nclasses<9:\n",
    "    gvf = goodness_of_variance_fit(array_org, nclasses)\n",
    "    print(nclasses,gvf)\n",
    "    list_GVF = list_GVF + [gvf]\n",
    "    nclasses += 1\n",
    "plt.figure()\n",
    "plt.xlim(2,len(list_GVF)+1)\n",
    "plt.plot([x+2 for x in range(len(list_GVF))], list_GVF)\n",
    "plt.plot([x+2 for x in range(len(list_GVF))], [0.95]*len(list_GVF))\n",
    "plt.xlabel(\"Number of cluster\")\n",
    "plt.show()\n",
    "bins = jenkspy.jenks_breaks(array_org, 6)\n",
    "labels = [x for x in range(len(bins)-1)]\n",
    "pjc_data['FrequencyCluster'] = pd.cut(pjc_data['freq'], bins=bins, labels=labels)\n",
    "pjc_data.groupby('FrequencyCluster')['freq'].describe()\n",
    "pjc_data = order_cluster('FrequencyCluster', 'freq',pjc_data,True)"
   ]
  },
  {
   "cell_type": "code",
   "execution_count": null,
   "metadata": {},
   "outputs": [],
   "source": [
    "array_org = np.array(pjc_data[['Money']].T)[0]\n",
    "list_GVF = [] \n",
    "gvf = 0.0\n",
    "nclasses = 2\n",
    "while gvf < .99 and nclasses<9:\n",
    "    gvf = goodness_of_variance_fit(array_org, nclasses)\n",
    "    print(nclasses,gvf)\n",
    "    list_GVF = list_GVF + [gvf]\n",
    "    nclasses += 1\n",
    "plt.figure()\n",
    "plt.xlim(2,len(list_GVF)+1)\n",
    "plt.plot([x+2 for x in range(len(list_GVF))], list_GVF)\n",
    "plt.plot([x+2 for x in range(len(list_GVF))], [0.95]*len(list_GVF))\n",
    "plt.xlabel(\"Number of cluster\")\n",
    "plt.show()\n",
    "bins = jenkspy.jenks_breaks(array_org, 6)\n",
    "labels = [x for x in range(len(bins)-1)]\n",
    "pjc_data['RevenueCluster'] = pd.cut(pjc_data['Money'], bins=bins, labels=labels)\n",
    "pjc_data.groupby('RevenueCluster')['Money'].describe()\n",
    "pjc_data = order_cluster('RevenueCluster', 'Money',pjc_data,True)"
   ]
  },
  {
   "cell_type": "code",
   "execution_count": null,
   "metadata": {},
   "outputs": [],
   "source": [
    "pjc_data.groupby('FrequencyCluster')['freq'].describe()"
   ]
  },
  {
   "cell_type": "code",
   "execution_count": null,
   "metadata": {},
   "outputs": [],
   "source": [
    "pjc_data.groupby('RecencyCluster')['freq'].describe()"
   ]
  },
  {
   "cell_type": "code",
   "execution_count": null,
   "metadata": {},
   "outputs": [],
   "source": [
    "pjc_data.groupby('RevenueCluster')['freq'].describe()"
   ]
  },
  {
   "cell_type": "code",
   "execution_count": null,
   "metadata": {},
   "outputs": [],
   "source": [
    "pjc_data['OverallScore'] = pjc_data['RecencyCluster'] + pjc_data['FrequencyCluster'] + pjc_data['RevenueCluster']"
   ]
  },
  {
   "cell_type": "code",
   "execution_count": null,
   "metadata": {},
   "outputs": [],
   "source": [
    "pjc_data.groupby('OverallScore')['Recency','freq','Money'].mean()"
   ]
  },
  {
   "cell_type": "code",
   "execution_count": null,
   "metadata": {},
   "outputs": [],
   "source": [
    "pjc_data['Segment'] = 'Low-Value'\n",
    "pjc_data.loc[pjc_data['OverallScore']>3,'Segment'] = 'Mid-Value' \n",
    "pjc_data.loc[pjc_data['OverallScore']>7,'Segment'] = 'High-Value' "
   ]
  },
  {
   "cell_type": "code",
   "execution_count": null,
   "metadata": {},
   "outputs": [],
   "source": [
    "pjc_data[pjc_data['客戶自主下單']>1]=1\n",
    "del pjc_data['循環天數']"
   ]
  },
  {
   "cell_type": "code",
   "execution_count": null,
   "metadata": {},
   "outputs": [],
   "source": [
    "tx_j = pd.read_csv('jijoan.csv')\n",
    "tx_j = tx_j.drop(['Unnamed: 0','Unnamed: 0.1'],axis=1)\n",
    "menu = tx_j.groupby(['帳戶名稱','cust_rank','分級']).nunique().reset_index(level = ['帳戶名稱','cust_rank','分級'])\n",
    "pjc_data = pd.merge(pjc_data,menu[['帳戶名稱','cust_rank','分級']], on='帳戶名稱')"
   ]
  },
  {
   "cell_type": "code",
   "execution_count": null,
   "metadata": {},
   "outputs": [],
   "source": [
    "pjc_data.nunique()"
   ]
  },
  {
   "cell_type": "code",
   "execution_count": null,
   "metadata": {},
   "outputs": [],
   "source": [
    "pjc_data.info()"
   ]
  },
  {
   "cell_type": "code",
   "execution_count": null,
   "metadata": {},
   "outputs": [],
   "source": [
    "pjc_data.to_csv('pjc_data.csv',index_label=False)"
   ]
  },
  {
   "cell_type": "code",
   "execution_count": null,
   "metadata": {},
   "outputs": [],
   "source": []
  }
 ],
 "metadata": {
  "kernelspec": {
   "display_name": "Python 3",
   "language": "python",
   "name": "python3"
  },
  "language_info": {
   "codemirror_mode": {
    "name": "ipython",
    "version": 3
   },
   "file_extension": ".py",
   "mimetype": "text/x-python",
   "name": "python",
   "nbconvert_exporter": "python",
   "pygments_lexer": "ipython3",
   "version": "3.7.4"
  }
 },
 "nbformat": 4,
 "nbformat_minor": 2
}
